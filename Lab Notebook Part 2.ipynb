{
 "cells": [
  {
   "cell_type": "markdown",
   "metadata": {},
   "source": [
    "This is a new notebook since the old one is getting super slow. Cells to always run:"
   ]
  },
  {
   "cell_type": "code",
   "execution_count": 5,
   "metadata": {
    "collapsed": false
   },
   "outputs": [],
   "source": [
    "import pandas as pd\n",
    "import re\n",
    "import matplotlib.pyplot as plt\n",
    "from astropy.io import fits\n",
    "from ast import literal_eval\n",
    "import numpy as np\n",
    "import math as m\n",
    "import os\n",
    "%matplotlib inline\n",
    "\n",
    "from IPython.core.interactiveshell import InteractiveShell\n",
    "InteractiveShell.ast_node_interactivity = \"all\"\n",
    "\n",
    "from math import log10\n",
    "\n",
    "def m(f):\n",
    "    \"\"\"\n",
    "    calculate the apparent/instrumental magnitude through a given filter.\n",
    "    \n",
    "    :param f: the flux through that particular filter.\n",
    "    \"\"\"\n",
    "    return round(-2.5*log10(f),2)\n",
    "\n",
    "\n",
    "def bv(flux_b, flux_v, zp_blue, zp_visual):\n",
    "    \"\"\"\n",
    "    calculate and return a magnitude difference, i.e. the B-V index, for two images\n",
    "    \n",
    "    :param flux_b: flux through the bluer filter\n",
    "    :param flux_v: flux through the visual filter\n",
    "    \"\"\"\n",
    "\n",
    "    m_blue = -2.5 * log10(flux_b) + zp_blue\n",
    "    m_visual = -2.5 * log10(flux_v) + zp_visual\n",
    "    return round(m_blue - m_visual, 2)"
   ]
  },
  {
   "cell_type": "markdown",
   "metadata": {},
   "source": [
    "# 18 April 2017\n",
    "\n",
    "3:00 pm\n",
    "\n",
    "Continuing on from yesterday, trying to fix the calculation of ratios for the moon set from April 10.\n",
    "\n",
    "Ok fixed it. So, if I get the error 'img_metadata referenced before assignment', the likely culprit is that the photometry file is just accidentally empty, so `do_photometry()` just needs to be rerun.\n",
    "\n",
    "3:30 pm\n"
   ]
  },
  {
   "cell_type": "code",
   "execution_count": 63,
   "metadata": {
    "collapsed": false
   },
   "outputs": [
    {
     "ename": "IOError",
     "evalue": "File /home/emc/GoogleDrive/Phys/Research/BothunLab/SkyPhotos/NewCamera/10April2017_MOON/set1/FR_B-V_82a-11.csv does not exist",
     "output_type": "error",
     "traceback": [
      "\u001b[0;31m---------------------------------------------------------------------------\u001b[0m",
      "\u001b[0;31mIOError\u001b[0m                                   Traceback (most recent call last)",
      "\u001b[0;32m<ipython-input-63-83f7c6def170>\u001b[0m in \u001b[0;36m<module>\u001b[0;34m()\u001b[0m\n\u001b[1;32m      1\u001b[0m \u001b[0;31m# Open the dataframe for reading\u001b[0m\u001b[0;34m\u001b[0m\u001b[0;34m\u001b[0m\u001b[0m\n\u001b[1;32m      2\u001b[0m \u001b[0mdffile\u001b[0m \u001b[0;34m=\u001b[0m \u001b[0;34m'/home/emc/GoogleDrive/Phys/Research/BothunLab/SkyPhotos/NewCamera/10April2017_MOON/set1/FR_B-V_82a-11.csv'\u001b[0m\u001b[0;34m\u001b[0m\u001b[0m\n\u001b[0;32m----> 3\u001b[0;31m \u001b[0mB_V_df\u001b[0m \u001b[0;34m=\u001b[0m \u001b[0mpd\u001b[0m\u001b[0;34m.\u001b[0m\u001b[0mread_csv\u001b[0m\u001b[0;34m(\u001b[0m\u001b[0mdffile\u001b[0m\u001b[0;34m)\u001b[0m\u001b[0;34m\u001b[0m\u001b[0m\n\u001b[0m\u001b[1;32m      4\u001b[0m \u001b[0;34m\u001b[0m\u001b[0m\n\u001b[1;32m      5\u001b[0m \u001b[0mgood\u001b[0m \u001b[0;34m=\u001b[0m \u001b[0mB_V_df\u001b[0m\u001b[0;34m.\u001b[0m\u001b[0mloc\u001b[0m\u001b[0;34m[\u001b[0m\u001b[0mB_V_df\u001b[0m\u001b[0;34m[\u001b[0m\u001b[0;34m'B-V'\u001b[0m\u001b[0;34m]\u001b[0m \u001b[0;34m!=\u001b[0m \u001b[0;34m-\u001b[0m\u001b[0;36m9999\u001b[0m\u001b[0;34m]\u001b[0m\u001b[0;34m\u001b[0m\u001b[0m\n",
      "\u001b[0;32m/home/emc/anaconda3/envs/astroconda/lib/python2.7/site-packages/pandas/io/parsers.pyc\u001b[0m in \u001b[0;36mparser_f\u001b[0;34m(filepath_or_buffer, sep, delimiter, header, names, index_col, usecols, squeeze, prefix, mangle_dupe_cols, dtype, engine, converters, true_values, false_values, skipinitialspace, skiprows, skipfooter, nrows, na_values, keep_default_na, na_filter, verbose, skip_blank_lines, parse_dates, infer_datetime_format, keep_date_col, date_parser, dayfirst, iterator, chunksize, compression, thousands, decimal, lineterminator, quotechar, quoting, escapechar, comment, encoding, dialect, tupleize_cols, error_bad_lines, warn_bad_lines, skip_footer, doublequote, delim_whitespace, as_recarray, compact_ints, use_unsigned, low_memory, buffer_lines, memory_map, float_precision)\u001b[0m\n\u001b[1;32m    560\u001b[0m                     skip_blank_lines=skip_blank_lines)\n\u001b[1;32m    561\u001b[0m \u001b[0;34m\u001b[0m\u001b[0m\n\u001b[0;32m--> 562\u001b[0;31m         \u001b[0;32mreturn\u001b[0m \u001b[0m_read\u001b[0m\u001b[0;34m(\u001b[0m\u001b[0mfilepath_or_buffer\u001b[0m\u001b[0;34m,\u001b[0m \u001b[0mkwds\u001b[0m\u001b[0;34m)\u001b[0m\u001b[0;34m\u001b[0m\u001b[0m\n\u001b[0m\u001b[1;32m    563\u001b[0m \u001b[0;34m\u001b[0m\u001b[0m\n\u001b[1;32m    564\u001b[0m     \u001b[0mparser_f\u001b[0m\u001b[0;34m.\u001b[0m\u001b[0m__name__\u001b[0m \u001b[0;34m=\u001b[0m \u001b[0mname\u001b[0m\u001b[0;34m\u001b[0m\u001b[0m\n",
      "\u001b[0;32m/home/emc/anaconda3/envs/astroconda/lib/python2.7/site-packages/pandas/io/parsers.pyc\u001b[0m in \u001b[0;36m_read\u001b[0;34m(filepath_or_buffer, kwds)\u001b[0m\n\u001b[1;32m    313\u001b[0m \u001b[0;34m\u001b[0m\u001b[0m\n\u001b[1;32m    314\u001b[0m     \u001b[0;31m# Create the parser.\u001b[0m\u001b[0;34m\u001b[0m\u001b[0;34m\u001b[0m\u001b[0m\n\u001b[0;32m--> 315\u001b[0;31m     \u001b[0mparser\u001b[0m \u001b[0;34m=\u001b[0m \u001b[0mTextFileReader\u001b[0m\u001b[0;34m(\u001b[0m\u001b[0mfilepath_or_buffer\u001b[0m\u001b[0;34m,\u001b[0m \u001b[0;34m**\u001b[0m\u001b[0mkwds\u001b[0m\u001b[0;34m)\u001b[0m\u001b[0;34m\u001b[0m\u001b[0m\n\u001b[0m\u001b[1;32m    316\u001b[0m \u001b[0;34m\u001b[0m\u001b[0m\n\u001b[1;32m    317\u001b[0m     \u001b[0;32mif\u001b[0m \u001b[0;34m(\u001b[0m\u001b[0mnrows\u001b[0m \u001b[0;32mis\u001b[0m \u001b[0;32mnot\u001b[0m \u001b[0mNone\u001b[0m\u001b[0;34m)\u001b[0m \u001b[0;32mand\u001b[0m \u001b[0;34m(\u001b[0m\u001b[0mchunksize\u001b[0m \u001b[0;32mis\u001b[0m \u001b[0;32mnot\u001b[0m \u001b[0mNone\u001b[0m\u001b[0;34m)\u001b[0m\u001b[0;34m:\u001b[0m\u001b[0;34m\u001b[0m\u001b[0m\n",
      "\u001b[0;32m/home/emc/anaconda3/envs/astroconda/lib/python2.7/site-packages/pandas/io/parsers.pyc\u001b[0m in \u001b[0;36m__init__\u001b[0;34m(self, f, engine, **kwds)\u001b[0m\n\u001b[1;32m    643\u001b[0m             \u001b[0mself\u001b[0m\u001b[0;34m.\u001b[0m\u001b[0moptions\u001b[0m\u001b[0;34m[\u001b[0m\u001b[0;34m'has_index_names'\u001b[0m\u001b[0;34m]\u001b[0m \u001b[0;34m=\u001b[0m \u001b[0mkwds\u001b[0m\u001b[0;34m[\u001b[0m\u001b[0;34m'has_index_names'\u001b[0m\u001b[0;34m]\u001b[0m\u001b[0;34m\u001b[0m\u001b[0m\n\u001b[1;32m    644\u001b[0m \u001b[0;34m\u001b[0m\u001b[0m\n\u001b[0;32m--> 645\u001b[0;31m         \u001b[0mself\u001b[0m\u001b[0;34m.\u001b[0m\u001b[0m_make_engine\u001b[0m\u001b[0;34m(\u001b[0m\u001b[0mself\u001b[0m\u001b[0;34m.\u001b[0m\u001b[0mengine\u001b[0m\u001b[0;34m)\u001b[0m\u001b[0;34m\u001b[0m\u001b[0m\n\u001b[0m\u001b[1;32m    646\u001b[0m \u001b[0;34m\u001b[0m\u001b[0m\n\u001b[1;32m    647\u001b[0m     \u001b[0;32mdef\u001b[0m \u001b[0mclose\u001b[0m\u001b[0;34m(\u001b[0m\u001b[0mself\u001b[0m\u001b[0;34m)\u001b[0m\u001b[0;34m:\u001b[0m\u001b[0;34m\u001b[0m\u001b[0m\n",
      "\u001b[0;32m/home/emc/anaconda3/envs/astroconda/lib/python2.7/site-packages/pandas/io/parsers.pyc\u001b[0m in \u001b[0;36m_make_engine\u001b[0;34m(self, engine)\u001b[0m\n\u001b[1;32m    797\u001b[0m     \u001b[0;32mdef\u001b[0m \u001b[0m_make_engine\u001b[0m\u001b[0;34m(\u001b[0m\u001b[0mself\u001b[0m\u001b[0;34m,\u001b[0m \u001b[0mengine\u001b[0m\u001b[0;34m=\u001b[0m\u001b[0;34m'c'\u001b[0m\u001b[0;34m)\u001b[0m\u001b[0;34m:\u001b[0m\u001b[0;34m\u001b[0m\u001b[0m\n\u001b[1;32m    798\u001b[0m         \u001b[0;32mif\u001b[0m \u001b[0mengine\u001b[0m \u001b[0;34m==\u001b[0m \u001b[0;34m'c'\u001b[0m\u001b[0;34m:\u001b[0m\u001b[0;34m\u001b[0m\u001b[0m\n\u001b[0;32m--> 799\u001b[0;31m             \u001b[0mself\u001b[0m\u001b[0;34m.\u001b[0m\u001b[0m_engine\u001b[0m \u001b[0;34m=\u001b[0m \u001b[0mCParserWrapper\u001b[0m\u001b[0;34m(\u001b[0m\u001b[0mself\u001b[0m\u001b[0;34m.\u001b[0m\u001b[0mf\u001b[0m\u001b[0;34m,\u001b[0m \u001b[0;34m**\u001b[0m\u001b[0mself\u001b[0m\u001b[0;34m.\u001b[0m\u001b[0moptions\u001b[0m\u001b[0;34m)\u001b[0m\u001b[0;34m\u001b[0m\u001b[0m\n\u001b[0m\u001b[1;32m    800\u001b[0m         \u001b[0;32melse\u001b[0m\u001b[0;34m:\u001b[0m\u001b[0;34m\u001b[0m\u001b[0m\n\u001b[1;32m    801\u001b[0m             \u001b[0;32mif\u001b[0m \u001b[0mengine\u001b[0m \u001b[0;34m==\u001b[0m \u001b[0;34m'python'\u001b[0m\u001b[0;34m:\u001b[0m\u001b[0;34m\u001b[0m\u001b[0m\n",
      "\u001b[0;32m/home/emc/anaconda3/envs/astroconda/lib/python2.7/site-packages/pandas/io/parsers.pyc\u001b[0m in \u001b[0;36m__init__\u001b[0;34m(self, src, **kwds)\u001b[0m\n\u001b[1;32m   1211\u001b[0m         \u001b[0mkwds\u001b[0m\u001b[0;34m[\u001b[0m\u001b[0;34m'allow_leading_cols'\u001b[0m\u001b[0;34m]\u001b[0m \u001b[0;34m=\u001b[0m \u001b[0mself\u001b[0m\u001b[0;34m.\u001b[0m\u001b[0mindex_col\u001b[0m \u001b[0;32mis\u001b[0m \u001b[0;32mnot\u001b[0m \u001b[0mFalse\u001b[0m\u001b[0;34m\u001b[0m\u001b[0m\n\u001b[1;32m   1212\u001b[0m \u001b[0;34m\u001b[0m\u001b[0m\n\u001b[0;32m-> 1213\u001b[0;31m         \u001b[0mself\u001b[0m\u001b[0;34m.\u001b[0m\u001b[0m_reader\u001b[0m \u001b[0;34m=\u001b[0m \u001b[0m_parser\u001b[0m\u001b[0;34m.\u001b[0m\u001b[0mTextReader\u001b[0m\u001b[0;34m(\u001b[0m\u001b[0msrc\u001b[0m\u001b[0;34m,\u001b[0m \u001b[0;34m**\u001b[0m\u001b[0mkwds\u001b[0m\u001b[0;34m)\u001b[0m\u001b[0;34m\u001b[0m\u001b[0m\n\u001b[0m\u001b[1;32m   1214\u001b[0m \u001b[0;34m\u001b[0m\u001b[0m\n\u001b[1;32m   1215\u001b[0m         \u001b[0;31m# XXX\u001b[0m\u001b[0;34m\u001b[0m\u001b[0;34m\u001b[0m\u001b[0m\n",
      "\u001b[0;32mpandas/parser.pyx\u001b[0m in \u001b[0;36mpandas.parser.TextReader.__cinit__ (pandas/parser.c:3427)\u001b[0;34m()\u001b[0m\n",
      "\u001b[0;32mpandas/parser.pyx\u001b[0m in \u001b[0;36mpandas.parser.TextReader._setup_parser_source (pandas/parser.c:6861)\u001b[0;34m()\u001b[0m\n",
      "\u001b[0;31mIOError\u001b[0m: File /home/emc/GoogleDrive/Phys/Research/BothunLab/SkyPhotos/NewCamera/10April2017_MOON/set1/FR_B-V_82a-11.csv does not exist"
     ]
    }
   ],
   "source": [
    "# Open the dataframe for reading\n",
    "dffile = '/home/emc/GoogleDrive/Phys/Research/BothunLab/SkyPhotos/NewCamera/10April2017_MOON/set1/FR_B-V_82a-11.csv'\n",
    "B_V_df = pd.read_csv(dffile)\n",
    "\n",
    "good = B_V_df.loc[B_V_df['B-V'] != -9999]\n",
    "print(good['B-V'][:10])\n",
    "\n",
    "print('MAXIMUM B-V VALUE')\n",
    "print(good.max(numeric_only=True))\n",
    "print('MINIMUM B-V VALUE')\n",
    "print(good.min(numeric_only=True))"
   ]
  },
  {
   "cell_type": "code",
   "execution_count": null,
   "metadata": {
    "collapsed": false
   },
   "outputs": [],
   "source": [
    "# Get FITS data and save for using in matplotlib ===========================\n",
    "default = '/home/emc/GoogleDrive/Phys/Research/BothunLab/SkyPhotos/NewCamera'\n",
    "dir_extN = '10April2017_MOON/set1/0.7millisec/None'\n",
    "imgN = '22-33-48-946.FIT'\n",
    "pathN = '/'.join([default, dir_extN, imgN])\n",
    "img_fileN = pathN if pathN[-4:] == '.FIT' else pathN + '.FIT'\n",
    "hdu_list = fits.open(img_fileN)\n",
    "hdu_list.info()\n",
    "image_data = hdu_list[0].data\n",
    "hdu_list.close()"
   ]
  },
  {
   "cell_type": "code",
   "execution_count": null,
   "metadata": {
    "collapsed": false
   },
   "outputs": [],
   "source": [
    "%%capture \n",
    "cutoffs = [-3, -2, -1, 0, 1, 2, 3]\n",
    "filters = '82a and 11'\n",
    "\n",
    "for i in range(len(cutoffs) -1):\n",
    "    # create plot with image as background\n",
    "    fig1 = plt.figure(figsize=(16, 12))\n",
    "    ax1 = fig1.add_subplot(111)\n",
    "    plt.imshow(image_data, cmap='gray')\n",
    "    ax1.set_autoscale_on(False)\n",
    "\n",
    "    # iterate over the rows\n",
    "    p = 0\n",
    "    pt = []\n",
    "    for index, row in good.iterrows():\n",
    "        if cutoffs[i] < row['B-V'] < cutoffs[i+1]:\n",
    "            # collect the vertices for the boxes\n",
    "            r1 = literal_eval(row['v1'])\n",
    "            r2 = literal_eval(row['v2'])\n",
    "            r3 = literal_eval(row['v3'])\n",
    "            r4 = literal_eval(row['v4'])\n",
    "\n",
    "            # including the 1st point at the end again allows the boxes to be closed\n",
    "            x = np.array([r1[0], r2[0], r3[0], r4[0], r1[0]])\n",
    "            y = np.array([r1[1], r2[1], r3[1], r4[1], r1[1]])\n",
    "\n",
    "             # ax.scatter(x, y, c='lime') # toggle to turn on plotting vertices\n",
    "            color = np.random.rand(3,1)\n",
    "            ax1.plot(x, y, c=color, label=p)\n",
    "            pt.append([p, row['B-V'], [r1, r2, r3, r4], color])\n",
    "            p += 1\n",
    "\n",
    "    ax1.set_title('B-V values between {} and {} for filters {}'.format(cutoffs[i], cutoffs[i+1], filters), fontsize=20)\n",
    "    ax1.get_xaxis().set_visible(False)\n",
    "    ax1.get_yaxis().set_visible(False)\n",
    "    #plt.legend()\n",
    "    plt.show()"
   ]
  },
  {
   "cell_type": "markdown",
   "metadata": {},
   "source": [
    "3:47 pm\n",
    "\n",
    "Hmm, this isn't really helpful...  in this case it looks like most of the moon has a B-V value between 0 and 1, but part of it is below 0. Below 0 means bluer, above means redder. This is in opposition to what I got in the other moon set. Is maybe the moon not a good candidate for calculating flux ratio? Maybe there's not a large enough area? Maybe I do need to take short-length exposures of the sun as Greg suggested.\n",
    "\n",
    "It's unfortunately not sunny right now but it was earlier, so it may come back out. In the meantime maybe I can look at flux ratios of some clouds to see what those look like in general."
   ]
  },
  {
   "cell_type": "markdown",
   "metadata": {},
   "source": [
    "## B-V plots for 3 January, set 1, 82a to 11"
   ]
  },
  {
   "cell_type": "code",
   "execution_count": null,
   "metadata": {
    "collapsed": false
   },
   "outputs": [],
   "source": [
    "# Open the dataframe for reading\n",
    "dffile = '/home/emc/GoogleDrive/Phys/Research/BothunLab/SkyPhotos/NewCamera/3January2017/set1/FR_B-V_82a-11.csv'\n",
    "B_V_df = pd.read_csv(dffile)\n",
    "\n",
    "good = B_V_df.loc[B_V_df['B-V'] != -9999]\n",
    "print(good['B-V'][:10])\n",
    "\n",
    "print('MAXIMUM B-V VALUE')\n",
    "print(good.max(numeric_only=True))\n",
    "print('MINIMUM B-V VALUE')\n",
    "print(good.min(numeric_only=True))"
   ]
  },
  {
   "cell_type": "code",
   "execution_count": null,
   "metadata": {
    "collapsed": true
   },
   "outputs": [],
   "source": [
    "# Get FITS data and save for using in matplotlib ===========================\n",
    "default = '/home/emc/GoogleDrive/Phys/Research/BothunLab/SkyPhotos/NewCamera'\n",
    "dir_extN = '3January2017/set1/none/200microsec'\n",
    "imgN = '21-6-57-919.FIT'\n",
    "pathN = '/'.join([default, dir_extN, imgN])\n",
    "img_fileN = pathN if pathN[-4:] == '.FIT' else pathN + '.FIT'\n",
    "hdu_list = fits.open(img_fileN)\n",
    "hdu_list.info()\n",
    "image_data = hdu_list[0].data\n",
    "hdu_list.close()\n",
    "\n",
    "cutoffs = [-5, -4, -3, -2, -1, 0, 1, 2, 3, 4, 5]\n",
    "filters = '82a and 11'\n",
    "\n",
    "for i in range(len(cutoffs) -1):\n",
    "    # create plot with image as background\n",
    "    fig1 = plt.figure(figsize=(16, 12))\n",
    "    ax1 = fig1.add_subplot(111)\n",
    "    plt.imshow(image_data, cmap='gray')\n",
    "    ax1.set_autoscale_on(False)\n",
    "\n",
    "    # iterate over the rows\n",
    "    p = 0\n",
    "    pt = []\n",
    "    color = np.random.rand(3,1)\n",
    "    for index, row in good.iterrows():\n",
    "        if cutoffs[i] < row['B-V'] < cutoffs[i+1]:\n",
    "            # collect the vertices for the boxes\n",
    "            r1 = literal_eval(row['v1'])\n",
    "            r2 = literal_eval(row['v2'])\n",
    "            r3 = literal_eval(row['v3'])\n",
    "            r4 = literal_eval(row['v4'])\n",
    "\n",
    "            # including the 1st point at the end again allows the boxes to be closed\n",
    "            x = np.array([r1[0], r2[0], r3[0], r4[0], r1[0]])\n",
    "            y = np.array([r1[1], r2[1], r3[1], r4[1], r1[1]])\n",
    "\n",
    "             # ax.scatter(x, y, c='lime') # toggle to turn on plotting vertices\n",
    "            ax1.plot(x, y, c=color, label=p)\n",
    "            pt.append([p, row['B-V'], [r1, r2, r3, r4], color])\n",
    "            p += 1\n",
    "\n",
    "    ax1.set_title('B-V values between {} and {} for filters {}, 3 Jan'.format(cutoffs[i], cutoffs[i+1], filters), fontsize=20)\n",
    "    ax1.get_xaxis().set_visible(False)\n",
    "    ax1.get_yaxis().set_visible(False)\n",
    "    #plt.legend()\n",
    "    plt.show()"
   ]
  },
  {
   "cell_type": "markdown",
   "metadata": {},
   "source": [
    "Interesting--there's a result where it's between 0 and 1 for the bulk of the cloud."
   ]
  },
  {
   "cell_type": "markdown",
   "metadata": {},
   "source": [
    "## B-V plots for 3 January, set 2, 82a to 11"
   ]
  },
  {
   "cell_type": "code",
   "execution_count": null,
   "metadata": {
    "collapsed": false
   },
   "outputs": [],
   "source": [
    "# Open the dataframe for reading\n",
    "dffile = '/home/emc/GoogleDrive/Phys/Research/BothunLab/SkyPhotos/NewCamera/3January2017/set2/FR_B-V_82a-11.csv'\n",
    "B_V_df = pd.read_csv(dffile)\n",
    "\n",
    "good = B_V_df.loc[B_V_df['B-V'] != -9999]\n",
    "print(good['B-V'][:10])\n",
    "\n",
    "print('MAXIMUM B-V VALUE')\n",
    "print(good.max(numeric_only=True))\n",
    "print('MINIMUM B-V VALUE')\n",
    "print(good.min(numeric_only=True))"
   ]
  },
  {
   "cell_type": "code",
   "execution_count": null,
   "metadata": {
    "collapsed": false
   },
   "outputs": [],
   "source": [
    "%%capture \n",
    "# Get FITS data and save for using in matplotlib ===========================\n",
    "default = '/home/emc/GoogleDrive/Phys/Research/BothunLab/SkyPhotos/NewCamera'\n",
    "dir_extN = '3January2017/set2/none/250microsec'\n",
    "imgN = '21-17-21-228.FIT'\n",
    "pathN = '/'.join([default, dir_extN, imgN])\n",
    "img_fileN = pathN if pathN[-4:] == '.FIT' else pathN + '.FIT'\n",
    "hdu_list = fits.open(img_fileN)\n",
    "hdu_list.info()\n",
    "image_data = hdu_list[0].data\n",
    "hdu_list.close()\n",
    "\n",
    "cutoffs = [-5, -4, -3, -2, -1, 0, 1, 2, 3, 4, 5, 6]\n",
    "filters = '82a and 11'\n",
    "\n",
    "for i in range(len(cutoffs) -1):\n",
    "    # create plot with image as background\n",
    "    fig1 = plt.figure(figsize=(16, 12))\n",
    "    ax1 = fig1.add_subplot(111)\n",
    "    plt.imshow(image_data, cmap='gray')\n",
    "    ax1.set_autoscale_on(False)\n",
    "\n",
    "    # iterate over the rows\n",
    "    p = 0\n",
    "    pt = []\n",
    "    color = np.random.rand(3,1)\n",
    "    for index, row in good.iterrows():\n",
    "        if cutoffs[i] < row['B-V'] < cutoffs[i+1]:\n",
    "            # collect the vertices for the boxes\n",
    "            r1 = literal_eval(row['v1'])\n",
    "            r2 = literal_eval(row['v2'])\n",
    "            r3 = literal_eval(row['v3'])\n",
    "            r4 = literal_eval(row['v4'])\n",
    "\n",
    "            # including the 1st point at the end again allows the boxes to be closed\n",
    "            x = np.array([r1[0], r2[0], r3[0], r4[0], r1[0]])\n",
    "            y = np.array([r1[1], r2[1], r3[1], r4[1], r1[1]])\n",
    "\n",
    "             # ax.scatter(x, y, c='lime') # toggle to turn on plotting vertices\n",
    "            ax1.plot(x, y, c=color, label=p)\n",
    "            pt.append([p, row['B-V'], [r1, r2, r3, r4], color])\n",
    "            p += 1\n",
    "\n",
    "    ax1.set_title('B-V values between {} and {} for filters {}, 3 Jan'.format(cutoffs[i], cutoffs[i+1], filters), fontsize=20)\n",
    "    ax1.get_xaxis().set_visible(False)\n",
    "    ax1.get_yaxis().set_visible(False)\n",
    "    #plt.legend()\n",
    "    plt.show()"
   ]
  },
  {
   "cell_type": "markdown",
   "metadata": {},
   "source": [
    "The boxes are a little large compared to the resolution of the photo, but again, indicating a B-V between 0 and 1 for the cloud.\n",
    "\n",
    "4:21 pm\n",
    "\n",
    "Also emailed Bothun asking about level of precision for the B-V values."
   ]
  },
  {
   "cell_type": "code",
   "execution_count": null,
   "metadata": {
    "collapsed": false
   },
   "outputs": [],
   "source": [
    "# Open the dataframe for reading\n",
    "dffile = '/home/emc/GoogleDrive/Phys/Research/BothunLab/SkyPhotos/NewCamera/3January2017/set3/FR_B-V_82a-11.csv'\n",
    "B_V_df = pd.read_csv(dffile)\n",
    "\n",
    "good = B_V_df.loc[B_V_df['B-V'] != -9999]\n",
    "print(good['B-V'][:10])\n",
    "\n",
    "print('MAXIMUM B-V VALUE')\n",
    "print(good.max(numeric_only=True))\n",
    "print('MINIMUM B-V VALUE')\n",
    "print(good.min(numeric_only=True))"
   ]
  },
  {
   "cell_type": "markdown",
   "metadata": {},
   "source": [
    "## B-V plots for January 3, set 3, 82a to 11"
   ]
  },
  {
   "cell_type": "code",
   "execution_count": null,
   "metadata": {
    "collapsed": false
   },
   "outputs": [],
   "source": [
    "%%capture\n",
    "# Get FITS data and save for using in matplotlib ===========================\n",
    "default = '/home/emc/GoogleDrive/Phys/Research/BothunLab/SkyPhotos/NewCamera'\n",
    "dir_extN = '3January2017/set3/none/300microsec'\n",
    "imgN = '21-24-10-189.FIT'\n",
    "pathN = '/'.join([default, dir_extN, imgN])\n",
    "img_fileN = pathN if pathN[-4:] == '.FIT' else pathN + '.FIT'\n",
    "hdu_list = fits.open(img_fileN)\n",
    "hdu_list.info()\n",
    "image_data = hdu_list[0].data\n",
    "hdu_list.close()\n",
    "\n",
    "cutoffs = np.arange(-6,6,0.5)\n",
    "filters = '82a and 11'\n",
    "\n",
    "for i in range(len(cutoffs) -1):\n",
    "    # create plot with image as background\n",
    "    fig1 = plt.figure(figsize=(16, 12))\n",
    "    ax1 = fig1.add_subplot(111)\n",
    "    plt.imshow(image_data, cmap='gray')\n",
    "    ax1.set_autoscale_on(False)\n",
    "\n",
    "    # iterate over the rows\n",
    "    p = 0\n",
    "    pt = []\n",
    "    color = np.random.rand(3,1)\n",
    "    for index, row in good.iterrows():\n",
    "        if cutoffs[i] < row['B-V'] < cutoffs[i+1]:\n",
    "            # collect the vertices for the boxes\n",
    "            r1 = literal_eval(row['v1'])\n",
    "            r2 = literal_eval(row['v2'])\n",
    "            r3 = literal_eval(row['v3'])\n",
    "            r4 = literal_eval(row['v4'])\n",
    "\n",
    "            # including the 1st point at the end again allows the boxes to be closed\n",
    "            x = np.array([r1[0], r2[0], r3[0], r4[0], r1[0]])\n",
    "            y = np.array([r1[1], r2[1], r3[1], r4[1], r1[1]])\n",
    "\n",
    "             # ax.scatter(x, y, c='lime') # toggle to turn on plotting vertices\n",
    "            ax1.plot(x, y, c=color, label=p)\n",
    "            pt.append([p, row['B-V'], [r1, r2, r3, r4], color])\n",
    "            p += 1\n",
    "\n",
    "    ax1.set_title('B-V values between {} and {} for filters {}, 3 Jan'.format(cutoffs[i], cutoffs[i+1], filters), fontsize=20)\n",
    "    ax1.get_xaxis().set_visible(False)\n",
    "    ax1.get_yaxis().set_visible(False)\n",
    "    plt.show()"
   ]
  },
  {
   "cell_type": "markdown",
   "metadata": {},
   "source": [
    "5:00 pm\n",
    "\n",
    "Tried to take some sun photos but it hit behind the clouds again. The fastest exposure the camera can do is 1 microsec.\n",
    "    \n",
    "## To Do\n",
    "\n",
    "1. Think again about how to propagate error\n",
    "2. Make a list of B-V combinations of filters to investigate\n",
    "3. Investigate the above list in all sets\n",
    "4. Take sun photos\n",
    "5. Finally arrive at a flux ratio for moon/sun by examining both\n",
    "6. Figure out a way to determine cloud detection--perhaps it hinges more precisely on whether a box has a B-V value equal to that of the values for sunlight? This accounts for invisible clouds too\n",
    "7. Figure out a way to quantify how close the cloud B-V boxes have to be to the sunlight to count as valid"
   ]
  },
  {
   "cell_type": "markdown",
   "metadata": {
    "collapsed": true
   },
   "source": [
    "# 19 April 2017\n",
    "\n",
    "8:52 am\n",
    "\n",
    "## List of B-V filters to investigate\n",
    "\n",
    "From (in order of visual to blue, roughly):\n",
    "\n",
    "LRGBred, 15, 11, LRGBgreen, 82a, 47, LRGBblue\n",
    "\n",
    "Broad spectrum: LRGBluminance\n",
    "\n",
    "1. 82a-11\n",
    "2. 82a-15\n",
    "3. 82a-LRGBred\n",
    "4. 82a-LRGBgreen\n",
    "5. 47-11\n",
    "6. 47-15\n",
    "7. 47-LRGBred\n",
    "8. 47-LRGBgreen\n",
    "9. LRGBblue-LRGBred\n",
    "10. LRGBblue-15\n",
    "11. LRGBblue-11\n",
    "12. LRGBblue-LRGBgreen\n",
    "\n",
    "Here's what I found for the filter passbands\n",
    "\n",
    "## Filter passbands\n",
    "\n",
    "From an old paper ('Transmission of Wratten Filters', prepared for the Eastman Kodak Company)\n",
    "\n",
    "    11: 420 to 700 nm; dominant wavelength 550.3 nm\n",
    "    15: 510 to 700 nm; dominant wavelength 579.3\n",
    "    47: 400 to 500 nm; dominant wavelength 463.7 nm\n",
    "    82a: 400 to 700 nm; dominant wavelength 476.6\n",
    "\n",
    "\n",
    "from http://micro.magnet.fsu.edu/primer/photomicrography/bwfilterchart.html \n",
    "(transmittance over 10%):\n",
    "\n",
    "    47: 410-500 nm\n",
    "    15: 520+ \n",
    "\n",
    "LRGB filters (from http://www.telescope.com/assets/product_files/instructions/29321_02-09.pdf):\n",
    "\n",
    "    LRGBluminance: ~400-700 nm\n",
    "    LRGBred: ~620-690 nm\n",
    "    LRGBgreen: ~500-580 nm\n",
    "    LRGBblue: ~380-525 nm\n"
   ]
  },
  {
   "cell_type": "code",
   "execution_count": 2,
   "metadata": {
    "collapsed": false
   },
   "outputs": [
    {
     "data": {
      "image/png": "[encoded data removed]",
      "text/plain": [
       "<matplotlib.figure.Figure at 0x7fb0f742ce90>"
      ]
     },
     "metadata": {},
     "output_type": "display_data"
    }
   ],
   "source": [
    "import numpy as np\n",
    "import matplotlib.pyplot as plt\n",
    "%matplotlib inline\n",
    "\n",
    "fig = plt.figure(figsize=(10,8))\n",
    "y = np.arange(0,8)\n",
    "order = ['LRGBred', '15', '11', 'LRGBgreen', '82a', '47', 'LRGBblue', 'LRGBluminance']\n",
    "x1 = [620, 510, 420, 500, 400, 400, 380, 400]\n",
    "x2 = [690, 700, 700, 580, 700, 500, 525, 700]\n",
    "\n",
    "# Map value to color\n",
    "color_mapper = np.vectorize(lambda x: {'LRGBred': 'red', '15': 'orange', '11': 'yellow', \n",
    "                                       'LRGBgreen': 'green', '82a': 'cyan', '47': 'purple',\n",
    "                                       'LRGBblue': 'blue', 'LRGBluminance': 'gray'}.get(x))\n",
    "\n",
    "# Plot a line for every line of data in your file\n",
    "plt.hlines(y, x1, x2, colors=color_mapper(order), label='1')\n",
    "plt.title('Wavelength transmission of filters', fontsize=20)\n",
    "plt.ylabel('Filter', fontsize=18)\n",
    "plt.xlabel('Wavelength (nm)', fontsize=18)\n",
    "plt.yticks(y, order, fontsize=14)\n",
    "plt.xticks(fontsize=14)\n",
    "plt.show()"
   ]
  },
  {
   "cell_type": "markdown",
   "metadata": {},
   "source": [
    "Looks like my estimation of which was redder and which was bluer was correct.\n",
    "\n",
    "9:45 am\n",
    "\n",
    "Okay, I think a good idea is to maybe build a file that lists the various things I need to generate plots of each B-V, so I can do it in batch."
   ]
  },
  {
   "cell_type": "code",
   "execution_count": null,
   "metadata": {
    "collapsed": false
   },
   "outputs": [],
   "source": [
    "test='FR_B-V_15-11.csv'\n",
    "import re\n",
    "test2 = re.sub('FR_B-V_', '', test)\n",
    "test3 = re.sub('.csv', '', test2)\n",
    "print(test3)\n",
    "result = re.search(r'.+(?=-)', test3).group(0)\n",
    "result2 = re.search(r'(?<=-).+', test3).group(0)\n",
    "print(result)\n",
    "print(result2)"
   ]
  },
  {
   "cell_type": "code",
   "execution_count": null,
   "metadata": {
    "collapsed": false
   },
   "outputs": [],
   "source": [
    "path = '/home/emc/GoogleDrive/Phys/Research/BothunLab/SkyPhotos/NewCamera/10April2017_MOON/set1/FR_B-V_15-11.csv'\n",
    "\n",
    "csvonly = re.search(r'FR.+.csv$', path).group(0)\n",
    "print(csvonly)"
   ]
  },
  {
   "cell_type": "code",
   "execution_count": null,
   "metadata": {
    "collapsed": false
   },
   "outputs": [],
   "source": [
    "setpath = re.search(r'.+(?=FR.+.csv$)', path).group(0)\n",
    "print(setpath)"
   ]
  },
  {
   "cell_type": "code",
   "execution_count": null,
   "metadata": {
    "collapsed": false
   },
   "outputs": [],
   "source": [
    "m1 = -5.3\n",
    "m2 = 6.2\n",
    "import math\n",
    "print(math.floor(m1))\n",
    "print(math.ceil(m2))"
   ]
  },
  {
   "cell_type": "markdown",
   "metadata": {},
   "source": [
    "10:50 am\n",
    "\n",
    "Okay, I didn't make the file of images and paths and stuff to do this in batch, but I did fully update the plotting script which needed to be done first. It still requires 3 manual inputs at the beginning but it now properly creates plots and places them into a nice folder that it makes if it doesn't exist yet. The folder is under the given set and is under plots/filter1-filter2. "
   ]
  },
  {
   "cell_type": "markdown",
   "metadata": {
    "collapsed": true
   },
   "source": [
    "# 22 April 2017\n",
    "\n",
    "notes from meeting with BOthun 2:30 pm\n",
    "\n",
    "Switched B-V in the flux ratio calculation\n",
    "\n",
    "B-V for daytime sky: ~ -0.3 per The Observer's SKy Atlas, Erich Kark...\n",
    "\n",
    "Clouds probably redder-- try some larger boxes.\n",
    "\n",
    "Thick clouds can be blueish -- from the naval academy paper\n",
    "\n",
    "To try: Open some images in DS9 and use the manual version of polyphot to draw polygons around the sky and around the cloud respectively and see what ballpark values we get.\n",
    "\n",
    "Moon: ~0.94 (Photometry of the Lunar Surface, Link)\n",
    "\n",
    "instrumental magnitude = -2.5 * log(cts) \n",
    "\n",
    "if know the real magnitude of the box, instrumental magnitude + zero point = real magnitude\n",
    "\n",
    "Need to find the zero points to be added to B and V so that when I do B-V I get -0.3 for the sky (or appropriate values for moon, sun etc)\n",
    "\n",
    "zero point should officially be independent of exposure time but for meit won't be because the instrumental magnitudes are different\n",
    "\n",
    "need to incorporate the zero point so that we can deal with B-V values instead of flux ratios. zero point a function of exposure time.\n",
    "\n",
    "Understanding zero point: http://www.stsci.edu/documents/dhb/web/c32_wfpc2dataanal.fm1.html\n",
    "\n",
    "Mean wavelengths for U, B, V: 364 nm for U, 442 nm for B, 540 nm for V. Sun value of 0.63 is based on these values.\n",
    "\n",
    "another link http://www.starlink.ac.uk/docs/sc17.htx/sc17se14.html\n",
    "\n",
    "looks very useful: http://image-analysis.readthedocs.io/en/latest/index.html\n",
    "\n",
    "3:30 pm"
   ]
  },
  {
   "cell_type": "markdown",
   "metadata": {
    "collapsed": true
   },
   "source": [
    "# 24 April 2017\n",
    "\n",
    "8:50 am\n",
    "\n",
    "To do:\n",
    "- Study zero point; need to take the counts from the photometry and turn into a magnitude so we can get the actual B-V value\n",
    "- For a variety of images, open them in DS9 and draw polygons over sky and cloud separately to get photometry. Then calculate flux ratios from there to get a better sense of B-V values in general.\n",
    "- Do the same for the moon photos--draw over the moon.\n",
    "- Take photos of sun\n",
    "\n",
    "\n",
    "\n"
   ]
  },
  {
   "cell_type": "markdown",
   "metadata": {},
   "source": [
    "10:00 am\n",
    "\n",
    "Finished doing MANUAL photometry around the moon in the 10 April data set. I did it this way:\n",
    "\n",
    "## How to do photometry for a manually drawn circular region\n",
    "\n",
    "1. Open image FIT file (manually using GUI because display command won't work for some reason) in DS9\n",
    "2. Draw a circular region around the moon. To do so, make sure Region > Shape > Circle is selected, then under Edit, select \"Region\".\n",
    "3. Run the polyphot commands, which are stored in the location: `/home/emc/GoogleDrive/Phys/Research/BothunLab/AnalysisFiles/10-April-2017_dataset`.\n",
    "4. When cursor starts blinking, press `g` to define a polygon. Use the spacebar to trace the circle drawn in DS9 (the circle is just there to make your polygon fairly accurate).\n",
    "5. When finished drawing polygon, press `q` to finish polygon. \n",
    "6. Press `j` to do the photometry of the polygon and send it to the log file.\n",
    "7. Press `q` again when DS9 in focus and then a second time with terminal in focus.\n",
    "\n",
    "Now I can just take the single report of counts and get the values for various combinations. Should also do this for the February moon data set to compare.\n",
    "\n",
    "I need to quickly go down to the science library to reserve a room but then I'll work on zero point."
   ]
  },
  {
   "cell_type": "markdown",
   "metadata": {},
   "source": [
    "10:12 am\n",
    "\n",
    "Now researching zeor point."
   ]
  },
  {
   "cell_type": "markdown",
   "metadata": {},
   "source": [
    "10:54 am\n",
    "    \n",
    "Quick calculation of B-V for some filters, using moon data."
   ]
  },
  {
   "cell_type": "code",
   "execution_count": 3,
   "metadata": {
    "collapsed": false
   },
   "outputs": [
    {
     "name": "stdout",
     "output_type": "stream",
     "text": [
      "apparent magnitude of moon (with no filter, 0.7 millisec): -12.07\n",
      "calibrated magnitude of moon, per Wikipedia, average value: -12.74\n",
      "zero point: -0.67\n",
      "\n",
      "Moon B-V values in various filters\n",
      "82a-11: -0.43\n",
      "82a-15: -0.86\n",
      "LRGBblue-LRGB red: -0.09\n",
      "47-11: 3.44\n"
     ]
    }
   ],
   "source": [
    "from math import log10\n",
    "\n",
    "def m(f):\n",
    "    \"\"\"\n",
    "    calculate the apparent/instrumental magnitude\n",
    "    \"\"\"\n",
    "    return round(-2.5*log10(f),2)\n",
    "\n",
    "# fluxes for each filter. Taken from photometries\n",
    "f11 = 40235.62\n",
    "f15 = 27105.91\n",
    "f47 = 1686.559\n",
    "f82a = 59647.08\n",
    "fred = 12812.36\n",
    "fgreen = 22084.62\n",
    "fblue = 13976.66\n",
    "flum = 60027.88\n",
    "fnone = 67539.54\n",
    "\n",
    "m_moon = m(fnone)  # apparent magnitude of moon\n",
    "print('apparent magnitude of moon (with no filter, 0.7 millisec): {}'.format(m_moon))\n",
    "print('calibrated magnitude of moon, per Wikipedia, average value: -12.74')\n",
    "zp = -12.74 - m_moon\n",
    "print('zero point: {}'.format(zp))\n",
    "\n",
    "def bv(f1, f2):\n",
    "    \"\"\"\n",
    "    calculate and return a magnitude difference, i.e. the B-V index, for two images\n",
    "    \"\"\"\n",
    "    m1 = -2.5 * log10(f1) + zp\n",
    "    m2 = -2.5 * log10(f2) + zp\n",
    "    return m1 - m2\n",
    "\n",
    "print\n",
    "print('Moon B-V values in various filters')\n",
    "print('82a-11: {}'.format(round(bv(f82a, f11), 2)))\n",
    "print('82a-15: {}'.format(round(bv(f82a, f15),2)))\n",
    "print('LRGBblue-LRGB red: {}'.format(round(bv(fblue, fred),2)))\n",
    "print('47-11: {}'.format(round(bv(f47, f11),2)))"
   ]
  },
  {
   "cell_type": "markdown",
   "metadata": {
    "collapsed": true
   },
   "source": [
    "# 25 April 2017\n",
    "\n",
    "2:00 pm\n",
    "\n",
    "Working on the code above from yesterday. Also: handy table of some apparent magnitudes; https://en.wikipedia.org/wiki/Apparent_magnitude\n",
    "\n",
    "2:55 pm\n",
    "\n",
    "Okay, it's looking fairly good. I have a zero point for 0.7 millisec. The problem is that Greg said zero point would be dependent on exposure and all the cloud pictures are at very different exposures, usually around 300 μs. But I think he also said not to worry about it...\n",
    "\n",
    "3:30\n",
    "\n",
    "BIG TABLE OF FILTER WAVELENGTHS https://en.wikipedia.org/wiki/Photometric_system\n",
    "\n",
    "A comparison:\n",
    "\n",
    "<table>\n",
    "<tr>\n",
    "<td colspan=4><b><center>UBV system</center></b></td>\n",
    "</tr>\n",
    "<tr>\n",
    "<td>B filter</td>\n",
    "<td>B filter FWHM</td>\n",
    "<td>V filter</td>\n",
    "<td>V filter FWHM</td>\n",
    "</tr>\n",
    "<tr>\n",
    "<td>445 nm</td>\n",
    "<td>94 nm</td>\n",
    "<td>551 nm</td>\n",
    "<td>88 nm</td>\n",
    "</tr>\n",
    "<tr>\n",
    "<td colspan=4><b><center>My system</center></b></td>\n",
    "</tr>\n",
    "<tr>\n",
    "<td>B filter (#47)</td>\n",
    "<td>B filter (#47) FWHM</td>\n",
    "<td>V filter (#11)</td>\n",
    "<td>V filter (#11) FWHM</td>\n",
    "</tr>\n",
    "<tr>\n",
    "<td>463 nm</td>\n",
    "<td>~60 nm</td>\n",
    "<td>550 nm</td>\n",
    "<td>~110 nm</td>\n",
    "</tr>\n",
    "</table>\n",
    "\n",
    "From http://www.telescope.com/assets/product_files/instructions/29538_02-15.pdf which are the stats for my filters FINALLY!!!!!\n",
    "\n",
    "Aahh yeah okay the widths are very different for the visual filter. If the visual filter has a much wider passband, it will have a much higher flux, meaning the B-V value is much... lower? But my 47-11 index for the moon is about 3 times as large as it should be. Hmm...\n",
    "\n",
    "4:00 pm\n",
    "\n",
    "Asked Elsa for what's going on. She confirmed what Greg said but I failed to write down-- B-V should not be negative unless measuring a super hot star. So why are my values negative??\n",
    "\n",
    "4:10 pm\n",
    "\n",
    "Just realized I've been using the counts including the sky for the entire project and I should have been using the flux instead! Need to adjust code to use the right counts, and re-calculate all flux ratios (fine because I had to do that anyway and haven't yet).\n",
    "\n",
    "4:23 pm\n",
    "\n",
    "Elsa says I need to get the zero points in every filter, also. I think it would look like this\n",
    "\n",
    "1. Find the apparent magnitude of moon through a single filter\n",
    "2. Compare to published value of moon in B or V\n",
    "3. Difference is zero point for that filter\n",
    "\n",
    "So now the challenge is finding the published moon magnitudes in the B and V filters...\n",
    "\n",
    "So far this paper looks the most promising:\n",
    "- http://articles.adsabs.harvard.edu/cgi-bin/nph-iarticle_query?1980AJ.....85..314C&amp;data_type=PDF_HIGH&amp;whole_paper=YES&amp;type=PRINTER&amp;filetype=.pdf\n",
    "\n",
    "It might also be in these:\n",
    "- http://articles.adsabs.harvard.edu/cgi-bin/nph-iarticle_query?1962AJ.....67..147V&defaultprint=YES&page_ind=3&filetype=.pdf\n",
    "- https://arxiv.org/pdf/1510.07574.pdf\n",
    "\n",
    "but now I'm super hungry and want to go home!\n",
    "\n",
    "5:00 pm"
   ]
  },
  {
   "cell_type": "markdown",
   "metadata": {
    "collapsed": true
   },
   "source": [
    "# 28 April 2017\n",
    "\n",
    "3:30 pm\n",
    "\n",
    "Found these values for moon color in this book https://books.google.com/books?hl=en&lr=&id=A883BQAAQBAJ&oi=fnd&pg=PA99&dq=moon+magnitude+in+visual+filter&ots=ckgWQGxmuw&sig=Qvnchx1iIfuEf0r6vappuwzMxc8#v=onepage&q=moon%20magnitude%20in%20visual%20filter&f=false\n",
    "\n",
    "<img src=\"nondata images/mooncolors.png\" />\n",
    "\n",
    "Trouble is those aren't the wavelengths I need..."
   ]
  },
  {
   "cell_type": "markdown",
   "metadata": {
    "collapsed": true
   },
   "source": [
    "4:30 pm\n",
    "\n",
    "I think I may have finally found one of the original papers on this matter. It's by Wildey, and specifically, he measured the photometry of 29 different sites on the moon:\n",
    "\n",
    "http://articles.adsabs.harvard.edu/cgi-bin/nph-iarticle_query?db_key=AST&bibcode=1964AJ.....69..619W&letter=0&classic=YES&defaultprint=YES&whole_paper=YES&page=619&epage=619&send=Send+PDF&filetype=.pdf\n",
    "\n",
    "A nicer labeled image of the sites is from <a href=\"http://articles.adsabs.harvard.edu/cgi-bin/nph-iarticle_query?db_key=AST&bibcode=1964AJ.....69..619W&letter=0&classic=YES&defaultprint=YES&whole_paper=YES&page=619&epage=619&send=Send+PDF&filetype=.pdf\">this paper</a> by Winifred Cameron:\n",
    "\n",
    "<img width=70% src=\"nondata images/moonsitelabels.png\" />\n",
    "    "
   ]
  },
  {
   "cell_type": "markdown",
   "metadata": {},
   "source": [
    "The data:\n",
    "\n",
    "5:00 pm"
   ]
  },
  {
   "cell_type": "markdown",
   "metadata": {},
   "source": [
    "# 2 May 2017\n",
    "\n",
    "3:00 pm\n",
    "\n",
    "Okay, I got hung up last time trying to get the data from the paper. Going to keep trying. Other things to do:\n",
    "\n",
    "1. Calculate zero points for all filters (divide them into groups, where one group is closer to 'B' and one to 'V')\n",
    "2. Recalculate B-V values for moon, sun\n",
    "3. Make sure am using correct counts (the Flux column)\n",
    "4. Recalculate B-V dataframes for specific combinations of filters on all data sets\n",
    "5. Plot cloud B-V values which match whatever the moon values are\n",
    "6. Determine if it all worked or not\n",
    "7. More pictures\n"
   ]
  },
  {
   "cell_type": "markdown",
   "metadata": {},
   "source": [
    "3:43 pm\n",
    "\n",
    "I FINALLY FOUND THE ORIGINAL ARTCILE. It's in French, the text does not have OCR, and it took half hour of sifting through mysterious French websites but I have it. Now to translate it to make sure I don't misunderstand.\n",
    "\n",
    "I found it by checking the article Greg found by Link, \"photometry of the lunar surface.\" Link gives the value 0.94 for the moon and cites Gallouet 1963, which is NOT discoverable via Google, Google Scholar or the library, even. It was a long process but at least the citation included the short name of the journal, Compt Rend Acad Sci Paris. Turns out this journal changed names and organization like 5 times in 100 years. Here's the site I found that explains and links to the organization for each time period:\n",
    "\n",
    "http://www.academie-sciences.fr/en/Transmettre-les-connaissances/comptes-rendus-de-l-academie-des-sciences-numerisees-sur-le-site-de-la-bibliotheque-nationale-de-france.html\n",
    "\n",
    "Anyway, the result is -12.75 ± 0.01 for the moon in the visual band. The B-V ratio is 0.94 so we just have to do a simple calculatino to get the B out."
   ]
  },
  {
   "cell_type": "code",
   "execution_count": 4,
   "metadata": {
    "collapsed": false
   },
   "outputs": [
    {
     "name": "stdout",
     "output_type": "stream",
     "text": [
      "-5.3642645119\n"
     ]
    }
   ],
   "source": [
    "from math import log10\n",
    "v = -12.75\n",
    "b_v = 0.94\n",
    "# solve b_v = -2.5 * log10(b/v) for b:\n",
    "b = (10**(b_v/(-2.5)))*v\n",
    "print(b)"
   ]
  },
  {
   "cell_type": "code",
   "execution_count": 5,
   "metadata": {
    "collapsed": false
   },
   "outputs": [
    {
     "data": {
      "text/plain": [
       "0.9400535389760317"
      ]
     },
     "execution_count": 5,
     "metadata": {},
     "output_type": "execute_result"
    }
   ],
   "source": [
    "b_v_calc = -2.5*log10(-5.364/-12.75)\n",
    "b_v_calc"
   ]
  },
  {
   "cell_type": "markdown",
   "metadata": {},
   "source": [
    "## Published magnitudes of moon in B, V bands\n",
    "At long last the published values of the moon in the UBV system are \n",
    "\n",
    "B = -5.36<br />\n",
    "V = -12.75"
   ]
  },
  {
   "cell_type": "code",
   "execution_count": 7,
   "metadata": {
    "collapsed": false
   },
   "outputs": [
    {
     "name": "stdout",
     "output_type": "stream",
     "text": [
      "Magnitude in visual filter: -12.75 (Gallouet 1963)\n",
      "B-V of moon: 0.94 (Gallouet 1963)\n",
      "Magnitude in blue filter: -5.3642645119 (calculated by solving the b-v equation for b)\n",
      "\n",
      "apparent magnitude of moon (our camera, with no filter, 0.7 millisec): -12.07\n",
      "\n",
      "Calculated zero point using published values and our measured moon magnitude\n",
      "blue: 6.7057354881, visual: -0.68\n",
      "\n",
      "Moon B-V values in various filters\n",
      "82a-11: 6.96\n",
      "82a-15: 6.53\n",
      "LRGBblue-LRGB red: 7.29\n",
      "47-11: 10.83\n",
      "LRGBblue-LRGBgreen: 7.88\n"
     ]
    }
   ],
   "source": [
    "from math import log10\n",
    "\n",
    "def m(f):\n",
    "    \"\"\"\n",
    "    calculate the apparent/instrumental magnitude\n",
    "    \"\"\"\n",
    "    return round(-2.5*log10(f),2)\n",
    "\n",
    "def bv(flux_b, flux_v):\n",
    "    \"\"\"\n",
    "    calculate and return a magnitude difference, i.e. the B-V index, for two images\n",
    "    flux_b: flux through the bluer filter\n",
    "    flux_v: flux through the visual filter\n",
    "    \"\"\"\n",
    "    m_blue = -2.5 * log10(flux_b) + zp_blue\n",
    "    m_visual = -2.5 * log10(flux_v) + zp_visual\n",
    "    return m_blue - m_visual\n",
    "\n",
    "from math import log10\n",
    "v = -12.75\n",
    "b_v = 0.94\n",
    "# solve b_v = -2.5 * log10(b/v) for b:\n",
    "b = (10**(b_v/(-2.5)))*v\n",
    "print('Magnitude in visual filter: {} (Gallouet 1963)'.format(v))\n",
    "print('B-V of moon: {} (Gallouet 1963)'.format(b_v))\n",
    "print('Magnitude in blue filter: {} (calculated by solving the b-v equation for b)'.format(b))\n",
    "print\n",
    "\n",
    "# fluxes for each filter. Taken from photometries\n",
    "f11 = 40235.62\n",
    "f15 = 27105.91\n",
    "f47 = 1686.559\n",
    "f82a = 59647.08\n",
    "fred = 12812.36\n",
    "fgreen = 22084.62\n",
    "fblue = 13976.66\n",
    "flum = 60027.88\n",
    "fnone = 67539.54\n",
    "\n",
    "m_moon = m(fnone)  # apparent magnitude of moon with no filter using our camera\n",
    "print('apparent magnitude of moon (our camera, with no filter, 0.7 millisec): {}'.format(m_moon))\n",
    "print\n",
    "# zero points\n",
    "zp_blue = b - m_moon\n",
    "zp_visual = v - m_moon\n",
    "print('Calculated zero point using published values and our measured moon magnitude')\n",
    "print('blue: {}, visual: {}'.format(zp_blue, zp_visual))\n",
    "\n",
    "print\n",
    "print('Moon B-V values in various filters')\n",
    "print('82a-11: {}'.format(round(bv(f82a, f11), 2)))\n",
    "print('82a-15: {}'.format(round(bv(f82a, f15),2)))\n",
    "print('LRGBblue-LRGB red: {}'.format(round(bv(fblue, fred),2)))\n",
    "print('47-11: {}'.format(round(bv(f47, f11),2)))\n",
    "print('LRGBblue-LRGBgreen: {}'.format(round(bv(fblue, fgreen), 2)))"
   ]
  },
  {
   "cell_type": "markdown",
   "metadata": {},
   "source": [
    "Well these values are definitely posiive but they should be smaller... we would think. Especially the value for 47-11 which is the closest thing I have to real B-V."
   ]
  },
  {
   "cell_type": "code",
   "execution_count": 8,
   "metadata": {
    "collapsed": false
   },
   "outputs": [
    {
     "name": "stdout",
     "output_type": "stream",
     "text": [
      "Ranges are for width at full width half max\n"
     ]
    },
    {
     "data": {
      "image/png": "[encoded data removed]",
      "text/plain": [
       "<matplotlib.figure.Figure at 0x7fb0f4d92250>"
      ]
     },
     "metadata": {},
     "output_type": "display_data"
    },
    {
     "data": {
      "image/png": "[encoded data removed]",
      "text/plain": [
       "<matplotlib.figure.Figure at 0x7fb0f4d33c10>"
      ]
     },
     "metadata": {},
     "output_type": "display_data"
    }
   ],
   "source": [
    "import numpy as np\n",
    "import matplotlib.pyplot as plt\n",
    "%matplotlib inline\n",
    "\n",
    "fig = plt.figure(figsize=(10,8))\n",
    "y = np.arange(0,8)\n",
    "order = ['LRGBred', '15', '11', 'LRGBgreen', '82a', '47', 'LRGBblue', 'LRGBluminance']\n",
    "x1 = [620, 520, 485, 500, 400, 410, 380, 380]\n",
    "x2 = [690, 700, 600, 580, 700, 470, 525, 680]\n",
    "\n",
    "# Map value to color\n",
    "color_mapper = np.vectorize(lambda x: {'LRGBred': 'red', '15': 'orange', '11': 'yellow', \n",
    "                                       'LRGBgreen': 'green', '82a': 'cyan', '47': 'purple',\n",
    "                                       'LRGBblue': 'blue', 'LRGBluminance': 'gray'}.get(x))\n",
    "\n",
    "print('Ranges are for width at full width half max')\n",
    "# Plot a line for every line of data in your file\n",
    "plt.hlines(y, x1, x2, colors=color_mapper(order), label='1')\n",
    "plt.title('Wavelength transmission of filters (our system)', fontsize=20)\n",
    "plt.ylabel('Filter', fontsize=18)\n",
    "plt.xlabel('Wavelength (nm)', fontsize=18)\n",
    "plt.yticks(y, order, fontsize=14)\n",
    "plt.xticks(fontsize=14)\n",
    "plt.show()\n",
    "\n",
    "fig2 = plt.figure(figsize=(10,8))\n",
    "y2 = np.arange(0,2)\n",
    "order_2 = ['B', 'V']\n",
    "x1_2 = [398, 507]\n",
    "x2_2 = [492, 595]\n",
    "\n",
    "# Map value to color\n",
    "color_mapper = np.vectorize(lambda x: {'B': 'blue', 'V': 'green'}.get(x))\n",
    "\n",
    "# Plot a line for every line of data in your file\n",
    "plt.hlines(y2, x1_2, x2_2, colors=color_mapper(order_2))\n",
    "plt.title('Wavelength transmission of filters (UBV)', fontsize=20)\n",
    "plt.ylabel('Filter', fontsize=18)\n",
    "plt.xlabel('Wavelength (nm)', fontsize=18)\n",
    "plt.yticks(y2, order_2, fontsize=14)\n",
    "plt.xticks(fontsize=14)\n",
    "plt.show()\n",
    "\n"
   ]
  },
  {
   "cell_type": "markdown",
   "metadata": {},
   "source": [
    "Looks like the LRGB blue and LRGB green filters are actually more similar to actual B and V filters. I've gone back and calculated their B-V value in my system above, which turns out to be: \n",
    "\n",
    "LRGBblue-LRGBgreen: 7.88\n",
    "\n",
    "This still seems high. I emailed Elsa for help.\n",
    "\n",
    "4:33 pm\n",
    "\n",
    "Nope, wait, I figured it out. I used the magnitude through the 'none' filter still instead of the correct filters. Need to do what I originally put in my todo list and calculate the zero point for EACH FREAKING FILTER. "
   ]
  },
  {
   "cell_type": "markdown",
   "metadata": {},
   "source": [
    "5:03 pm\n",
    "    \n",
    "Made some nicer versions of the plots above using HighCharts!\n",
    "\n",
    "<img src=\"nondata images/wavelengthrange_ours.png\" /> located at http://jsfiddle.net/etacarinae/eh9rj0rj/3/\n",
    "\n",
    "<img src=\"nondata images/wavelengthrange_ubv.png\" /> located at https://jsfiddle.net/etacarinae/spd7z2cn/\n",
    "\n"
   ]
  },
  {
   "cell_type": "markdown",
   "metadata": {},
   "source": [
    "5:15 pm\n",
    "\n",
    "Okay back to the work of calculating the real-ass zero points."
   ]
  },
  {
   "cell_type": "code",
   "execution_count": 9,
   "metadata": {
    "collapsed": false
   },
   "outputs": [
    {
     "name": "stdout",
     "output_type": "stream",
     "text": [
      "Magnitude in visual filter: -12.75\n",
      "B-V of moon: 0.94\n",
      "Magnitude in blue filter: -5.3642645119 (calculated)\n",
      "(Gallouet 1963)\n"
     ]
    }
   ],
   "source": [
    "from math import log10\n",
    "\n",
    "def m(f):\n",
    "    \"\"\"\n",
    "    calculate the apparent/instrumental magnitude through a given filter.\n",
    "    \n",
    "    :param f: the flux through that particular filter.\n",
    "    \"\"\"\n",
    "    return round(-2.5*log10(f),2)\n",
    "\n",
    "def bv(flux_b, flux_v, zp_blue, zp_visual):\n",
    "    \"\"\"\n",
    "    calculate and return a magnitude difference, i.e. the B-V index, for two images\n",
    "    \n",
    "    :param flux_b: flux through the bluer filter\n",
    "    :param flux_v: flux through the visual filter\n",
    "    \"\"\"\n",
    "\n",
    "    m_blue = -2.5 * log10(flux_b) + zp_blue\n",
    "    m_visual = -2.5 * log10(flux_v) + zp_visual\n",
    "    return round(m_blue - m_visual, 2)\n",
    "\n",
    "# Published values of v and b-v for the moon, and the b value derived from which.\n",
    "v = -12.75\n",
    "b_v = 0.94\n",
    "# solve b_v = -2.5 * log10(b/v) for b:\n",
    "b = (10**(b_v/(-2.5)))*v\n",
    "print('Magnitude in visual filter: {}'.format(v))\n",
    "print('B-V of moon: {}'.format(b_v))\n",
    "print('Magnitude in blue filter: {} (calculated)'.format(b))\n",
    "print('(Gallouet 1963)')\n",
    "\n",
    "# fluxes for each filter. Taken from photometries =============================================\n",
    "fnone = 67539.54\n",
    "\n",
    "# visual-er filters: filters with their dominant/central wavelength > 550 nm\n",
    "f11 = 40235.62\n",
    "f15 = 27105.91\n",
    "fred = 12812.36\n",
    "fgreen = 22084.62\n",
    "\n",
    "# bluer filters: filters with their dominant/central wavelength < 550 nm\n",
    "f47 = 1686.559\n",
    "f82a = 59647.08\n",
    "fblue = 13976.66\n",
    "flum = 60027.88"
   ]
  },
  {
   "cell_type": "markdown",
   "metadata": {},
   "source": [
    "## Visual-er filters, zero points"
   ]
  },
  {
   "cell_type": "code",
   "execution_count": 10,
   "metadata": {
    "collapsed": false
   },
   "outputs": [
    {
     "name": "stdout",
     "output_type": "stream",
     "text": [
      "Apparent magnitude of moon (our camera, filter #11, 0.7 millisec): -11.51\n",
      "\n",
      "Calculated zero point using published values and measured moon magnitude in filter #11\n",
      "blue: 6.1457354881, visual: -1.24\n"
     ]
    }
   ],
   "source": [
    "# filter #11\n",
    "# B mag from french paper = your measured B magnitude + zp\n",
    "# V mag from french paper = your measured V magnitude + zp\n",
    "\n",
    "m_moon_11 = m(f11)\n",
    "zp_b_11 = b - m_moon_11\n",
    "zp_v_11 = v - m_moon_11\n",
    "\n",
    "print('Apparent magnitude of moon (our camera, filter #11, 0.7 millisec): {}'.format(m_moon_11))\n",
    "print\n",
    "\n",
    "print('Calculated zero point using published values and measured moon magnitude in filter #11')\n",
    "print('blue: {}, visual: {}'.format(zp_b_11, zp_v_11))"
   ]
  },
  {
   "cell_type": "code",
   "execution_count": 11,
   "metadata": {
    "collapsed": false
   },
   "outputs": [
    {
     "name": "stdout",
     "output_type": "stream",
     "text": [
      "Apparent magnitude of moon (our camera, filter #15, 0.7 millisec): -11.08\n",
      "\n",
      "Calculated zero point using published values and measured moon magnitude in filter #15\n",
      "blue: 5.7157354881, visual: -1.67\n"
     ]
    }
   ],
   "source": [
    "# filter #15\n",
    "m_moon_15 = m(f15)\n",
    "zp_b_15 = b - m_moon_15\n",
    "zp_v_15 = v - m_moon_15\n",
    "\n",
    "print('Apparent magnitude of moon (our camera, filter #15, 0.7 millisec): {}'.format(m_moon_15))\n",
    "print\n",
    "\n",
    "print('Calculated zero point using published values and measured moon magnitude in filter #15')\n",
    "print('blue: {}, visual: {}'.format(zp_b_15, zp_v_15))"
   ]
  },
  {
   "cell_type": "code",
   "execution_count": 12,
   "metadata": {
    "collapsed": false
   },
   "outputs": [
    {
     "name": "stdout",
     "output_type": "stream",
     "text": [
      "Apparent magnitude of moon (our camera, filter LRGB red, 0.7 millisec): -10.27\n",
      "\n",
      "Calculated zero point using published values and measured moon magnitude in filter LRGB red\n",
      "blue: 4.9057354881, visual: -2.48\n"
     ]
    }
   ],
   "source": [
    "# filter LRGB red\n",
    "m_moon_red = m(fred)\n",
    "zp_b_red = b - m_moon_red\n",
    "zp_v_red = v - m_moon_red\n",
    "\n",
    "print('Apparent magnitude of moon (our camera, filter LRGB red, 0.7 millisec): {}'.format(m_moon_red))\n",
    "print\n",
    "\n",
    "print('Calculated zero point using published values and measured moon magnitude in filter LRGB red')\n",
    "print('blue: {}, visual: {}'.format(zp_b_red, zp_v_red))"
   ]
  },
  {
   "cell_type": "code",
   "execution_count": 13,
   "metadata": {
    "collapsed": false
   },
   "outputs": [
    {
     "name": "stdout",
     "output_type": "stream",
     "text": [
      "Apparent magnitude of moon (our camera, filter LRGB green, 0.7 millisec): -10.86\n",
      "\n",
      "Calculated zero point using published values and measured moon magnitude in filter LRGB green\n",
      "blue: 5.4957354881, visual: -1.89\n"
     ]
    }
   ],
   "source": [
    "# filter LRGB green\n",
    "m_moon_green = m(fgreen)\n",
    "zp_b_green = b - m_moon_green\n",
    "zp_v_green = v - m_moon_green\n",
    "\n",
    "print('Apparent magnitude of moon (our camera, filter LRGB green, 0.7 millisec): {}'.format(m_moon_green))\n",
    "print\n",
    "\n",
    "print('Calculated zero point using published values and measured moon magnitude in filter LRGB green')\n",
    "print('blue: {}, visual: {}'.format(zp_b_green, zp_v_green))"
   ]
  },
  {
   "cell_type": "markdown",
   "metadata": {},
   "source": [
    "## Bluer filters, zero points"
   ]
  },
  {
   "cell_type": "code",
   "execution_count": 14,
   "metadata": {
    "collapsed": false
   },
   "outputs": [
    {
     "name": "stdout",
     "output_type": "stream",
     "text": [
      "Apparent magnitude of moon (our camera, filter #47, 0.7 millisec): -8.07\n",
      "\n",
      "Calculated zero point using published values and measured moon magnitude in filter #47\n",
      "blue: 2.7057354881, visual: -4.68\n"
     ]
    }
   ],
   "source": [
    "# filter #47\n",
    "m_moon_47 = m(f47)\n",
    "zp_b_47 = b - m_moon_47\n",
    "zp_v_47 = v - m_moon_47\n",
    "\n",
    "print('Apparent magnitude of moon (our camera, filter #47, 0.7 millisec): {}'.format(m_moon_47))\n",
    "print\n",
    "\n",
    "print('Calculated zero point using published values and measured moon magnitude in filter #47')\n",
    "print('blue: {}, visual: {}'.format(zp_b_47, zp_v_47))"
   ]
  },
  {
   "cell_type": "code",
   "execution_count": 15,
   "metadata": {
    "collapsed": false
   },
   "outputs": [
    {
     "name": "stdout",
     "output_type": "stream",
     "text": [
      "Apparent magnitude of moon (our camera, filter #82a, 0.7 millisec): -11.94\n",
      "\n",
      "Calculated zero point using published values and measured moon magnitude in filter #82a\n",
      "blue: 6.5757354881, visual: -0.81\n"
     ]
    }
   ],
   "source": [
    "# filter #82a\n",
    "m_moon_82a = m(f82a)\n",
    "zp_b_82a = b - m_moon_82a\n",
    "zp_v_82a = v - m_moon_82a\n",
    "\n",
    "print('Apparent magnitude of moon (our camera, filter #82a, 0.7 millisec): {}'.format(m_moon_82a))\n",
    "print\n",
    "\n",
    "print('Calculated zero point using published values and measured moon magnitude in filter #82a')\n",
    "print('blue: {}, visual: {}'.format(zp_b_82a, zp_v_82a))"
   ]
  },
  {
   "cell_type": "code",
   "execution_count": 16,
   "metadata": {
    "collapsed": false
   },
   "outputs": [
    {
     "name": "stdout",
     "output_type": "stream",
     "text": [
      "Apparent magnitude of moon (our camera, filter LRGB luminance, 0.7 millisec): -11.95\n",
      "\n",
      "Calculated zero point using published values and measured moon magnitude in filter #lum\n",
      "blue: 6.5857354881, visual: -0.8\n"
     ]
    }
   ],
   "source": [
    "# filter LRGB luminance\n",
    "m_moon_lum = m(flum)\n",
    "zp_b_lum = b - m_moon_lum\n",
    "zp_v_lum = v - m_moon_lum\n",
    "\n",
    "print('Apparent magnitude of moon (our camera, filter LRGB luminance, 0.7 millisec): {}'.format(m_moon_lum))\n",
    "print\n",
    "\n",
    "print('Calculated zero point using published values and measured moon magnitude in filter #lum')\n",
    "print('blue: {}, visual: {}'.format(zp_b_lum, zp_v_lum))"
   ]
  },
  {
   "cell_type": "code",
   "execution_count": 17,
   "metadata": {
    "collapsed": false
   },
   "outputs": [
    {
     "name": "stdout",
     "output_type": "stream",
     "text": [
      "equation: -5.3642645119 - -10.36\n",
      "Apparent magnitude of moon (our camera, filter LRGB blue, 0.7 millisec): -10.36\n",
      "\n",
      "Calculated zero point using published values and measured moon magnitude in filter #blue\n",
      "blue: 4.9957354881, visual: -2.39\n"
     ]
    }
   ],
   "source": [
    "# filter LRGB blue\n",
    "m_moon_blue = m(fblue)\n",
    "zp_b_blue = b - m_moon_blue\n",
    "print('equation: {} - {}'.format(b, m_moon_blue))\n",
    "zp_v_blue = v - m_moon_blue\n",
    "\n",
    "print('Apparent magnitude of moon (our camera, filter LRGB blue, 0.7 millisec): {}'.format(m_moon_blue))\n",
    "print\n",
    "\n",
    "print('Calculated zero point using published values and measured moon magnitude in filter #blue')\n",
    "print('blue: {}, visual: {}'.format(zp_b_blue, zp_v_blue))"
   ]
  },
  {
   "cell_type": "markdown",
   "metadata": {},
   "source": [
    "## Calculating"
   ]
  },
  {
   "cell_type": "code",
   "execution_count": 18,
   "metadata": {
    "collapsed": false
   },
   "outputs": [
    {
     "name": "stdout",
     "output_type": "stream",
     "text": [
      "Moon B-V values in various filters\n",
      "==================================\n",
      "LRGBblue-11: 7.38\n",
      "LRGBblue-15: 7.38\n",
      "LRGBblue-LRGB red: 7.38\n",
      "LRGB blue-LRGB green: 7.38\n",
      "\n",
      "82a-11: 7.39\n",
      "82a-15: 7.39\n",
      "82a-LRGB red: 7.39\n",
      "82a-LRGB green: 7.39\n",
      "\n",
      "47-11: 7.39\n",
      "47-15: 7.39\n",
      "47-LRGB red: 7.39\n",
      "47-LRGB green: 7.39\n",
      "\n",
      "LRGB lum-11: 7.39\n",
      "LRGB lum-15: 7.39\n",
      "LRGB lum-LRGB red: 7.39\n",
      "LRGB lum-LRGB green: 7.39\n"
     ]
    }
   ],
   "source": [
    "print('Moon B-V values in various filters')\n",
    "print('==================================')\n",
    "print('LRGBblue-11: {}'.format(bv(fblue, f11, zp_b_blue, zp_v_11)))\n",
    "print('LRGBblue-15: {}'.format(bv(fblue, f15, zp_b_blue, zp_v_15)))\n",
    "print('LRGBblue-LRGB red: {}'.format(bv(fblue, fred, zp_b_blue, zp_v_red)))\n",
    "print('LRGB blue-LRGB green: {}'.format(bv(fblue, fgreen, zp_b_blue, zp_v_green)))\n",
    "print\n",
    "print('82a-11: {}'.format(bv(f82a, f11, zp_b_82a, zp_v_11)))\n",
    "print('82a-15: {}'.format(bv(f82a, f15, zp_b_82a, zp_v_15)))\n",
    "print('82a-LRGB red: {}'.format(bv(f82a, fred, zp_b_82a, zp_v_red)))\n",
    "print('82a-LRGB green: {}'.format(bv(f82a, fgreen, zp_b_82a, zp_v_green)))\n",
    "print\n",
    "print('47-11: {}'.format(bv(f47, f11, zp_b_47, zp_v_11)))\n",
    "print('47-15: {}'.format(bv(f47, f15, zp_b_47, zp_v_15)))\n",
    "print('47-LRGB red: {}'.format(bv(f47, fred, zp_b_47, zp_v_red)))\n",
    "print('47-LRGB green: {}'.format(bv(f47, fgreen, zp_b_47, zp_v_green)))\n",
    "print\n",
    "print('LRGB lum-11: {}'.format(bv(flum, f11, zp_b_lum, zp_v_11)))\n",
    "print('LRGB lum-15: {}'.format(bv(flum, f15, zp_b_lum, zp_v_15)))\n",
    "print('LRGB lum-LRGB red: {}'.format(bv(flum, fred, zp_b_lum, zp_v_red)))\n",
    "print('LRGB lum-LRGB green: {}'.format(bv(flum, fgreen, zp_b_lum, zp_v_green)))\n"
   ]
  },
  {
   "cell_type": "markdown",
   "metadata": {},
   "source": [
    "5:45 pm\n",
    "\n",
    "A quick summary of the values found...\n",
    "\n",
    "<table> \n",
    "<tr>\n",
    "<td>Filter</td> <td>Magnitude</td>\n",
    "</tr>\n",
    "<tr> \n",
    "<td><b>B (UBV)</b></td> <td><b>-5.36</b></td>\n",
    "</tr>\n",
    "<tr>\n",
    "<td>47</td> <td>-8.07</td> \n",
    "</tr>\n",
    "<tr>\n",
    "<td>LRGB blue</td> <td>-10.36</td> \n",
    "</tr>\n",
    "<tr>\n",
    "<td>82a</td> <td>-11.94</td> \n",
    "</tr>\n",
    "<tr>\n",
    "<td>LRGB luminance</td> <td>-11.95</td> \n",
    "</tr>\n",
    "<tr><td><b>V (UBV)</b></td> <td><b>-12.75</b></td>\n",
    "</tr>\n",
    "<tr>\n",
    "<td>11</td> <td>-11.51</td> \n",
    "</tr>\n",
    "<tr>\n",
    "<td>15</td> <td>-11.08</td>\n",
    "</tr>\n",
    "<tr>\n",
    "<td>LRGB green</td> <td>-10.86</td>  \n",
    "</tr>\n",
    "<tr>\n",
    "<td>LRGB red</td> <td>-10.27</td> \n",
    "</tr>\n",
    "\n",
    "\n",
    "</table>"
   ]
  },
  {
   "cell_type": "markdown",
   "metadata": {},
   "source": [
    "It seems surprising that the filters I designated as \"blueish filters\" have magnitudes much closer to that of the real moon through the visual filter. But I don't necessarily think it means I've classified incorrectly--more likely, those particular filters just let in more light than the visual filter. After all, the magnitude is just a straight calculation relating to the logarithm of the flux.\n",
    "\n",
    "HOWEVER, since the values are still indeed very different from the UBV system, that could possibly explain the unusual B-V values I'm getting.\n",
    "\n",
    "But they still shouldn't be that high, as I discussed with Elsa. Must be some other problem.... \n",
    "\n",
    "Still to do: \n",
    "\n",
    "1. Figure out if my zero points are correct, why the B-V values for moon are so high\n",
    "2. Arrive at final B-V values for moon; calculate them for Sun also \n",
    "3. Make sure am using correct counts (the Flux column)\n",
    "4. Recalculate B-V dataframes for specific combinations of filters on all data sets\n",
    "5. Plot cloud B-V values which match whatever the moon values are\n",
    "6. Determine if it all worked or not\n",
    "7. More pictures\n",
    "\n",
    "Also I could maybe take some time now to generate photometries for any data sets that I haven't done yet.\n",
    "\n",
    "6:20 pm\n",
    "\n",
    "Collected pixel statistics for 21 April and 28 April (Sun). still need to run photometry. Another good idea would be to go through the junkier folders and see what images are salvageable.\n",
    "\n",
    "7:00 pm"
   ]
  },
  {
   "cell_type": "markdown",
   "metadata": {
    "collapsed": true
   },
   "source": [
    "# 3 May 2017\n",
    "\n",
    "8:00 am\n",
    "\n",
    "Figured it out with Elsa's help. I was calculating a flux instead of just b. \n",
    "\n",
    "    b = (10**(b_v/(-2.5)))*v\n",
    "\n",
    "should be\n",
    "\n",
    "    b = v + b_v\n",
    "    \n",
    "This is because the first code line up there actually calculates a *flux* not a *magnitude*. DUH\n",
    "\n",
    "So here is a re-try on the code. Also, I have removed the calculations of zero point for blue or visual depending on which category the filter was classified into."
   ]
  },
  {
   "cell_type": "code",
   "execution_count": 3,
   "metadata": {
    "collapsed": false
   },
   "outputs": [
    {
     "name": "stdout",
     "output_type": "stream",
     "text": [
      "Published moon magnitude in visual filter: -12.75\n",
      "Published B-V of moon: 0.94\n",
      "Magnitude in blue filter (calculated): -11.81\n",
      "(Published values from Gallouet 1963)\n",
      "\n",
      "Apparent magnitude of moon (our camera, filter #11, 0.7 millisec): -11.51\n",
      "Calculated zero point using published values and measured moon magnitude in filter #11\n",
      "blue: -0.3, visual: -1.24\n",
      "\n",
      "Apparent magnitude of moon (our camera, filter #15, 0.7 millisec): -11.08\n",
      "Calculated zero point using published values and measured moon magnitude in filter #15\n",
      "blue: -0.73, visual: -1.67\n",
      "\n",
      "Apparent magnitude of moon (our camera, filter LRGB red, 0.7 millisec): -10.27\n",
      "Calculated zero point using published values and measured moon magnitude in filter LRGB red\n",
      "blue: -1.54, visual: -2.48\n",
      "\n",
      "Apparent magnitude of moon (our camera, filter LRGB green, 0.7 millisec): -10.86\n",
      "Calculated zero point using published values and measured moon magnitude in filter LRGB green\n",
      "blue: -0.95, visual: -1.89\n",
      "\n",
      "Apparent magnitude of moon (our camera, filter #47, 0.7 millisec): -8.07\n",
      "Calculated zero point using published values and measured moon magnitude in filter #47\n",
      "blue: -3.74, visual: -4.68\n",
      "\n",
      "Apparent magnitude of moon (our camera, filter #82a, 0.7 millisec): -11.94\n",
      "Calculated zero point using published values and measured moon magnitude in filter #82a\n",
      "blue: 0.13, visual: -0.81\n",
      "\n",
      "Apparent magnitude of moon (our camera, filter LRGB luminance, 0.7 millisec): -11.95\n",
      "Calculated zero point using published values and measured moon magnitude in filter #lum\n",
      "blue: 0.14, visual: -0.8\n",
      "\n",
      "Apparent magnitude of moon (our camera, filter LRGB blue, 0.7 millisec): -10.36\n",
      "Calculated zero point using published values and measured moon magnitude in filter #blue\n",
      "blue: -1.45, visual: -2.39\n",
      "\n",
      "Moon B-V values in various filters\n",
      "==================================\n",
      "LRGBblue-11: 0.94\n",
      "LRGBblue-15: 0.94\n",
      "LRGBblue-LRGB red: 0.94\n",
      "LRGB blue-LRGB green: 0.94\n",
      "\n",
      "82a-11: 0.94\n",
      "82a-15: 0.94\n",
      "82a-LRGB red: 0.94\n",
      "82a-LRGB green: 0.94\n",
      "\n",
      "47-11: 0.94\n",
      "47-15: 0.95\n",
      "47-LRGB red: 0.94\n",
      "47-LRGB green: 0.94\n",
      "\n",
      "LRGB lum-11: 0.95\n",
      "LRGB lum-15: 0.95\n",
      "LRGB lum-LRGB red: 0.94\n",
      "LRGB lum-LRGB green: 0.94\n"
     ]
    }
   ],
   "source": [
    "from math import log10\n",
    "\n",
    "def m(f):\n",
    "    \"\"\"\n",
    "    calculate the apparent/instrumental magnitude through a given filter.\n",
    "    \n",
    "    :param f: the flux through that particular filter.\n",
    "    \"\"\"\n",
    "    return round(-2.5*log10(f),2)\n",
    "\n",
    "\n",
    "def bv(flux_b, flux_v, zp_blue, zp_visual):\n",
    "    \"\"\"\n",
    "    calculate and return a magnitude difference, i.e. the B-V index, for two images\n",
    "    \n",
    "    :param flux_b: flux through the bluer filter\n",
    "    :param flux_v: flux through the visual filter\n",
    "    \"\"\"\n",
    "\n",
    "    m_blue = -2.5 * log10(flux_b) + zp_blue\n",
    "    m_visual = -2.5 * log10(flux_v) + zp_visual\n",
    "    return round(m_blue - m_visual, 2)\n",
    "\n",
    "\n",
    "# Published values of v and b-v for the moon, and the b value derived from it.\n",
    "v = -12.75\n",
    "b_v = 0.94\n",
    "b = v + b_v\n",
    "print('Published moon magnitude in visual filter: {}'.format(v))\n",
    "print('Published B-V of moon: {}'.format(b_v))\n",
    "print('Magnitude in blue filter (calculated): {}'.format(b))\n",
    "print('(Published values from Gallouet 1963)')\n",
    "print\n",
    "\n",
    "# fluxes for each filter. Taken from photometries ==============================\n",
    "fnone = 67539.54\n",
    "\n",
    "# visual-er filters: filters with their dominant/central wavelength > 550 nm\n",
    "f11 = 40235.62\n",
    "f15 = 27105.91\n",
    "fred = 12812.36\n",
    "fgreen = 22084.62\n",
    "\n",
    "# bluer filters: filters with their dominant/central wavelength < 550 nm\n",
    "f47 = 1686.559\n",
    "f82a = 59647.08\n",
    "fblue = 13976.66\n",
    "flum = 60027.88\n",
    "\n",
    "# Calculating zero points ======================================================\n",
    "# filter #11 -------------------------------------------------------------------\n",
    "m_moon_11 = m(f11)\n",
    "zp_b_11 = b - m_moon_11\n",
    "zp_v_11 = v - m_moon_11\n",
    "\n",
    "print('Apparent magnitude of moon (our camera, filter #11, 0.7 millisec)'\n",
    "      ': {}'.format(m_moon_11))\n",
    "print('Calculated zero point using published values and measured moon magnitude'\n",
    "      ' in filter #11')\n",
    "print('blue: {}, visual: {}'.format(zp_b_11, zp_v_11))\n",
    "print\n",
    "\n",
    "# filter #15 -------------------------------------------------------------------\n",
    "m_moon_15 = m(f15)\n",
    "zp_b_15 = b - m_moon_15\n",
    "zp_v_15 = v - m_moon_15\n",
    "\n",
    "print('Apparent magnitude of moon (our camera, filter #15, 0.7 millisec)'\n",
    "      ': {}'.format(m_moon_15))\n",
    "print('Calculated zero point using published values and measured moon magnitude'\n",
    "      ' in filter #15')\n",
    "print('blue: {}, visual: {}'.format(zp_b_15, zp_v_15))\n",
    "print\n",
    "\n",
    "# filter LRGB red --------------------------------------------------------------\n",
    "m_moon_red = m(fred)\n",
    "zp_b_red = b - m_moon_red\n",
    "zp_v_red = v - m_moon_red\n",
    "\n",
    "print('Apparent magnitude of moon (our camera, filter LRGB red, 0.7 millisec)'\n",
    "      ': {}'.format(m_moon_red))\n",
    "print('Calculated zero point using published values and measured moon magnitude'\n",
    "      ' in filter LRGB red')\n",
    "print('blue: {}, visual: {}'.format(zp_b_red, zp_v_red))\n",
    "print\n",
    "\n",
    "# filter LRGB green -----------------------------------------------------------\n",
    "m_moon_green = m(fgreen)\n",
    "zp_b_green = b - m_moon_green\n",
    "zp_v_green = v - m_moon_green\n",
    "\n",
    "print('Apparent magnitude of moon (our camera, filter LRGB green, 0.7 millisec)'\n",
    "      ': {}'.format(m_moon_green))\n",
    "print('Calculated zero point using published values and measured moon magnitude'\n",
    "      ' in filter LRGB green')\n",
    "print('blue: {}, visual: {}'.format(zp_b_green, zp_v_green))\n",
    "print\n",
    "\n",
    "# filter #47 -------------------------------------------------------------------\n",
    "m_moon_47 = m(f47)\n",
    "zp_b_47 = b - m_moon_47\n",
    "zp_v_47 = v - m_moon_47\n",
    "\n",
    "print('Apparent magnitude of moon (our camera, filter #47, 0.7 millisec)'\n",
    "      ': {}'.format(m_moon_47))\n",
    "print('Calculated zero point using published values and measured moon magnitude'\n",
    "      ' in filter #47')\n",
    "print('blue: {}, visual: {}'.format(zp_b_47, zp_v_47))\n",
    "print\n",
    "\n",
    "# filter #82a ------------------------------------------------------------------\n",
    "m_moon_82a = m(f82a)\n",
    "zp_b_82a = b - m_moon_82a\n",
    "zp_v_82a = v - m_moon_82a\n",
    "\n",
    "print('Apparent magnitude of moon (our camera, filter #82a, 0.7 millisec)'\n",
    "      ': {}'.format(m_moon_82a))\n",
    "print('Calculated zero point using published values and measured moon magnitude'\n",
    "      ' in filter #82a')\n",
    "print('blue: {}, visual: {}'.format(zp_b_82a, zp_v_82a))\n",
    "print\n",
    "\n",
    "# filter LRGB luminance --------------------------------------------------------\n",
    "m_moon_lum = m(flum)\n",
    "zp_b_lum = b - m_moon_lum\n",
    "zp_v_lum = v - m_moon_lum\n",
    "\n",
    "print('Apparent magnitude of moon (our camera, filter LRGB luminance, '\n",
    "      '0.7 millisec)'\n",
    "      ': {}'.format(m_moon_lum))\n",
    "print('Calculated zero point using published values and measured moon magnitude'\n",
    "      ' in filter #lum')\n",
    "print('blue: {}, visual: {}'.format(zp_b_lum, zp_v_lum))    \n",
    "print\n",
    "\n",
    "# filter LRGB blue --------------------------------------------------------------\n",
    "m_moon_blue = m(fblue)\n",
    "zp_b_blue = b - m_moon_blue\n",
    "zp_v_blue = v - m_moon_blue\n",
    "\n",
    "print('Apparent magnitude of moon (our camera, filter LRGB blue, 0.7 millisec)'\n",
    "      ': {}'.format(m_moon_blue))\n",
    "print('Calculated zero point using published values and measured moon magnitude'\n",
    "      ' in filter #blue')\n",
    "print('blue: {}, visual: {}'.format(zp_b_blue, zp_v_blue))\n",
    "print\n",
    "\n",
    "# Calculate B-V values at long last ============================================\n",
    "\n",
    "print('Moon B-V values in various filters')\n",
    "print('==================================')\n",
    "print('LRGBblue-11: {}'.format(bv(fblue, f11, zp_b_blue, zp_v_11)))\n",
    "print('LRGBblue-15: {}'.format(bv(fblue, f15, zp_b_blue, zp_v_15)))\n",
    "print('LRGBblue-LRGB red: {}'.format(bv(fblue, fred, zp_b_blue, zp_v_red)))\n",
    "print('LRGB blue-LRGB green: {}'.format(bv(fblue, fgreen, zp_b_blue, zp_v_green)))\n",
    "print\n",
    "print('82a-11: {}'.format(bv(f82a, f11, zp_b_82a, zp_v_11)))\n",
    "print('82a-15: {}'.format(bv(f82a, f15, zp_b_82a, zp_v_15)))\n",
    "print('82a-LRGB red: {}'.format(bv(f82a, fred, zp_b_82a, zp_v_red)))\n",
    "print('82a-LRGB green: {}'.format(bv(f82a, fgreen, zp_b_82a, zp_v_green)))\n",
    "print\n",
    "print('47-11: {}'.format(bv(f47, f11, zp_b_47, zp_v_11)))\n",
    "print('47-15: {}'.format(bv(f47, f15, zp_b_47, zp_v_15)))\n",
    "print('47-LRGB red: {}'.format(bv(f47, fred, zp_b_47, zp_v_red)))\n",
    "print('47-LRGB green: {}'.format(bv(f47, fgreen, zp_b_47, zp_v_green)))\n",
    "print\n",
    "print('LRGB lum-11: {}'.format(bv(flum, f11, zp_b_lum, zp_v_11)))\n",
    "print('LRGB lum-15: {}'.format(bv(flum, f15, zp_b_lum, zp_v_15)))\n",
    "print('LRGB lum-LRGB red: {}'.format(bv(flum, fred, zp_b_lum, zp_v_red)))\n",
    "print('LRGB lum-LRGB green: {}'.format(bv(flum, fgreen, zp_b_lum, zp_v_green)))\n"
   ]
  },
  {
   "cell_type": "markdown",
   "metadata": {},
   "source": [
    "Now figuring out how to fix the `calc_flux_ratios.py` script.\n",
    "\n",
    "### Applying operation to one column of pandas data frame (to convert fluxes to magnitudes individually):"
   ]
  },
  {
   "cell_type": "code",
   "execution_count": 20,
   "metadata": {
    "collapsed": false
   },
   "outputs": [
    {
     "data": {
      "text/html": [
       "<div>\n",
       "<table border=\"1\" class=\"dataframe\">\n",
       "  <thead>\n",
       "    <tr style=\"text-align: right;\">\n",
       "      <th></th>\n",
       "      <th>flux</th>\n",
       "      <th>v1</th>\n",
       "      <th>v2</th>\n",
       "    </tr>\n",
       "  </thead>\n",
       "  <tbody>\n",
       "    <tr>\n",
       "      <th>0</th>\n",
       "      <td>10</td>\n",
       "      <td>0</td>\n",
       "      <td>5</td>\n",
       "    </tr>\n",
       "    <tr>\n",
       "      <th>1</th>\n",
       "      <td>20</td>\n",
       "      <td>5</td>\n",
       "      <td>10</td>\n",
       "    </tr>\n",
       "    <tr>\n",
       "      <th>2</th>\n",
       "      <td>30</td>\n",
       "      <td>10</td>\n",
       "      <td>15</td>\n",
       "    </tr>\n",
       "    <tr>\n",
       "      <th>3</th>\n",
       "      <td>40</td>\n",
       "      <td>15</td>\n",
       "      <td>20</td>\n",
       "    </tr>\n",
       "  </tbody>\n",
       "</table>\n",
       "</div>"
      ],
      "text/plain": [
       "   flux  v1  v2\n",
       "0    10   0   5\n",
       "1    20   5  10\n",
       "2    30  10  15\n",
       "3    40  15  20"
      ]
     },
     "execution_count": 20,
     "metadata": {},
     "output_type": "execute_result"
    }
   ],
   "source": [
    "import pandas as pd\n",
    "df = {'flux': [10,20,30,40], 'v1': [0, 5, 10, 15], 'v2': [5, 10, 15, 20]}\n",
    "df = pd.DataFrame(df)\n",
    "df"
   ]
  },
  {
   "cell_type": "code",
   "execution_count": 21,
   "metadata": {
    "collapsed": false
   },
   "outputs": [
    {
     "data": {
      "text/html": [
       "<div>\n",
       "<table border=\"1\" class=\"dataframe\">\n",
       "  <thead>\n",
       "    <tr style=\"text-align: right;\">\n",
       "      <th></th>\n",
       "      <th>B-V</th>\n",
       "      <th>v1</th>\n",
       "      <th>v2</th>\n",
       "    </tr>\n",
       "  </thead>\n",
       "  <tbody>\n",
       "    <tr>\n",
       "      <th>0</th>\n",
       "      <td>3</td>\n",
       "      <td>0</td>\n",
       "      <td>5</td>\n",
       "    </tr>\n",
       "    <tr>\n",
       "      <th>1</th>\n",
       "      <td>13</td>\n",
       "      <td>5</td>\n",
       "      <td>10</td>\n",
       "    </tr>\n",
       "    <tr>\n",
       "      <th>2</th>\n",
       "      <td>23</td>\n",
       "      <td>10</td>\n",
       "      <td>15</td>\n",
       "    </tr>\n",
       "    <tr>\n",
       "      <th>3</th>\n",
       "      <td>33</td>\n",
       "      <td>15</td>\n",
       "      <td>20</td>\n",
       "    </tr>\n",
       "  </tbody>\n",
       "</table>\n",
       "</div>"
      ],
      "text/plain": [
       "   B-V  v1  v2\n",
       "0    3   0   5\n",
       "1   13   5  10\n",
       "2   23  10  15\n",
       "3   33  15  20"
      ]
     },
     "execution_count": 21,
     "metadata": {},
     "output_type": "execute_result"
    }
   ],
   "source": [
    "df2 = {'flux': [7,7,7,7], 'v1': [0, 5, 10, 15], 'v2': [5, 10, 15, 20]}\n",
    "df3 = pd.DataFrame({'B-V': df['flux']- df2['flux'], 'v1': df['v1'], 'v2': df['v2']})\n",
    "df3"
   ]
  },
  {
   "cell_type": "markdown",
   "metadata": {},
   "source": [
    "### Nice formatting of zero points so I can put them in variables"
   ]
  },
  {
   "cell_type": "code",
   "execution_count": 24,
   "metadata": {
    "collapsed": false
   },
   "outputs": [
    {
     "data": {
      "text/html": [
       "<table>\n",
       "<tr><td>Filter                </td><td>Blue zero point</td><td>Visual zero point     </td></tr>\n",
       "<tr><td>----------------------</td><td>Visual Filters </td><td>----------------------</td></tr>\n",
       "<tr><td>11                    </td><td>-0.3           </td><td>-1.24                 </td></tr>\n",
       "<tr><td>15                    </td><td>-0.73          </td><td>-1.67                 </td></tr>\n",
       "<tr><td>LRGB red              </td><td>-1.54          </td><td>-2.48                 </td></tr>\n",
       "<tr><td>LRGB green            </td><td>-0.95          </td><td>-1.89                 </td></tr>\n",
       "<tr><td>----------------------</td><td>Blue Filters   </td><td>----------------------</td></tr>\n",
       "<tr><td>47                    </td><td>-3.74          </td><td>-4.68                 </td></tr>\n",
       "<tr><td>82a                   </td><td>0.13           </td><td>-0.81                 </td></tr>\n",
       "<tr><td>LRGB blue             </td><td>-1.45          </td><td>-2.39                 </td></tr>\n",
       "<tr><td>LRGB luminance        </td><td>0.14           </td><td>-0.8                  </td></tr>\n",
       "</table>"
      ],
      "text/plain": [
       "<IPython.core.display.HTML object>"
      ]
     },
     "metadata": {},
     "output_type": "display_data"
    }
   ],
   "source": [
    "from IPython.display import HTML, display\n",
    "import tabulate\n",
    "table = [[\"Filter\", \"Blue zero point\", \"Visual zero point\"],\n",
    "         [\"----------------------\", \"Visual Filters\", \"----------------------\"],\n",
    "         [\"11\",zp_b_11,zp_v_11],\n",
    "         [\"15\",zp_b_15,zp_v_15],\n",
    "         [\"LRGB red\",zp_b_red,zp_v_red],\n",
    "         [\"LRGB green\",zp_b_green,zp_v_green],\n",
    "         [\"----------------------\", \"Blue Filters\", \"----------------------\"],\n",
    "         [\"47\",zp_b_47,zp_v_47],\n",
    "         [\"82a\",zp_b_82a,zp_v_82a],\n",
    "         [\"LRGB blue\",zp_b_blue,zp_v_blue],\n",
    "         [\"LRGB luminance\",zp_b_lum,zp_v_lum]]\n",
    "display(HTML(tabulate.tabulate(table, tablefmt='html')))"
   ]
  },
  {
   "cell_type": "markdown",
   "metadata": {},
   "source": [
    "### How to make intelligent pairs of filters--instead of just taking permutations of all files all together"
   ]
  },
  {
   "cell_type": "code",
   "execution_count": 25,
   "metadata": {
    "collapsed": false
   },
   "outputs": [
    {
     "name": "stdout",
     "output_type": "stream",
     "text": [
      "[('47', '11'), ('47', '15'), ('47', 'LRGBred'), ('47', 'LRGBgreen'), ('82a', '11'), ('82a', '15'), ('82a', 'LRGBred'), ('82a', 'LRGBgreen'), ('LRGBblue', '11'), ('LRGBblue', '15'), ('LRGBblue', 'LRGBred'), ('LRGBblue', 'LRGBgreen'), ('LRGBluminance', '11'), ('LRGBluminance', '15'), ('LRGBluminance', 'LRGBred'), ('LRGBluminance', 'LRGBgreen')]\n"
     ]
    }
   ],
   "source": [
    "blues = ['47', '82a', 'LRGBblue', 'LRGBluminance']\n",
    "visuals = ['11', '15', 'LRGBred', 'LRGBgreen']\n",
    "import itertools\n",
    "combos = list(itertools.product(blues, visuals))\n",
    "print(combos)"
   ]
  },
  {
   "cell_type": "code",
   "execution_count": 26,
   "metadata": {
    "collapsed": false
   },
   "outputs": [],
   "source": [
    "pathbase = '/home/emc/GoogleDrive/Phys/Research/BothunLab/SkyPhotos/NewCamera/3January2017/set1'\n",
    "\n",
    "paths = [pathbase+'/LRGBblue/200microsec/21-6-42-600.FIT',\n",
    "         pathbase+'/LRGBgreen/200microsec/21-6-30-700.FIT',\n",
    "         pathbase+'/LRGBred/200microsec/21-6-42-800.FIT', \n",
    "         pathbase+'/LRGBluminance/200microsec/21-6-42-900.FIT', \n",
    "         pathbase+'/82a/200microsec/21-5-57-172.FIT',\n",
    "         pathbase+'/11/200microsec/21-5-34-204.FIT',\n",
    "         pathbase+'/15/200microsec/21-6-42-988.FIT', \n",
    "         pathbase+'/none/200microsec/21-6-57-919.FIT',\n",
    "         pathbase+'/47/200microsec/21-7-8-45.FIT']\n",
    "\n",
    "phots = [pathbase+'/LRGBblue/200microsec/21-6-42-600_photometry',\n",
    "         pathbase+'/LRGBgreen/200microsec/21-6-30-700_photometry',\n",
    "         pathbase+'/LRGBred/200microsec/21-6-42-800_photometry', \n",
    "         pathbase+'/LRGBluminance/200microsec/21-6-42-900_photometry', \n",
    "         pathbase+'/82a/200microsec/21-5-57-172_photometry',\n",
    "         pathbase+'/11/200microsec/21-5-34-204_photometry',\n",
    "         pathbase+'/15/200microsec/21-6-42-988_photometry', \n",
    "         pathbase+'/none/200microsec/21-6-57-919_photometry',\n",
    "         pathbase+'/47/200microsec/21-7-8-45_photometry']"
   ]
  },
  {
   "cell_type": "code",
   "execution_count": 29,
   "metadata": {
    "collapsed": false
   },
   "outputs": [
    {
     "name": "stdout",
     "output_type": "stream",
     "text": [
      "['/home/emc/GoogleDrive/Phys/Research/BothunLab/SkyPhotos/NewCamera/3January2017/set1/47/200microsec/21-7-8-45.FIT', '/home/emc/GoogleDrive/Phys/Research/BothunLab/SkyPhotos/NewCamera/3January2017/set1/11/200microsec/21-5-34-204.FIT']\n",
      "['/home/emc/GoogleDrive/Phys/Research/BothunLab/SkyPhotos/NewCamera/3January2017/set1/47/200microsec/21-7-8-45_photometry', '/home/emc/GoogleDrive/Phys/Research/BothunLab/SkyPhotos/NewCamera/3January2017/set1/11/200microsec/21-5-34-204_photometry']\n",
      "\n",
      "['/home/emc/GoogleDrive/Phys/Research/BothunLab/SkyPhotos/NewCamera/3January2017/set1/47/200microsec/21-7-8-45.FIT', '/home/emc/GoogleDrive/Phys/Research/BothunLab/SkyPhotos/NewCamera/3January2017/set1/15/200microsec/21-6-42-988.FIT']\n",
      "['/home/emc/GoogleDrive/Phys/Research/BothunLab/SkyPhotos/NewCamera/3January2017/set1/47/200microsec/21-7-8-45_photometry', '/home/emc/GoogleDrive/Phys/Research/BothunLab/SkyPhotos/NewCamera/3January2017/set1/15/200microsec/21-6-42-988_photometry']\n",
      "\n",
      "['/home/emc/GoogleDrive/Phys/Research/BothunLab/SkyPhotos/NewCamera/3January2017/set1/47/200microsec/21-7-8-45.FIT', '/home/emc/GoogleDrive/Phys/Research/BothunLab/SkyPhotos/NewCamera/3January2017/set1/LRGBred/200microsec/21-6-42-800.FIT']\n",
      "['/home/emc/GoogleDrive/Phys/Research/BothunLab/SkyPhotos/NewCamera/3January2017/set1/47/200microsec/21-7-8-45_photometry', '/home/emc/GoogleDrive/Phys/Research/BothunLab/SkyPhotos/NewCamera/3January2017/set1/LRGBred/200microsec/21-6-42-800_photometry']\n",
      "\n",
      "['/home/emc/GoogleDrive/Phys/Research/BothunLab/SkyPhotos/NewCamera/3January2017/set1/47/200microsec/21-7-8-45.FIT', '/home/emc/GoogleDrive/Phys/Research/BothunLab/SkyPhotos/NewCamera/3January2017/set1/LRGBgreen/200microsec/21-6-30-700.FIT']\n",
      "['/home/emc/GoogleDrive/Phys/Research/BothunLab/SkyPhotos/NewCamera/3January2017/set1/47/200microsec/21-7-8-45_photometry', '/home/emc/GoogleDrive/Phys/Research/BothunLab/SkyPhotos/NewCamera/3January2017/set1/LRGBgreen/200microsec/21-6-30-700_photometry']\n",
      "\n",
      "['/home/emc/GoogleDrive/Phys/Research/BothunLab/SkyPhotos/NewCamera/3January2017/set1/82a/200microsec/21-5-57-172.FIT', '/home/emc/GoogleDrive/Phys/Research/BothunLab/SkyPhotos/NewCamera/3January2017/set1/11/200microsec/21-5-34-204.FIT']\n",
      "['/home/emc/GoogleDrive/Phys/Research/BothunLab/SkyPhotos/NewCamera/3January2017/set1/82a/200microsec/21-5-57-172_photometry', '/home/emc/GoogleDrive/Phys/Research/BothunLab/SkyPhotos/NewCamera/3January2017/set1/11/200microsec/21-5-34-204_photometry']\n",
      "\n",
      "['/home/emc/GoogleDrive/Phys/Research/BothunLab/SkyPhotos/NewCamera/3January2017/set1/82a/200microsec/21-5-57-172.FIT', '/home/emc/GoogleDrive/Phys/Research/BothunLab/SkyPhotos/NewCamera/3January2017/set1/15/200microsec/21-6-42-988.FIT']\n",
      "['/home/emc/GoogleDrive/Phys/Research/BothunLab/SkyPhotos/NewCamera/3January2017/set1/82a/200microsec/21-5-57-172_photometry', '/home/emc/GoogleDrive/Phys/Research/BothunLab/SkyPhotos/NewCamera/3January2017/set1/15/200microsec/21-6-42-988_photometry']\n",
      "\n",
      "['/home/emc/GoogleDrive/Phys/Research/BothunLab/SkyPhotos/NewCamera/3January2017/set1/82a/200microsec/21-5-57-172.FIT', '/home/emc/GoogleDrive/Phys/Research/BothunLab/SkyPhotos/NewCamera/3January2017/set1/LRGBred/200microsec/21-6-42-800.FIT']\n",
      "['/home/emc/GoogleDrive/Phys/Research/BothunLab/SkyPhotos/NewCamera/3January2017/set1/82a/200microsec/21-5-57-172_photometry', '/home/emc/GoogleDrive/Phys/Research/BothunLab/SkyPhotos/NewCamera/3January2017/set1/LRGBred/200microsec/21-6-42-800_photometry']\n",
      "\n",
      "['/home/emc/GoogleDrive/Phys/Research/BothunLab/SkyPhotos/NewCamera/3January2017/set1/82a/200microsec/21-5-57-172.FIT', '/home/emc/GoogleDrive/Phys/Research/BothunLab/SkyPhotos/NewCamera/3January2017/set1/LRGBgreen/200microsec/21-6-30-700.FIT']\n",
      "['/home/emc/GoogleDrive/Phys/Research/BothunLab/SkyPhotos/NewCamera/3January2017/set1/82a/200microsec/21-5-57-172_photometry', '/home/emc/GoogleDrive/Phys/Research/BothunLab/SkyPhotos/NewCamera/3January2017/set1/LRGBgreen/200microsec/21-6-30-700_photometry']\n",
      "\n",
      "['/home/emc/GoogleDrive/Phys/Research/BothunLab/SkyPhotos/NewCamera/3January2017/set1/LRGBblue/200microsec/21-6-42-600.FIT', '/home/emc/GoogleDrive/Phys/Research/BothunLab/SkyPhotos/NewCamera/3January2017/set1/11/200microsec/21-5-34-204.FIT']\n",
      "['/home/emc/GoogleDrive/Phys/Research/BothunLab/SkyPhotos/NewCamera/3January2017/set1/LRGBblue/200microsec/21-6-42-600_photometry', '/home/emc/GoogleDrive/Phys/Research/BothunLab/SkyPhotos/NewCamera/3January2017/set1/11/200microsec/21-5-34-204_photometry']\n",
      "\n",
      "['/home/emc/GoogleDrive/Phys/Research/BothunLab/SkyPhotos/NewCamera/3January2017/set1/LRGBblue/200microsec/21-6-42-600.FIT', '/home/emc/GoogleDrive/Phys/Research/BothunLab/SkyPhotos/NewCamera/3January2017/set1/15/200microsec/21-6-42-988.FIT']\n",
      "['/home/emc/GoogleDrive/Phys/Research/BothunLab/SkyPhotos/NewCamera/3January2017/set1/LRGBblue/200microsec/21-6-42-600_photometry', '/home/emc/GoogleDrive/Phys/Research/BothunLab/SkyPhotos/NewCamera/3January2017/set1/15/200microsec/21-6-42-988_photometry']\n",
      "\n",
      "['/home/emc/GoogleDrive/Phys/Research/BothunLab/SkyPhotos/NewCamera/3January2017/set1/LRGBblue/200microsec/21-6-42-600.FIT', '/home/emc/GoogleDrive/Phys/Research/BothunLab/SkyPhotos/NewCamera/3January2017/set1/LRGBred/200microsec/21-6-42-800.FIT']\n",
      "['/home/emc/GoogleDrive/Phys/Research/BothunLab/SkyPhotos/NewCamera/3January2017/set1/LRGBblue/200microsec/21-6-42-600_photometry', '/home/emc/GoogleDrive/Phys/Research/BothunLab/SkyPhotos/NewCamera/3January2017/set1/LRGBred/200microsec/21-6-42-800_photometry']\n",
      "\n",
      "['/home/emc/GoogleDrive/Phys/Research/BothunLab/SkyPhotos/NewCamera/3January2017/set1/LRGBblue/200microsec/21-6-42-600.FIT', '/home/emc/GoogleDrive/Phys/Research/BothunLab/SkyPhotos/NewCamera/3January2017/set1/LRGBgreen/200microsec/21-6-30-700.FIT']\n",
      "['/home/emc/GoogleDrive/Phys/Research/BothunLab/SkyPhotos/NewCamera/3January2017/set1/LRGBblue/200microsec/21-6-42-600_photometry', '/home/emc/GoogleDrive/Phys/Research/BothunLab/SkyPhotos/NewCamera/3January2017/set1/LRGBgreen/200microsec/21-6-30-700_photometry']\n",
      "\n",
      "['/home/emc/GoogleDrive/Phys/Research/BothunLab/SkyPhotos/NewCamera/3January2017/set1/LRGBluminance/200microsec/21-6-42-900.FIT', '/home/emc/GoogleDrive/Phys/Research/BothunLab/SkyPhotos/NewCamera/3January2017/set1/11/200microsec/21-5-34-204.FIT']\n",
      "['/home/emc/GoogleDrive/Phys/Research/BothunLab/SkyPhotos/NewCamera/3January2017/set1/LRGBluminance/200microsec/21-6-42-900_photometry', '/home/emc/GoogleDrive/Phys/Research/BothunLab/SkyPhotos/NewCamera/3January2017/set1/11/200microsec/21-5-34-204_photometry']\n",
      "\n",
      "['/home/emc/GoogleDrive/Phys/Research/BothunLab/SkyPhotos/NewCamera/3January2017/set1/LRGBluminance/200microsec/21-6-42-900.FIT', '/home/emc/GoogleDrive/Phys/Research/BothunLab/SkyPhotos/NewCamera/3January2017/set1/15/200microsec/21-6-42-988.FIT']\n",
      "['/home/emc/GoogleDrive/Phys/Research/BothunLab/SkyPhotos/NewCamera/3January2017/set1/LRGBluminance/200microsec/21-6-42-900_photometry', '/home/emc/GoogleDrive/Phys/Research/BothunLab/SkyPhotos/NewCamera/3January2017/set1/15/200microsec/21-6-42-988_photometry']\n",
      "\n",
      "['/home/emc/GoogleDrive/Phys/Research/BothunLab/SkyPhotos/NewCamera/3January2017/set1/LRGBluminance/200microsec/21-6-42-900.FIT', '/home/emc/GoogleDrive/Phys/Research/BothunLab/SkyPhotos/NewCamera/3January2017/set1/LRGBred/200microsec/21-6-42-800.FIT']\n",
      "['/home/emc/GoogleDrive/Phys/Research/BothunLab/SkyPhotos/NewCamera/3January2017/set1/LRGBluminance/200microsec/21-6-42-900_photometry', '/home/emc/GoogleDrive/Phys/Research/BothunLab/SkyPhotos/NewCamera/3January2017/set1/LRGBred/200microsec/21-6-42-800_photometry']\n",
      "\n",
      "['/home/emc/GoogleDrive/Phys/Research/BothunLab/SkyPhotos/NewCamera/3January2017/set1/LRGBluminance/200microsec/21-6-42-900.FIT', '/home/emc/GoogleDrive/Phys/Research/BothunLab/SkyPhotos/NewCamera/3January2017/set1/LRGBgreen/200microsec/21-6-30-700.FIT']\n",
      "['/home/emc/GoogleDrive/Phys/Research/BothunLab/SkyPhotos/NewCamera/3January2017/set1/LRGBluminance/200microsec/21-6-42-900_photometry', '/home/emc/GoogleDrive/Phys/Research/BothunLab/SkyPhotos/NewCamera/3January2017/set1/LRGBgreen/200microsec/21-6-30-700_photometry']\n",
      "\n"
     ]
    }
   ],
   "source": [
    "img_path_pairs = [['',''] for i in range(len(combos))]\n",
    "phot_path_pairs = [['',''] for i in range(len(combos))]\n",
    "\n",
    "counter = 0\n",
    "for combo in combos:\n",
    "    for i, p in zip(paths, phots):\n",
    "        b_match_img = re.search('/{}/'.format(combo[0]), i)\n",
    "        b_match_phot = re.search('/{}/'.format(combo[0]), p)\n",
    "        v_match_img = re.search('/{}/'.format(combo[1]), i)\n",
    "        v_match_phot = re.search('/{}/'.format(combo[1]), p)\n",
    "\n",
    "        if (b_match_img is not None) and (b_match_phot is not None):\n",
    "            img_path_pairs[counter][0] = i\n",
    "            phot_path_pairs[counter][0] = p\n",
    "        if (v_match_img is not None) and (v_match_phot is not None):\n",
    "            img_path_pairs[counter][1] = i\n",
    "            phot_path_pairs[counter][1] = p\n",
    "        else:\n",
    "            continue\n",
    "    counter += 1\n",
    "    \n",
    "for item, item2 in zip(img_path_pairs, phot_path_pairs):\n",
    "    print(item)\n",
    "    print(item2)\n",
    "    print\n"
   ]
  },
  {
   "cell_type": "markdown",
   "metadata": {},
   "source": [
    "10:15 am\n",
    "\n",
    "Time to get ready to go to school!\n",
    "\n",
    "Note: I guess the official B_V value for the moon is still 0.94. I'll want to plot around this value when I do the cloud pictures.\n",
    "\n",
    "To Do:\n",
    "\n",
    "1. continue fixing calc_flux_ratio.py so that it intelligently stores the zero points necessary for the right image paths. Probably use a dictionary of format:\n",
    "    (47,11): [[zp_b, zp_v], [img_pairs], [phot_pairs]]\n",
    "2. calculate B-V for Sun also\n",
    "3. Make sure am using correct counts (the Flux column) and bias is subtracted right\n",
    "4. Recalculate B-V dataframes for specific combinations of filters on all data sets\n",
    "5. Plot cloud B-V values which match whatever the moon values are\n",
    "6. Determine if it all worked or not\n",
    "7. More pictures\n"
   ]
  },
  {
   "cell_type": "markdown",
   "metadata": {
    "collapsed": true
   },
   "source": [
    "# 4 May 2017\n",
    "\n",
    "14:00\n",
    "\n",
    "One hour of picture taking.\n",
    "\n",
    "15:00\n"
   ]
  },
  {
   "cell_type": "markdown",
   "metadata": {},
   "source": [
    "# 7 May 2017\n",
    "\n",
    "10:00\n",
    "\n",
    "Today, working on continuing to fix `calc_flux_ratio.py`.\n",
    "\n",
    "10:15\n",
    "\n",
    "Okay, after commenting the code I remembered I need to keep track of the zero points. So let's return to the mock up code I made last time and keep track of zero points."
   ]
  },
  {
   "cell_type": "code",
   "execution_count": 29,
   "metadata": {
    "collapsed": false
   },
   "outputs": [
    {
     "name": "stdout",
     "output_type": "stream",
     "text": [
      "[('47', '11'), ('47', '15'), ('47', 'LRGBred'), ('47', 'LRGBgreen'), ('82a', '11'), ('82a', '15'), ('82a', 'LRGBred'), ('82a', 'LRGBgreen'), ('LRGBblue', '11'), ('LRGBblue', '15'), ('LRGBblue', 'LRGBred'), ('LRGBblue', 'LRGBgreen'), ('LRGBluminance', '11'), ('LRGBluminance', '15'), ('LRGBluminance', 'LRGBred'), ('LRGBluminance', 'LRGBgreen')]\n",
      "\n"
     ]
    }
   ],
   "source": [
    "import itertools\n",
    "\n",
    "blues = ['47', '82a', 'LRGBblue', 'LRGBluminance']\n",
    "visuals = ['11', '15', 'LRGBred', 'LRGBgreen']\n",
    "combos = list(itertools.product(blues, visuals))\n",
    "print(combos)\n",
    "print\n",
    "\n",
    "pathbase = '/home/emc/GoogleDrive/Phys/Research/BothunLab/SkyPhotos/NewCamera/3January2017/set1'\n",
    "\n",
    "paths = [pathbase+'/LRGBblue/200microsec/21-6-42-600.FIT',\n",
    "         pathbase+'/LRGBgreen/200microsec/21-6-30-700.FIT',\n",
    "         pathbase+'/LRGBred/200microsec/21-6-42-800.FIT', \n",
    "         pathbase+'/LRGBluminance/200microsec/21-6-42-900.FIT', \n",
    "         pathbase+'/82a/200microsec/21-5-57-172.FIT',\n",
    "         pathbase+'/11/200microsec/21-5-34-204.FIT',\n",
    "         pathbase+'/15/200microsec/21-6-42-988.FIT', \n",
    "         pathbase+'/none/200microsec/21-6-57-919.FIT',\n",
    "         pathbase+'/47/200microsec/21-7-8-45.FIT']\n",
    "\n",
    "phots = [pathbase+'/LRGBblue/200microsec/21-6-42-600_photometry',\n",
    "         pathbase+'/LRGBgreen/200microsec/21-6-30-700_photometry',\n",
    "         pathbase+'/LRGBred/200microsec/21-6-42-800_photometry', \n",
    "         pathbase+'/LRGBluminance/200microsec/21-6-42-900_photometry', \n",
    "         pathbase+'/82a/200microsec/21-5-57-172_photometry',\n",
    "         pathbase+'/11/200microsec/21-5-34-204_photometry',\n",
    "         pathbase+'/15/200microsec/21-6-42-988_photometry', \n",
    "         pathbase+'/none/200microsec/21-6-57-919_photometry',\n",
    "         pathbase+'/47/200microsec/21-7-8-45_photometry']\n",
    "\n",
    "img_path_pairs = [['',''] for i in range(len(combos))]\n",
    "phot_path_pairs = [['',''] for i in range(len(combos))]\n",
    "\n",
    "counter = 0\n",
    "for combo in combos:\n",
    "    for i, p in zip(paths, phots):\n",
    "        b_match_img = re.search('/{}/'.format(combo[0]), i)\n",
    "        b_match_phot = re.search('/{}/'.format(combo[0]), p)\n",
    "        v_match_img = re.search('/{}/'.format(combo[1]), i)\n",
    "        v_match_phot = re.search('/{}/'.format(combo[1]), p)\n",
    "\n",
    "        if (b_match_img is not None) and (b_match_phot is not None):\n",
    "            img_path_pairs[counter][0] = i\n",
    "            phot_path_pairs[counter][0] = p\n",
    "        if (v_match_img is not None) and (v_match_phot is not None):\n",
    "            img_path_pairs[counter][1] = i\n",
    "            phot_path_pairs[counter][1] = p\n",
    "        else:\n",
    "            continue\n",
    "    counter += 1"
   ]
  },
  {
   "cell_type": "markdown",
   "metadata": {},
   "source": [
    "Note: The lists of paths are in the same order as the combos above so we can just use the list of combos to track the zero points.\n",
    "\n",
    "zero points:\n",
    "\n",
    "    zp_v_11 = -1.24\n",
    "    zp_v_15 = -1.67\n",
    "    zp_v_red = -2.48\n",
    "    zp_v_green = -1.89\n",
    "    zp_b_47 = -3.74\n",
    "    zp_b_82a = 0.13\n",
    "    zp_b_blue = -1.45\n",
    "    zp_b_lum = 0.14"
   ]
  },
  {
   "cell_type": "code",
   "execution_count": 30,
   "metadata": {
    "collapsed": false
   },
   "outputs": [
    {
     "name": "stdout",
     "output_type": "stream",
     "text": [
      "[[-3.74, -1.24], [-3.74, -1.67], [-3.74, -2.48], [-3.74, -1.89], [0.13, -1.24], [0.13, -1.67], [0.13, -2.48], [0.13, -1.89], [-1.45, -1.24], [-1.45, -1.67], [-1.45, -2.48], [-1.45, -1.89], [0.14, -1.24], [0.14, -1.67], [0.14, -2.48], [0.14, -1.89]]\n"
     ]
    }
   ],
   "source": [
    "# made these variables last time, these are the zero points for each filter.\n",
    "zp_dict = {'11': -1.24, '15': -1.67, '47': -3.74, '82a': 0.13, 'LRGBred': -2.48, \n",
    "           'LRGBgreen': -1.89, 'LRGBblue': -1.45, 'LRGBluminance': 0.14, }\n",
    "\n",
    "zps = [list(i) for i in combos]\n",
    "\n",
    "for combo in zps:\n",
    "    combo[0] = zp_dict[combo[0]]\n",
    "    combo[1] = zp_dict[combo[1]]\n",
    "\n",
    "print(zps)"
   ]
  },
  {
   "cell_type": "markdown",
   "metadata": {},
   "source": [
    "10:30\n",
    "\n",
    "OKay I think it's all fixed! Now to try it (read: calculate some flux ratios) and doubtlessly troubleshoot but at least the code is put together.\n",
    "\n",
    "Greg also told me to try this with a much bigger cell--i.e. just draw a cell around the clouds and the sky to see what I get. "
   ]
  },
  {
   "cell_type": "markdown",
   "metadata": {},
   "source": [
    "10:56\n",
    "\n",
    "Ruh roh--the manual photometry files don't contain filter information. I need to go back and \n",
    "\n",
    "    a) fill that in \n",
    "    b) figure out where I stick that into the photometry file and make it work for when I do it manually\n",
    "    \n",
    "Oh, right--it's passed in as a parameter I think, somewhere in `epar polyphot`. When I did this manually I had to call the command manually. So that was the problem. Luckily I can just look in the enclosing folder for the filters, and then insert by hand--because there's only one data point for the photometry of the moon, which is all I had done so far."
   ]
  },
  {
   "cell_type": "code",
   "execution_count": 31,
   "metadata": {
    "collapsed": false
   },
   "outputs": [
    {
     "data": {
      "text/html": [
       "<div>\n",
       "<table border=\"1\" class=\"dataframe\">\n",
       "  <thead>\n",
       "    <tr style=\"text-align: right;\">\n",
       "      <th></th>\n",
       "      <th>one</th>\n",
       "      <th>three</th>\n",
       "      <th>two</th>\n",
       "    </tr>\n",
       "  </thead>\n",
       "  <tbody>\n",
       "    <tr>\n",
       "      <th>0</th>\n",
       "      <td>1</td>\n",
       "      <td>3</td>\n",
       "      <td>2</td>\n",
       "    </tr>\n",
       "    <tr>\n",
       "      <th>1</th>\n",
       "      <td>1</td>\n",
       "      <td>3</td>\n",
       "      <td>2</td>\n",
       "    </tr>\n",
       "    <tr>\n",
       "      <th>2</th>\n",
       "      <td>1</td>\n",
       "      <td>3</td>\n",
       "      <td>2</td>\n",
       "    </tr>\n",
       "  </tbody>\n",
       "</table>\n",
       "</div>"
      ],
      "text/plain": [
       "   one  three  two\n",
       "0    1      3    2\n",
       "1    1      3    2\n",
       "2    1      3    2"
      ]
     },
     "execution_count": 31,
     "metadata": {},
     "output_type": "execute_result"
    }
   ],
   "source": [
    "dict1 = {'one': [1,1,1], 'two': [2,2,2], 'three': [3,3,3]}\n",
    "import pandas as pd\n",
    "\n",
    "df1 = pd.DataFrame(data=dict1)\n",
    "df1"
   ]
  },
  {
   "cell_type": "code",
   "execution_count": 32,
   "metadata": {
    "collapsed": false
   },
   "outputs": [
    {
     "data": {
      "text/html": [
       "<div>\n",
       "<table border=\"1\" class=\"dataframe\">\n",
       "  <thead>\n",
       "    <tr style=\"text-align: right;\">\n",
       "      <th></th>\n",
       "      <th>one</th>\n",
       "      <th>nine</th>\n",
       "      <th>two</th>\n",
       "    </tr>\n",
       "  </thead>\n",
       "  <tbody>\n",
       "    <tr>\n",
       "      <th>0</th>\n",
       "      <td>1</td>\n",
       "      <td>9</td>\n",
       "      <td>2</td>\n",
       "    </tr>\n",
       "    <tr>\n",
       "      <th>1</th>\n",
       "      <td>1</td>\n",
       "      <td>9</td>\n",
       "      <td>2</td>\n",
       "    </tr>\n",
       "    <tr>\n",
       "      <th>2</th>\n",
       "      <td>1</td>\n",
       "      <td>9</td>\n",
       "      <td>2</td>\n",
       "    </tr>\n",
       "  </tbody>\n",
       "</table>\n",
       "</div>"
      ],
      "text/plain": [
       "   one  nine  two\n",
       "0    1     9    2\n",
       "1    1     9    2\n",
       "2    1     9    2"
      ]
     },
     "execution_count": 32,
     "metadata": {},
     "output_type": "execute_result"
    }
   ],
   "source": [
    "df2 = df1.copy(deep=True)\n",
    "df2['three'] = [9,9,9]\n",
    "df2.rename(columns={'three': 'nine'}, inplace=True)\n",
    "df2"
   ]
  },
  {
   "cell_type": "code",
   "execution_count": 33,
   "metadata": {
    "collapsed": false,
    "scrolled": true
   },
   "outputs": [
    {
     "data": {
      "text/html": [
       "<div>\n",
       "<table border=\"1\" class=\"dataframe\">\n",
       "  <thead>\n",
       "    <tr style=\"text-align: right;\">\n",
       "      <th></th>\n",
       "      <th>one</th>\n",
       "      <th>B-V</th>\n",
       "      <th>two</th>\n",
       "    </tr>\n",
       "  </thead>\n",
       "  <tbody>\n",
       "    <tr>\n",
       "      <th>0</th>\n",
       "      <td>1</td>\n",
       "      <td>6</td>\n",
       "      <td>2</td>\n",
       "    </tr>\n",
       "    <tr>\n",
       "      <th>1</th>\n",
       "      <td>1</td>\n",
       "      <td>6</td>\n",
       "      <td>2</td>\n",
       "    </tr>\n",
       "    <tr>\n",
       "      <th>2</th>\n",
       "      <td>1</td>\n",
       "      <td>6</td>\n",
       "      <td>2</td>\n",
       "    </tr>\n",
       "  </tbody>\n",
       "</table>\n",
       "</div>"
      ],
      "text/plain": [
       "   one  B-V  two\n",
       "0    1    6    2\n",
       "1    1    6    2\n",
       "2    1    6    2"
      ]
     },
     "execution_count": 33,
     "metadata": {},
     "output_type": "execute_result"
    }
   ],
   "source": [
    "df3 = df2.copy(deep=True)\n",
    "df3['nine'] = df2['nine'] - df1['three']\n",
    "df3.rename(columns={'nine': 'B-V'}, inplace=True)\n",
    "df3"
   ]
  },
  {
   "cell_type": "code",
   "execution_count": 34,
   "metadata": {
    "collapsed": false
   },
   "outputs": [
    {
     "data": {
      "text/html": [
       "<div>\n",
       "<table border=\"1\" class=\"dataframe\">\n",
       "  <thead>\n",
       "    <tr style=\"text-align: right;\">\n",
       "      <th></th>\n",
       "      <th>B-V</th>\n",
       "      <th>two</th>\n",
       "    </tr>\n",
       "  </thead>\n",
       "  <tbody>\n",
       "    <tr>\n",
       "      <th>0</th>\n",
       "      <td>6</td>\n",
       "      <td>2</td>\n",
       "    </tr>\n",
       "    <tr>\n",
       "      <th>1</th>\n",
       "      <td>6</td>\n",
       "      <td>2</td>\n",
       "    </tr>\n",
       "    <tr>\n",
       "      <th>2</th>\n",
       "      <td>6</td>\n",
       "      <td>2</td>\n",
       "    </tr>\n",
       "  </tbody>\n",
       "</table>\n",
       "</div>"
      ],
      "text/plain": [
       "   B-V  two\n",
       "0    6    2\n",
       "1    6    2\n",
       "2    6    2"
      ]
     },
     "execution_count": 34,
     "metadata": {},
     "output_type": "execute_result"
    }
   ],
   "source": [
    "del df3['one']\n",
    "df3"
   ]
  },
  {
   "cell_type": "code",
   "execution_count": 35,
   "metadata": {
    "collapsed": false
   },
   "outputs": [
    {
     "data": {
      "text/html": [
       "<div>\n",
       "<table border=\"1\" class=\"dataframe\">\n",
       "  <thead>\n",
       "    <tr style=\"text-align: right;\">\n",
       "      <th></th>\n",
       "      <th>one</th>\n",
       "      <th>three</th>\n",
       "      <th>two</th>\n",
       "    </tr>\n",
       "  </thead>\n",
       "  <tbody>\n",
       "    <tr>\n",
       "      <th>0</th>\n",
       "      <td>1</td>\n",
       "      <td>3</td>\n",
       "      <td>2</td>\n",
       "    </tr>\n",
       "    <tr>\n",
       "      <th>1</th>\n",
       "      <td>1</td>\n",
       "      <td>3</td>\n",
       "      <td>2</td>\n",
       "    </tr>\n",
       "    <tr>\n",
       "      <th>2</th>\n",
       "      <td>1</td>\n",
       "      <td>3</td>\n",
       "      <td>2</td>\n",
       "    </tr>\n",
       "  </tbody>\n",
       "</table>\n",
       "</div>"
      ],
      "text/plain": [
       "   one  three  two\n",
       "0    1      3    2\n",
       "1    1      3    2\n",
       "2    1      3    2"
      ]
     },
     "execution_count": 35,
     "metadata": {},
     "output_type": "execute_result"
    }
   ],
   "source": [
    "df1"
   ]
  },
  {
   "cell_type": "code",
   "execution_count": 36,
   "metadata": {
    "collapsed": false
   },
   "outputs": [
    {
     "data": {
      "text/html": [
       "<div>\n",
       "<table border=\"1\" class=\"dataframe\">\n",
       "  <thead>\n",
       "    <tr style=\"text-align: right;\">\n",
       "      <th></th>\n",
       "      <th>one</th>\n",
       "      <th>nine</th>\n",
       "      <th>two</th>\n",
       "    </tr>\n",
       "  </thead>\n",
       "  <tbody>\n",
       "    <tr>\n",
       "      <th>0</th>\n",
       "      <td>1</td>\n",
       "      <td>9</td>\n",
       "      <td>2</td>\n",
       "    </tr>\n",
       "    <tr>\n",
       "      <th>1</th>\n",
       "      <td>1</td>\n",
       "      <td>9</td>\n",
       "      <td>2</td>\n",
       "    </tr>\n",
       "    <tr>\n",
       "      <th>2</th>\n",
       "      <td>1</td>\n",
       "      <td>9</td>\n",
       "      <td>2</td>\n",
       "    </tr>\n",
       "  </tbody>\n",
       "</table>\n",
       "</div>"
      ],
      "text/plain": [
       "   one  nine  two\n",
       "0    1     9    2\n",
       "1    1     9    2\n",
       "2    1     9    2"
      ]
     },
     "execution_count": 36,
     "metadata": {},
     "output_type": "execute_result"
    }
   ],
   "source": [
    "df2"
   ]
  },
  {
   "cell_type": "markdown",
   "metadata": {},
   "source": [
    "12:00 pm\n",
    "\n",
    "OK, just about time to go to lunch with parents so have to stop. The B-V files are now successfully created, but the output in them is kind of stupid looking and it's also printing a column that shouldn't be there, so I need to go back and review how the dataframes are created and fix that."
   ]
  },
  {
   "cell_type": "markdown",
   "metadata": {
    "collapsed": true
   },
   "source": [
    "15:00\n",
    "\n",
    "Back at it after going to lunch!\n",
    "\n",
    "15:09\n",
    "\n",
    "Wahoo! It seems to be working and I've calculated the B-V value for the moon in various pairs of filters, and it's quite close to the value in the actual B-V system. Check it out:"
   ]
  },
  {
   "cell_type": "code",
   "execution_count": 46,
   "metadata": {
    "collapsed": false
   },
   "outputs": [
    {
     "data": {
      "text/plain": [
       "{'47-11': 1.04,\n",
       " '47-15': 1.04,\n",
       " '47-LRGBgreen': 1.03,\n",
       " '47-LRGBred': 1.03,\n",
       " '82a-11': 0.94,\n",
       " '82a-15': 0.94,\n",
       " '82a-LRGBgreen': 0.94,\n",
       " '82a-LRGBred': 0.93,\n",
       " 'LRGBblue-11': 0.94,\n",
       " 'LRGBblue-15': 0.94,\n",
       " 'LRGBblue-LRGBgreen': 0.94,\n",
       " 'LRGBblue-LRGBred': 0.93,\n",
       " 'LRGBluminance-11': 0.94,\n",
       " 'LRGBluminance-15': 0.94,\n",
       " 'LRGBluminance-LRGBgreen': 0.94,\n",
       " 'LRGBluminance-LRGBred': 0.94}"
      ]
     },
     "execution_count": 46,
     "metadata": {},
     "output_type": "execute_result"
    }
   ],
   "source": [
    "path = '/home/emc/GoogleDrive/Phys/Research/BothunLab/SkyPhotos/NewCamera/' \\\n",
    "       '10April2017_MOON_1/set1/'\n",
    "files = !ls SkyPhotos/NewCamera/10April2017_MOON_1/set1 | grep .csv\n",
    "B_V_moon = {}\n",
    "\n",
    "for fname in files:\n",
    "    longf = path + fname\n",
    "    filters = re.search('(?<=V_).+-.+(?=.csv)', longf).group(0)\n",
    "    with open(longf, 'r') as f:\n",
    "        junk = f.readline()\n",
    "        b_v = f.readline().split(',')[1]\n",
    "        B_V_moon[filters] = round(float(b_v),2)\n",
    "        \n",
    "B_V_moon"
   ]
  },
  {
   "cell_type": "markdown",
   "metadata": {},
   "source": [
    "Thinking: right now the code is doing this when it subtracts the bias:\n",
    "\n",
    "    flux = flux - (bias * area)\n",
    "\n",
    "Yes... that should be right. From the documentation, 'flux' is the counts per area excluding the sky background, and 'sum' is the counts per area including the sky background.\n",
    "\n",
    "Therefore, multiplying the bias by the area gives the total to subtract from flux. It doesn't matter whether it's subtracted from flux or sum because it is a constant. But, indeed, I want to use flux, since that excludes the sky background. So the code is fine. I think these B-V values are good.\n",
    "\n",
    "It's interesting that the values where 47 is the blue filter are significantly higher. However, as I determined earlier, the LRGB blue filter and LRGB green filter are the closest I have to the actual B and V filters in the UBV system, and indeed, their value is 0.94, which is quite close to the actual moon value in UBV. So I'm going to give this a big check mark.<br /><br />\n",
    "\n",
    "<font size=\"50\">✓</font>"
   ]
  },
  {
   "cell_type": "code",
   "execution_count": 47,
   "metadata": {
    "collapsed": false
   },
   "outputs": [
    {
     "name": "stdout",
     "output_type": "stream",
     "text": [
      "82a-15: 0.94\n",
      "82a-LRGBred: 0.93\n",
      "47-LRGBgreen: 1.03\n",
      "LRGBluminance-LRGBgreen: 0.94\n",
      "82a-11: 0.94\n",
      "LRGBblue-LRGBgreen: 0.94\n",
      "47-11: 1.04\n",
      "LRGBluminance-LRGBred: 0.94\n",
      "47-15: 1.04\n",
      "47-LRGBred: 1.03\n",
      "82a-LRGBgreen: 0.94\n",
      "LRGBluminance-11: 0.94\n",
      "LRGBblue-LRGBred: 0.93\n",
      "LRGBblue-11: 0.94\n",
      "LRGBluminance-15: 0.94\n",
      "LRGBblue-15: 0.94\n"
     ]
    }
   ],
   "source": [
    "for key,value in B_V_moon.items():\n",
    "    print('{}: {}'.format(key, value))"
   ]
  },
  {
   "cell_type": "markdown",
   "metadata": {},
   "source": [
    "16:19\n",
    "\n",
    "Update: I'm getting a math error when I try and process the sun photos in the same way; when I look at the first few lines of values, one of the dataframes (the blue one, incidentally) has a negative value in the flux column. Now I remember--Elsa said this value could be negative sometimes. Now that I know a little more about what's going on, I think it's negative when whatever I've established as the sky background is too high of a guess, so the flux (total counts - sky) actually ends up negative. So maybe that's why I'm supposed to use sum. I'll try it here, and then try it again with moon, and see how much it changes my values.\n",
    "\n",
    "Update 2: I get the same math error when I use the 'counts' column with the sun data. So maybe that's not the reason.\n",
    "\n",
    "Update 3: Come to think of it, what's probably going on is that the code is trying to take the log10 of 0 or 1 or something."
   ]
  },
  {
   "cell_type": "code",
   "execution_count": 48,
   "metadata": {
    "collapsed": false
   },
   "outputs": [
    {
     "name": "stdout",
     "output_type": "stream",
     "text": [
      "0.0\n"
     ]
    },
    {
     "ename": "ValueError",
     "evalue": "math domain error",
     "output_type": "error",
     "traceback": [
      "\u001b[0;31m---------------------------------------------------------------------------\u001b[0m",
      "\u001b[0;31mValueError\u001b[0m                                Traceback (most recent call last)",
      "\u001b[0;32m<ipython-input-48-ec7107048270>\u001b[0m in \u001b[0;36m<module>\u001b[0;34m()\u001b[0m\n\u001b[1;32m      2\u001b[0m \u001b[0;34m\u001b[0m\u001b[0m\n\u001b[1;32m      3\u001b[0m \u001b[0;32mprint\u001b[0m\u001b[0;34m(\u001b[0m\u001b[0mlog10\u001b[0m\u001b[0;34m(\u001b[0m\u001b[0;36m1\u001b[0m\u001b[0;34m)\u001b[0m\u001b[0;34m)\u001b[0m\u001b[0;34m\u001b[0m\u001b[0m\n\u001b[0;32m----> 4\u001b[0;31m \u001b[0;32mprint\u001b[0m\u001b[0;34m(\u001b[0m\u001b[0mlog10\u001b[0m\u001b[0;34m(\u001b[0m\u001b[0;36m0\u001b[0m\u001b[0;34m)\u001b[0m\u001b[0;34m)\u001b[0m\u001b[0;34m\u001b[0m\u001b[0m\n\u001b[0m",
      "\u001b[0;31mValueError\u001b[0m: math domain error"
     ]
    }
   ],
   "source": [
    "from math import log10\n",
    "\n",
    "print(log10(1))\n",
    "print(log10(0))"
   ]
  },
  {
   "cell_type": "markdown",
   "metadata": {},
   "source": [
    "Yeah, I'm gonna guess that there is some entry in there where it gets a value of 0 inside the log. But then why didn't that happen with the moon data? Hmm.. maybe it's getting an INFINITE value instead? divide by 0 error?"
   ]
  },
  {
   "cell_type": "code",
   "execution_count": 41,
   "metadata": {
    "collapsed": false
   },
   "outputs": [
    {
     "ename": "ZeroDivisionError",
     "evalue": "integer division or modulo by zero",
     "output_type": "error",
     "traceback": [
      "\u001b[0;31m---------------------------------------------------------------------------\u001b[0m",
      "\u001b[0;31mZeroDivisionError\u001b[0m                         Traceback (most recent call last)",
      "\u001b[0;32m<ipython-input-41-3202150e99d9>\u001b[0m in \u001b[0;36m<module>\u001b[0;34m()\u001b[0m\n\u001b[0;32m----> 1\u001b[0;31m \u001b[0;32mprint\u001b[0m\u001b[0;34m(\u001b[0m\u001b[0mlog10\u001b[0m\u001b[0;34m(\u001b[0m\u001b[0;36m255\u001b[0m\u001b[0;34m/\u001b[0m\u001b[0;36m0\u001b[0m\u001b[0;34m)\u001b[0m\u001b[0;34m)\u001b[0m\u001b[0;34m\u001b[0m\u001b[0m\n\u001b[0m",
      "\u001b[0;31mZeroDivisionError\u001b[0m: integer division or modulo by zero"
     ]
    }
   ],
   "source": [
    "print(log10(255/0))"
   ]
  },
  {
   "cell_type": "markdown",
   "metadata": {},
   "source": [
    "No, I would get the above message if that was the problem and the error message is\n",
    "\n",
    "    Traceback (most recent call last):\n",
    "      File \"calc_flux_ratio.py\", line 304, in <module>\n",
    "        BVdf, metadataV, metadataB = get_flux_ratio(phots, zp, pt)\n",
    "      File \"calc_flux_ratio.py\", line 203, in get_flux_ratio\n",
    "        dfB['Counts'] = dfB['Counts'].apply(to_mag_b)\n",
    "      File \"/home/emc/anaconda3/envs/astroconda/lib/python2.7/site-packages/pandas/core/series.py\", line 2220, in apply\n",
    "        mapped = lib.map_infer(values, f, convert=convert_dtype)\n",
    "      File \"pandas/src/inference.pyx\", line 1088, in pandas.lib.map_infer (pandas/lib.c:62658)\n",
    "      File \"calc_flux_ratio.py\", line 199, in <lambda>\n",
    "        to_mag_b = lambda x: -2.5 * log10(x) + zp_b\n",
    "    ValueError: math domain error\n",
    "\n",
    "Okay, yup, it's getting zeros for some reason. Check it out, I printed some entries in the dataframe where the flux is 0 (actually the counts and area are too, so these rows must be bad):\n",
    "\n",
    "           Counts  Area(pixels)  Flux               v1               v2  \\\n",
    "    4      0.0           0.0   0.0    [1024.0, 0.0]    [1280.0, 0.0]   \n",
    "    9      0.0           0.0   0.0  [1024.0, 240.0]  [1280.0, 240.0]   \n",
    "    14     0.0           0.0   0.0  [1024.0, 480.0]  [1280.0, 480.0]   \n",
    "    15     0.0           0.0   0.0     [0.0, 720.0]   [256.0, 720.0]   \n",
    "    16     0.0           0.0   0.0   [256.0, 720.0]   [512.0, 720.0]   \n",
    "    17     0.0           0.0   0.0   [512.0, 720.0]   [768.0, 720.0]   \n",
    "    18     0.0           0.0   0.0   [768.0, 720.0]  [1024.0, 720.0]   \n",
    "    19     0.0           0.0   0.0  [1024.0, 720.0]  [1280.0, 720.0]  \n",
    "    \n",
    "Hmm... I removed those rows, and it still has the same error...\n",
    "\n",
    "Ah, one of the flux is still negative. This also produces a math domain error:"
   ]
  },
  {
   "cell_type": "code",
   "execution_count": 42,
   "metadata": {
    "collapsed": false
   },
   "outputs": [
    {
     "ename": "ValueError",
     "evalue": "math domain error",
     "output_type": "error",
     "traceback": [
      "\u001b[0;31m---------------------------------------------------------------------------\u001b[0m",
      "\u001b[0;31mValueError\u001b[0m                                Traceback (most recent call last)",
      "\u001b[0;32m<ipython-input-42-8d79e340c1a1>\u001b[0m in \u001b[0;36m<module>\u001b[0;34m()\u001b[0m\n\u001b[0;32m----> 1\u001b[0;31m \u001b[0;32mprint\u001b[0m\u001b[0;34m(\u001b[0m\u001b[0mlog10\u001b[0m\u001b[0;34m(\u001b[0m\u001b[0;34m-\u001b[0m\u001b[0;36m5\u001b[0m\u001b[0;34m)\u001b[0m\u001b[0;34m)\u001b[0m\u001b[0;34m\u001b[0m\u001b[0m\n\u001b[0m",
      "\u001b[0;31mValueError\u001b[0m: math domain error"
     ]
    }
   ],
   "source": [
    "print(log10(-5))"
   ]
  },
  {
   "cell_type": "markdown",
   "metadata": {},
   "source": [
    "Okay, got it. But that doesn't leave many cells. Anyway, I'll go ahead and see what it looks like so I can see if any cell overlaps the sun."
   ]
  },
  {
   "cell_type": "code",
   "execution_count": 49,
   "metadata": {
    "collapsed": false
   },
   "outputs": [
    {
     "ename": "IOError",
     "evalue": "[Errno 2] No such file or directory: '/home/emc/GoogleDrive/Phys/Research/BothunLab/SkyPhotos/NewCamera/28April2017_SUN/set1/None/1microsec/16-48-38-732.FIT'",
     "output_type": "error",
     "traceback": [
      "\u001b[0;31m---------------------------------------------------------------------------\u001b[0m",
      "\u001b[0;31mIOError\u001b[0m                                   Traceback (most recent call last)",
      "\u001b[0;32m<ipython-input-49-53b953a44ca0>\u001b[0m in \u001b[0;36m<module>\u001b[0;34m()\u001b[0m\n\u001b[1;32m      5\u001b[0m \u001b[0mpathN\u001b[0m \u001b[0;34m=\u001b[0m \u001b[0;34m'/'\u001b[0m\u001b[0;34m.\u001b[0m\u001b[0mjoin\u001b[0m\u001b[0;34m(\u001b[0m\u001b[0;34m[\u001b[0m\u001b[0mdefault\u001b[0m\u001b[0;34m,\u001b[0m \u001b[0mdir_extN\u001b[0m\u001b[0;34m,\u001b[0m \u001b[0mimgN\u001b[0m\u001b[0;34m]\u001b[0m\u001b[0;34m)\u001b[0m\u001b[0;34m\u001b[0m\u001b[0m\n\u001b[1;32m      6\u001b[0m \u001b[0mimg_fileN\u001b[0m \u001b[0;34m=\u001b[0m \u001b[0mpathN\u001b[0m \u001b[0;32mif\u001b[0m \u001b[0mpathN\u001b[0m\u001b[0;34m[\u001b[0m\u001b[0;34m-\u001b[0m\u001b[0;36m4\u001b[0m\u001b[0;34m:\u001b[0m\u001b[0;34m]\u001b[0m \u001b[0;34m==\u001b[0m \u001b[0;34m'.FIT'\u001b[0m \u001b[0;32melse\u001b[0m \u001b[0mpathN\u001b[0m \u001b[0;34m+\u001b[0m \u001b[0;34m'.FIT'\u001b[0m\u001b[0;34m\u001b[0m\u001b[0m\n\u001b[0;32m----> 7\u001b[0;31m \u001b[0mhdu_list\u001b[0m \u001b[0;34m=\u001b[0m \u001b[0mfits\u001b[0m\u001b[0;34m.\u001b[0m\u001b[0mopen\u001b[0m\u001b[0;34m(\u001b[0m\u001b[0mimg_fileN\u001b[0m\u001b[0;34m)\u001b[0m\u001b[0;34m\u001b[0m\u001b[0m\n\u001b[0m\u001b[1;32m      8\u001b[0m \u001b[0mhdu_list\u001b[0m\u001b[0;34m.\u001b[0m\u001b[0minfo\u001b[0m\u001b[0;34m(\u001b[0m\u001b[0;34m)\u001b[0m\u001b[0;34m\u001b[0m\u001b[0m\n\u001b[1;32m      9\u001b[0m \u001b[0mimage_data\u001b[0m \u001b[0;34m=\u001b[0m \u001b[0mhdu_list\u001b[0m\u001b[0;34m[\u001b[0m\u001b[0;36m0\u001b[0m\u001b[0;34m]\u001b[0m\u001b[0;34m.\u001b[0m\u001b[0mdata\u001b[0m\u001b[0;34m\u001b[0m\u001b[0m\n",
      "\u001b[0;32m/home/emc/anaconda3/envs/astroconda/lib/python2.7/site-packages/astropy/io/fits/hdu/hdulist.pyc\u001b[0m in \u001b[0;36mfitsopen\u001b[0;34m(name, mode, memmap, save_backup, cache, **kwargs)\u001b[0m\n\u001b[1;32m    137\u001b[0m         \u001b[0;32mraise\u001b[0m \u001b[0mValueError\u001b[0m\u001b[0;34m(\u001b[0m\u001b[0;34m'Empty filename: %s'\u001b[0m \u001b[0;34m%\u001b[0m \u001b[0mrepr\u001b[0m\u001b[0;34m(\u001b[0m\u001b[0mname\u001b[0m\u001b[0;34m)\u001b[0m\u001b[0;34m)\u001b[0m\u001b[0;34m\u001b[0m\u001b[0m\n\u001b[1;32m    138\u001b[0m \u001b[0;34m\u001b[0m\u001b[0m\n\u001b[0;32m--> 139\u001b[0;31m     \u001b[0;32mreturn\u001b[0m \u001b[0mHDUList\u001b[0m\u001b[0;34m.\u001b[0m\u001b[0mfromfile\u001b[0m\u001b[0;34m(\u001b[0m\u001b[0mname\u001b[0m\u001b[0;34m,\u001b[0m \u001b[0mmode\u001b[0m\u001b[0;34m,\u001b[0m \u001b[0mmemmap\u001b[0m\u001b[0;34m,\u001b[0m \u001b[0msave_backup\u001b[0m\u001b[0;34m,\u001b[0m \u001b[0mcache\u001b[0m\u001b[0;34m,\u001b[0m \u001b[0;34m**\u001b[0m\u001b[0mkwargs\u001b[0m\u001b[0;34m)\u001b[0m\u001b[0;34m\u001b[0m\u001b[0m\n\u001b[0m\u001b[1;32m    140\u001b[0m \u001b[0;34m\u001b[0m\u001b[0m\n\u001b[1;32m    141\u001b[0m \u001b[0;34m\u001b[0m\u001b[0m\n",
      "\u001b[0;32m/home/emc/anaconda3/envs/astroconda/lib/python2.7/site-packages/astropy/io/fits/hdu/hdulist.pyc\u001b[0m in \u001b[0;36mfromfile\u001b[0;34m(cls, fileobj, mode, memmap, save_backup, cache, **kwargs)\u001b[0m\n\u001b[1;32m    279\u001b[0m \u001b[0;34m\u001b[0m\u001b[0m\n\u001b[1;32m    280\u001b[0m         return cls._readfrom(fileobj=fileobj, mode=mode, memmap=memmap,\n\u001b[0;32m--> 281\u001b[0;31m                              save_backup=save_backup, cache=cache, **kwargs)\n\u001b[0m\u001b[1;32m    282\u001b[0m \u001b[0;34m\u001b[0m\u001b[0m\n\u001b[1;32m    283\u001b[0m     \u001b[0;34m@\u001b[0m\u001b[0mclassmethod\u001b[0m\u001b[0;34m\u001b[0m\u001b[0m\n",
      "\u001b[0;32m/home/emc/anaconda3/envs/astroconda/lib/python2.7/site-packages/astropy/io/fits/hdu/hdulist.pyc\u001b[0m in \u001b[0;36m_readfrom\u001b[0;34m(cls, fileobj, data, mode, memmap, save_backup, cache, **kwargs)\u001b[0m\n\u001b[1;32m    800\u001b[0m             \u001b[0;32mif\u001b[0m \u001b[0;32mnot\u001b[0m \u001b[0misinstance\u001b[0m\u001b[0;34m(\u001b[0m\u001b[0mfileobj\u001b[0m\u001b[0;34m,\u001b[0m \u001b[0m_File\u001b[0m\u001b[0;34m)\u001b[0m\u001b[0;34m:\u001b[0m\u001b[0;34m\u001b[0m\u001b[0m\n\u001b[1;32m    801\u001b[0m                 \u001b[0;31m# instantiate a FITS file object (ffo)\u001b[0m\u001b[0;34m\u001b[0m\u001b[0;34m\u001b[0m\u001b[0m\n\u001b[0;32m--> 802\u001b[0;31m                 \u001b[0mffo\u001b[0m \u001b[0;34m=\u001b[0m \u001b[0m_File\u001b[0m\u001b[0;34m(\u001b[0m\u001b[0mfileobj\u001b[0m\u001b[0;34m,\u001b[0m \u001b[0mmode\u001b[0m\u001b[0;34m=\u001b[0m\u001b[0mmode\u001b[0m\u001b[0;34m,\u001b[0m \u001b[0mmemmap\u001b[0m\u001b[0;34m=\u001b[0m\u001b[0mmemmap\u001b[0m\u001b[0;34m,\u001b[0m \u001b[0mcache\u001b[0m\u001b[0;34m=\u001b[0m\u001b[0mcache\u001b[0m\u001b[0;34m)\u001b[0m\u001b[0;34m\u001b[0m\u001b[0m\n\u001b[0m\u001b[1;32m    803\u001b[0m             \u001b[0;32melse\u001b[0m\u001b[0;34m:\u001b[0m\u001b[0;34m\u001b[0m\u001b[0m\n\u001b[1;32m    804\u001b[0m                 \u001b[0mffo\u001b[0m \u001b[0;34m=\u001b[0m \u001b[0mfileobj\u001b[0m\u001b[0;34m\u001b[0m\u001b[0m\n",
      "\u001b[0;32m/home/emc/anaconda3/envs/astroconda/lib/python2.7/site-packages/astropy/io/fits/file.pyc\u001b[0m in \u001b[0;36m__init__\u001b[0;34m(self, fileobj, mode, memmap, clobber, cache)\u001b[0m\n\u001b[1;32m    148\u001b[0m             \u001b[0mself\u001b[0m\u001b[0;34m.\u001b[0m\u001b[0m_open_fileobj\u001b[0m\u001b[0;34m(\u001b[0m\u001b[0mfileobj\u001b[0m\u001b[0;34m,\u001b[0m \u001b[0mmode\u001b[0m\u001b[0;34m,\u001b[0m \u001b[0mclobber\u001b[0m\u001b[0;34m)\u001b[0m\u001b[0;34m\u001b[0m\u001b[0m\n\u001b[1;32m    149\u001b[0m         \u001b[0;32melif\u001b[0m \u001b[0misinstance\u001b[0m\u001b[0;34m(\u001b[0m\u001b[0mfileobj\u001b[0m\u001b[0;34m,\u001b[0m \u001b[0mstring_types\u001b[0m\u001b[0;34m)\u001b[0m\u001b[0;34m:\u001b[0m\u001b[0;34m\u001b[0m\u001b[0m\n\u001b[0;32m--> 150\u001b[0;31m             \u001b[0mself\u001b[0m\u001b[0;34m.\u001b[0m\u001b[0m_open_filename\u001b[0m\u001b[0;34m(\u001b[0m\u001b[0mfileobj\u001b[0m\u001b[0;34m,\u001b[0m \u001b[0mmode\u001b[0m\u001b[0;34m,\u001b[0m \u001b[0mclobber\u001b[0m\u001b[0;34m)\u001b[0m\u001b[0;34m\u001b[0m\u001b[0m\n\u001b[0m\u001b[1;32m    151\u001b[0m         \u001b[0;32melse\u001b[0m\u001b[0;34m:\u001b[0m\u001b[0;34m\u001b[0m\u001b[0m\n\u001b[1;32m    152\u001b[0m             \u001b[0mself\u001b[0m\u001b[0;34m.\u001b[0m\u001b[0m_open_filelike\u001b[0m\u001b[0;34m(\u001b[0m\u001b[0mfileobj\u001b[0m\u001b[0;34m,\u001b[0m \u001b[0mmode\u001b[0m\u001b[0;34m,\u001b[0m \u001b[0mclobber\u001b[0m\u001b[0;34m)\u001b[0m\u001b[0;34m\u001b[0m\u001b[0m\n",
      "\u001b[0;32m/home/emc/anaconda3/envs/astroconda/lib/python2.7/site-packages/astropy/io/fits/file.pyc\u001b[0m in \u001b[0;36m_open_filename\u001b[0;34m(self, filename, mode, clobber)\u001b[0m\n\u001b[1;32m    500\u001b[0m             \u001b[0mself\u001b[0m\u001b[0;34m.\u001b[0m\u001b[0m_file\u001b[0m \u001b[0;34m=\u001b[0m \u001b[0mbz2\u001b[0m\u001b[0;34m.\u001b[0m\u001b[0mBZ2File\u001b[0m\u001b[0;34m(\u001b[0m\u001b[0mself\u001b[0m\u001b[0;34m.\u001b[0m\u001b[0mname\u001b[0m\u001b[0;34m,\u001b[0m \u001b[0mbzip2_mode\u001b[0m\u001b[0;34m)\u001b[0m\u001b[0;34m\u001b[0m\u001b[0m\n\u001b[1;32m    501\u001b[0m         \u001b[0;32melse\u001b[0m\u001b[0;34m:\u001b[0m\u001b[0;34m\u001b[0m\u001b[0m\n\u001b[0;32m--> 502\u001b[0;31m             \u001b[0mself\u001b[0m\u001b[0;34m.\u001b[0m\u001b[0m_file\u001b[0m \u001b[0;34m=\u001b[0m \u001b[0mfileobj_open\u001b[0m\u001b[0;34m(\u001b[0m\u001b[0mself\u001b[0m\u001b[0;34m.\u001b[0m\u001b[0mname\u001b[0m\u001b[0;34m,\u001b[0m \u001b[0mPYFITS_MODES\u001b[0m\u001b[0;34m[\u001b[0m\u001b[0mmode\u001b[0m\u001b[0;34m]\u001b[0m\u001b[0;34m)\u001b[0m\u001b[0;34m\u001b[0m\u001b[0m\n\u001b[0m\u001b[1;32m    503\u001b[0m \u001b[0;34m\u001b[0m\u001b[0m\n\u001b[1;32m    504\u001b[0m         \u001b[0;31m# Make certain we're back at the beginning of the file\u001b[0m\u001b[0;34m\u001b[0m\u001b[0;34m\u001b[0m\u001b[0m\n",
      "\u001b[0;32m/home/emc/anaconda3/envs/astroconda/lib/python2.7/site-packages/astropy/io/fits/util.pyc\u001b[0m in \u001b[0;36mfileobj_open\u001b[0;34m(filename, mode)\u001b[0m\n\u001b[1;32m    401\u001b[0m         \"\"\"\n\u001b[1;32m    402\u001b[0m \u001b[0;34m\u001b[0m\u001b[0m\n\u001b[0;32m--> 403\u001b[0;31m         \u001b[0;32mreturn\u001b[0m \u001b[0mopen\u001b[0m\u001b[0;34m(\u001b[0m\u001b[0mfilename\u001b[0m\u001b[0;34m,\u001b[0m \u001b[0mmode\u001b[0m\u001b[0;34m)\u001b[0m\u001b[0;34m\u001b[0m\u001b[0m\n\u001b[0m\u001b[1;32m    404\u001b[0m \u001b[0;34m\u001b[0m\u001b[0m\n\u001b[1;32m    405\u001b[0m \u001b[0;34m\u001b[0m\u001b[0m\n",
      "\u001b[0;31mIOError\u001b[0m: [Errno 2] No such file or directory: '/home/emc/GoogleDrive/Phys/Research/BothunLab/SkyPhotos/NewCamera/28April2017_SUN/set1/None/1microsec/16-48-38-732.FIT'"
     ]
    }
   ],
   "source": [
    "# Get FITS data and save for using in matplotlib ===========================\n",
    "default = '/home/emc/GoogleDrive/Phys/Research/BothunLab/SkyPhotos/NewCamera'\n",
    "dir_extN = '28April2017_SUN/set1/None/1microsec'\n",
    "imgN = '16-48-38-732.FIT'\n",
    "pathN = '/'.join([default, dir_extN, imgN])\n",
    "img_fileN = pathN if pathN[-4:] == '.FIT' else pathN + '.FIT'\n",
    "hdu_list = fits.open(img_fileN)\n",
    "hdu_list.info()\n",
    "image_data = hdu_list[0].data\n",
    "hdu_list.close()\n",
    "\n",
    "dffile = '/home/emc/GoogleDrive/Phys/Research/BothunLab/SkyPhotos/NewCamera/28April2017_SUN' \\\n",
    "         '/set1/B-V_LRGBblue-LRGBgreen.csv'\n",
    "B_V_df = pd.read_csv(dffile)\n",
    "\n",
    "good = B_V_df.loc[B_V_df['B-V'] != -9999]\n",
    "print(good['B-V'][:10])\n",
    "\n",
    "print('MAXIMUM B-V VALUE')\n",
    "print(good.max(numeric_only=True))\n",
    "print('MINIMUM B-V VALUE')\n",
    "print(good.min(numeric_only=True))\n",
    "\n",
    "# create plot with image as background\n",
    "fig1 = plt.figure(figsize=(16, 12))\n",
    "ax1 = fig1.add_subplot(111)\n",
    "plt.imshow(image_data, cmap='gray')\n",
    "ax1.set_autoscale_on(False)\n",
    "\n",
    "# iterate over the rows\n",
    "p = 0\n",
    "pt = []\n",
    "color = np.random.rand(3,1)\n",
    "for index, row in good.iterrows():\n",
    "    # collect the vertices for the boxes\n",
    "    r1 = literal_eval(row['v1'])\n",
    "    r2 = literal_eval(row['v2'])\n",
    "    r3 = literal_eval(row['v3'])\n",
    "    r4 = literal_eval(row['v4'])\n",
    "\n",
    "    # including the 1st point at the end again allows the boxes to be closed\n",
    "    x = np.array([r1[0], r2[0], r3[0], r4[0], r1[0]])\n",
    "    y = np.array([r1[1], r2[1], r3[1], r4[1], r1[1]])\n",
    "\n",
    "     # ax.scatter(x, y, c='lime') # toggle to turn on plotting vertices\n",
    "    ax1.plot(x, y, c=color, label=p)\n",
    "    pt.append([p, row['B-V'], [r1, r2, r3, r4], color])\n",
    "    p += 1\n",
    "\n",
    "ax1.set_title('B-V values i dont care')\n",
    "ax1.get_xaxis().set_visible(False)\n",
    "ax1.get_yaxis().set_visible(False)\n",
    "#plt.legend()\n",
    "plt.show()"
   ]
  },
  {
   "cell_type": "markdown",
   "metadata": {},
   "source": [
    "Okay um well whatever, that's not right, but whatever. It doesn't perfectly surround the sun so I'll have to do it manually. That's fine.\n",
    "\n",
    "16:45\n",
    "\n",
    "Finished manual photometry of sun!\n",
    "\n",
    "17:25"
   ]
  },
  {
   "cell_type": "markdown",
   "metadata": {},
   "source": [
    "## B-V value of sun, 28 April, using flux"
   ]
  },
  {
   "cell_type": "code",
   "execution_count": 53,
   "metadata": {
    "collapsed": false
   },
   "outputs": [
    {
     "data": {
      "text/plain": [
       "{'47-11': 0.31,\n",
       " '47-15': 0.17,\n",
       " '47-LRGBgreen': 0.43,\n",
       " '47-LRGBred': 0.18,\n",
       " '82a-11': 1.27,\n",
       " '82a-15': 1.13,\n",
       " '82a-LRGBgreen': 1.4,\n",
       " '82a-LRGBred': 1.14,\n",
       " 'LRGBblue-11': 0.8,\n",
       " 'LRGBblue-15': 0.67,\n",
       " 'LRGBblue-LRGBgreen': 0.93,\n",
       " 'LRGBblue-LRGBred': 0.68,\n",
       " 'LRGBluminance-11': 1.15,\n",
       " 'LRGBluminance-15': 1.02,\n",
       " 'LRGBluminance-LRGBgreen': 1.28,\n",
       " 'LRGBluminance-LRGBred': 1.03}"
      ]
     },
     "execution_count": 53,
     "metadata": {},
     "output_type": "execute_result"
    }
   ],
   "source": [
    "path = '/home/emc/GoogleDrive/Phys/Research/BothunLab/SkyPhotos/NewCamera/' \\\n",
    "       '28April2017_SUN_1/set1/'\n",
    "files = !ls SkyPhotos/NewCamera/28April2017_SUN_1/set1 | grep .csv\n",
    "B_V_sun = {}\n",
    "\n",
    "for fname in files:\n",
    "    longf = path + fname\n",
    "    filters = re.search('(?<=V_).+-.+(?=.csv)', longf).group(0)\n",
    "    with open(longf, 'r') as f:\n",
    "        junk = f.readline()\n",
    "        b_v = f.readline().split(',')[1]\n",
    "        B_V_sun[filters] = round(float(b_v),2)\n",
    "        \n",
    "B_V_sun"
   ]
  },
  {
   "cell_type": "markdown",
   "metadata": {},
   "source": [
    "Interesting values. LRGBblue-LRGB red is pretty close to the official value, but the others are kind of spread about this value by +0.6 or -0.3. \n",
    "\n",
    "Probably it's so bad because my circular region wasn't centered on the sun every time because the sun was almost out of the frame in some photos.\n",
    "\n",
    "If I can get another data set of the sun (or if the January one is better) I can try again.\n",
    "\n",
    "17:30"
   ]
  },
  {
   "cell_type": "markdown",
   "metadata": {
    "collapsed": true
   },
   "source": [
    "# 8 May 2017"
   ]
  },
  {
   "cell_type": "markdown",
   "metadata": {},
   "source": [
    "10:15 am\n",
    "\n",
    "Good morning! I don't want to do manual photometry on the sun this morning. I think I will do some manual photometry on cloud photos instead. \n",
    "\n",
    "Also to do is to sort and organize the photos from 4 May. Actually maybe I'll do that since i'm a bit distracted right now in the reading room.\n",
    "\n",
    "Okay finished organizing 4 May, wow that took the whole time block.\n",
    "\n",
    "TODO: Go through 3 January 2017 set 1 and do manual photometry for the clouds.\n",
    "\n",
    "10:56 am"
   ]
  },
  {
   "cell_type": "markdown",
   "metadata": {
    "collapsed": true
   },
   "source": [
    "# 9 May 2017\n",
    "\n",
    "12:45 \n",
    "\n",
    "Teehee skipping class to do research. Definitely preferable.\n",
    "\n",
    "Today I will do some manual photometries. I'm going to do it on Jan 3 set 1 to start with since those pics are very good.\n",
    "\n",
    "13:25\n",
    "\n",
    "Got manual photometry of 3 Jan set 1. I generally did 2 polygons, one surrounding the cloud first and one surrounding the sky second. Problem is the cloud moved quite a lot in the images. So let's see what we can get.\n"
   ]
  },
  {
   "cell_type": "markdown",
   "metadata": {},
   "source": [
    "## B-V values of clouds, 3 January, set 1, flux column"
   ]
  },
  {
   "cell_type": "code",
   "execution_count": 6,
   "metadata": {
    "collapsed": false
   },
   "outputs": [
    {
     "name": "stdout",
     "output_type": "stream",
     "text": [
      "CLOUD B-V values in various filters (3 January 2017, set 1, flux column)\n",
      "========================================================================\n",
      "LRGBblue-11: 1.12\n",
      "LRGBblue-15: 1.12\n",
      "LRGBblue-LRGB red: 1.08\n",
      "LRGB blue-LRGB green: 1.13\n",
      "\n",
      "82a-11: 0.97\n",
      "82a-15: 0.98\n",
      "82a-LRGB red: 0.93\n",
      "82a-LRGB green: 0.99\n",
      "\n",
      "47-11: 1.15\n",
      "47-15: 1.16\n",
      "47-LRGB red: 1.11\n",
      "47-LRGB green: 1.17\n",
      "\n",
      "LRGB lum-11: 0.88\n",
      "LRGB lum-15: 0.89\n",
      "LRGB lum-LRGB red: 0.84\n",
      "LRGB lum-LRGB green: 0.89\n",
      "\n"
     ]
    }
   ],
   "source": [
    "# fluxes for each filter. Taken from photometries ==============================\n",
    "\n",
    "# CLOUDS -- using flux column, 3 January 2017 set 1\n",
    "\n",
    "# visual-er filters: filters with their dominant/central wavelength > 550 nm\n",
    "c11 = 6186812\n",
    "c15 = 4190153\n",
    "cred = 1903930\n",
    "cgreen = 3441022\n",
    "\n",
    "# bluer filters: filters with their dominant/central wavelength < 550 nm\n",
    "c47 = 213802.1\n",
    "c82a = 8923138\n",
    "cblue = 1822455\n",
    "clum = 9807273\n",
    "\n",
    "# SKY -- using flux column\n",
    "\n",
    "s11 = 181663.5\n",
    "s15 = 149922.2\n",
    "sred = 154275\n",
    "sgreen = 469763.7\n",
    "\n",
    "s47 = 21389.94\n",
    "s82a = 536769.8\n",
    "sblue = 258108\n",
    "slum = 1406470\n",
    "\n",
    "# ZERO POINTS\n",
    "\n",
    "zp_v_11 = -1.24\n",
    "zp_v_15 = -1.67\n",
    "zp_v_red = -2.48\n",
    "zp_v_green = -1.89\n",
    "zp_b_47 = -3.74\n",
    "zp_b_82a = 0.13\n",
    "zp_b_blue = -1.45\n",
    "zp_b_lum = 0.14\n",
    "\n",
    "# Calculate B-V values\n",
    "cloudbv_flux_b_11 = bv(cblue, c11, zp_b_blue, zp_v_11)\n",
    "cloudbv_flux_b_15 = bv(cblue, c15, zp_b_blue, zp_v_15)\n",
    "cloudbv_flux_b_red = bv(cblue, cred, zp_b_blue, zp_v_red)\n",
    "cloudbv_flux_b_green = bv(cblue, cgreen, zp_b_blue, zp_v_green)\n",
    "\n",
    "cloudbv_flux_82a_11 = bv(c82a, c11, zp_b_82a, zp_v_11)\n",
    "cloudbv_flux_82a_15 = bv(c82a, c15, zp_b_82a, zp_v_15)\n",
    "cloudbv_flux_82a_red = bv(c82a, cred, zp_b_82a, zp_v_red)\n",
    "cloudbv_flux_82a_green = bv(c82a, cgreen, zp_b_82a, zp_v_green)\n",
    "\n",
    "cloudbv_flux_47_11 = bv(c47, c11, zp_b_47, zp_v_11)\n",
    "cloudbv_flux_47_15 = bv(c47, c15, zp_b_47, zp_v_15)\n",
    "cloudbv_flux_47_red = bv(c47, cred, zp_b_47, zp_v_red)\n",
    "cloudbv_flux_47_green = bv(c47, cgreen, zp_b_47, zp_v_green)\n",
    "\n",
    "cloudbv_flux_lum_11 = bv(clum, c11, zp_b_lum, zp_v_11)\n",
    "cloudbv_flux_lum_15 = bv(clum, c15, zp_b_lum, zp_v_15)\n",
    "cloudbv_flux_lum_red = bv(clum, cred, zp_b_lum, zp_v_red)\n",
    "cloudbv_flux_lum_green = bv(clum, cgreen, zp_b_lum, zp_v_green)\n",
    "\n",
    "\n",
    "\n",
    "# Calculate B-V values at long last ============================================\n",
    "\n",
    "print('CLOUD B-V values in various filters (3 January 2017, set 1, flux column)')\n",
    "print('========================================================================')\n",
    "print('LRGBblue-11: {}'.format(cloudbv_flux_b_11))\n",
    "print('LRGBblue-15: {}'.format(cloudbv_flux_b_15))\n",
    "print('LRGBblue-LRGB red: {}'.format(cloudbv_flux_b_red))\n",
    "print('LRGB blue-LRGB green: {}'.format(cloudbv_flux_b_green))\n",
    "print\n",
    "print('82a-11: {}'.format(cloudbv_flux_82a_11))\n",
    "print('82a-15: {}'.format(cloudbv_flux_82a_15))\n",
    "print('82a-LRGB red: {}'.format(cloudbv_flux_82a_red))\n",
    "print('82a-LRGB green: {}'.format(cloudbv_flux_82a_green))\n",
    "print\n",
    "print('47-11: {}'.format(cloudbv_flux_47_11))\n",
    "print('47-15: {}'.format(cloudbv_flux_47_15))\n",
    "print('47-LRGB red: {}'.format(cloudbv_flux_47_red))\n",
    "print('47-LRGB green: {}'.format(cloudbv_flux_47_green))\n",
    "print\n",
    "print('LRGB lum-11: {}'.format(cloudbv_flux_lum_11))\n",
    "print('LRGB lum-15: {}'.format(cloudbv_flux_lum_15))\n",
    "print('LRGB lum-LRGB red: {}'.format(cloudbv_flux_lum_red))\n",
    "print('LRGB lum-LRGB green: {}'.format(cloudbv_flux_lum_green))\n",
    "print\n",
    "\n",
    "# print('SKY B-V values in various filters')\n",
    "# print('==================================')\n",
    "# print('LRGBblue-11: {}'.format(bv(sblue, s11, zp_b_blue, zp_v_11)))\n",
    "# print('LRGBblue-15: {}'.format(bv(sblue, s15, zp_b_blue, zp_v_15)))\n",
    "# print('LRGBblue-LRGB red: {}'.format(bv(sblue, sred, zp_b_blue, zp_v_red)))\n",
    "# print('LRGB blue-LRGB green: {}'.format(bv(sblue, sgreen, zp_b_blue, zp_v_green)))\n",
    "# print\n",
    "# print('82a-11: {}'.format(bv(s82a, s11, zp_b_82a, zp_v_11)))\n",
    "# print('82a-15: {}'.format(bv(s82a, s15, zp_b_82a, zp_v_15)))\n",
    "# print('82a-LRGB red: {}'.format(bv(s82a, sred, zp_b_82a, zp_v_red)))\n",
    "# print('82a-LRGB green: {}'.format(bv(s82a, sgreen, zp_b_82a, zp_v_green)))\n",
    "# print\n",
    "# print('47-11: {}'.format(bv(s47, s11, zp_b_47, zp_v_11)))\n",
    "# print('47-15: {}'.format(bv(s47, s15, zp_b_47, zp_v_15)))\n",
    "# print('47-LRGB red: {}'.format(bv(s47, sred, zp_b_47, zp_v_red)))\n",
    "# print('47-LRGB green: {}'.format(bv(s47, sgreen, zp_b_47, zp_v_green)))\n",
    "# print\n",
    "# print('LRGB lum-11: {}'.format(bv(slum, s11, zp_b_lum, zp_v_11)))\n",
    "# print('LRGB lum-15: {}'.format(bv(slum, s15, zp_b_lum, zp_v_15)))\n",
    "# print('LRGB lum-LRGB red: {}'.format(bv(slum, sred, zp_b_lum, zp_v_red)))\n",
    "# print('LRGB lum-LRGB green: {}'.format(bv(slum, sgreen, zp_b_lum, zp_v_green)))"
   ]
  },
  {
   "cell_type": "markdown",
   "metadata": {},
   "source": [
    "## B-V values of clouds, 3 January, set 1, sum column"
   ]
  },
  {
   "cell_type": "code",
   "execution_count": 4,
   "metadata": {
    "collapsed": false
   },
   "outputs": [
    {
     "name": "stdout",
     "output_type": "stream",
     "text": [
      "CLOUD B-V values in various filters (3 January 2017, set 1, sum column)\n",
      "========================================================================\n",
      "LRGBblue-11: 0.93\n",
      "LRGBblue-15: 0.7\n",
      "LRGBblue-LRGB red: 0.54\n",
      "LRGB blue-LRGB green: 0.81\n",
      "\n",
      "82a-11: 1.04\n",
      "82a-15: 0.81\n",
      "82a-LRGB red: 0.65\n",
      "82a-LRGB green: 0.92\n",
      "\n",
      "47-11: 0.6\n",
      "47-15: 0.37\n",
      "47-LRGB red: 0.21\n",
      "47-LRGB green: 0.48\n",
      "\n",
      "LRGB lum-11: 1.04\n",
      "LRGB lum-15: 0.81\n",
      "LRGB lum-LRGB red: 0.65\n",
      "LRGB lum-LRGB green: 0.92\n",
      "\n",
      "SKY B-V values in various filters, (3 January 2017, set 1, using sum column)\n",
      "============================================================================\n",
      "LRGBblue-11: 0.29\n",
      "LRGBblue-15: -0.09\n",
      "LRGBblue-LRGB red: 0.1\n",
      "LRGB blue-LRGB green: 0.79\n",
      "\n",
      "82a-11: 0.92\n",
      "82a-15: 0.54\n",
      "82a-LRGB red: 0.72\n",
      "82a-LRGB green: 1.42\n",
      "\n",
      "47-11: 0.17\n",
      "47-15: -0.21\n",
      "47-LRGB red: -0.03\n",
      "47-LRGB green: 0.67\n",
      "\n",
      "LRGB lum-11: 0.52\n",
      "LRGB lum-15: 0.14\n",
      "LRGB lum-LRGB red: 0.32\n",
      "LRGB lum-LRGB green: 1.02\n"
     ]
    }
   ],
   "source": [
    "# fluxes for each filter. Taken from photometries ==============================\n",
    "\n",
    "# CLOUDS -- using sum column \n",
    "\n",
    "# visual-er filters: filters with their dominant/central wavelength > 550 nm\n",
    "c11 = 12896231\n",
    "c15 = 6994314\n",
    "cred = 2856538\n",
    "cgreen = 6327433\n",
    "\n",
    "# bluer filters: filters with their dominant/central wavelength < 550 nm\n",
    "c47 = 739465\n",
    "c82a = 17434141\n",
    "cblue = 4498042\n",
    "clum = 17593700\n",
    "\n",
    "# SKY -- using sum column\n",
    "\n",
    "s11 = 4660683\n",
    "s15 = 2218832\n",
    "sred = 1243155\n",
    "sgreen = 4070349\n",
    "\n",
    "s47 = 399153.4\n",
    "s82a = 7060631\n",
    "sblue = 2939510\n",
    "slum = 10330680\n",
    "\n",
    "# ZERO POINTS\n",
    "\n",
    "zp_v_11 = -1.24\n",
    "zp_v_15 = -1.67\n",
    "zp_v_red = -2.48\n",
    "zp_v_green = -1.89\n",
    "zp_b_47 = -3.74\n",
    "zp_b_82a = 0.13\n",
    "zp_b_blue = -1.45\n",
    "zp_b_lum = 0.14\n",
    "\n",
    "# Calculate B-V values\n",
    "cloudbv_sum_b_11 = bv(cblue, c11, zp_b_blue, zp_v_11)\n",
    "cloudbv_sum_b_15 = bv(cblue, c15, zp_b_blue, zp_v_15)\n",
    "cloudbv_sum_b_red = bv(cblue, cred, zp_b_blue, zp_v_red)\n",
    "cloudbv_sum_b_green = bv(cblue, cgreen, zp_b_blue, zp_v_green)\n",
    "\n",
    "cloudbv_sum_82a_11 = bv(c82a, c11, zp_b_82a, zp_v_11)\n",
    "cloudbv_sum_82a_15 = bv(c82a, c15, zp_b_82a, zp_v_15)\n",
    "cloudbv_sum_82a_red = bv(c82a, cred, zp_b_82a, zp_v_red)\n",
    "cloudbv_sum_82a_green = bv(c82a, cgreen, zp_b_82a, zp_v_green)\n",
    "\n",
    "cloudbv_sum_47_11 = bv(c47, c11, zp_b_47, zp_v_11)\n",
    "cloudbv_sum_47_15 = bv(c47, c15, zp_b_47, zp_v_15)\n",
    "cloudbv_sum_47_red = bv(c47, cred, zp_b_47, zp_v_red)\n",
    "cloudbv_sum_47_green = bv(c47, cgreen, zp_b_47, zp_v_green)\n",
    "\n",
    "cloudbv_sum_lum_11 = bv(clum, c11, zp_b_lum, zp_v_11)\n",
    "cloudbv_sum_lum_15 = bv(clum, c15, zp_b_lum, zp_v_15)\n",
    "cloudbv_sum_lum_red = bv(clum, cred, zp_b_lum, zp_v_red)\n",
    "cloudbv_sum_lum_green = bv(clum, cgreen, zp_b_lum, zp_v_green)\n",
    "\n",
    "\n",
    "\n",
    "# Calculate B-V values at long last ============================================\n",
    "\n",
    "print('CLOUD B-V values in various filters (3 January 2017, set 1, sum column)')\n",
    "print('========================================================================')\n",
    "print('LRGBblue-11: {}'.format(cloudbv_sum_b_11))\n",
    "print('LRGBblue-15: {}'.format(cloudbv_sum_b_15))\n",
    "print('LRGBblue-LRGB red: {}'.format(cloudbv_sum_b_red))\n",
    "print('LRGB blue-LRGB green: {}'.format(cloudbv_sum_b_green))\n",
    "print\n",
    "print('82a-11: {}'.format(cloudbv_sum_82a_11))\n",
    "print('82a-15: {}'.format(cloudbv_sum_82a_15))\n",
    "print('82a-LRGB red: {}'.format(cloudbv_sum_82a_red))\n",
    "print('82a-LRGB green: {}'.format(cloudbv_sum_82a_green))\n",
    "print\n",
    "print('47-11: {}'.format(cloudbv_sum_47_11))\n",
    "print('47-15: {}'.format(cloudbv_sum_47_15))\n",
    "print('47-LRGB red: {}'.format(cloudbv_sum_47_red))\n",
    "print('47-LRGB green: {}'.format(cloudbv_sum_47_green))\n",
    "print\n",
    "print('LRGB lum-11: {}'.format(cloudbv_sum_lum_11))\n",
    "print('LRGB lum-15: {}'.format(cloudbv_sum_lum_15))\n",
    "print('LRGB lum-LRGB red: {}'.format(cloudbv_sum_lum_red))\n",
    "print('LRGB lum-LRGB green: {}'.format(cloudbv_sum_lum_green))\n",
    "print\n",
    "\n",
    "print('SKY B-V values in various filters, (3 January 2017, set 1, using sum column)')\n",
    "print('============================================================================')\n",
    "print('LRGBblue-11: {}'.format(bv(sblue, s11, zp_b_blue, zp_v_11)))\n",
    "print('LRGBblue-15: {}'.format(bv(sblue, s15, zp_b_blue, zp_v_15)))\n",
    "print('LRGBblue-LRGB red: {}'.format(bv(sblue, sred, zp_b_blue, zp_v_red)))\n",
    "print('LRGB blue-LRGB green: {}'.format(bv(sblue, sgreen, zp_b_blue, zp_v_green)))\n",
    "print\n",
    "print('82a-11: {}'.format(bv(s82a, s11, zp_b_82a, zp_v_11)))\n",
    "print('82a-15: {}'.format(bv(s82a, s15, zp_b_82a, zp_v_15)))\n",
    "print('82a-LRGB red: {}'.format(bv(s82a, sred, zp_b_82a, zp_v_red)))\n",
    "print('82a-LRGB green: {}'.format(bv(s82a, sgreen, zp_b_82a, zp_v_green)))\n",
    "print\n",
    "print('47-11: {}'.format(bv(s47, s11, zp_b_47, zp_v_11)))\n",
    "print('47-15: {}'.format(bv(s47, s15, zp_b_47, zp_v_15)))\n",
    "print('47-LRGB red: {}'.format(bv(s47, sred, zp_b_47, zp_v_red)))\n",
    "print('47-LRGB green: {}'.format(bv(s47, sgreen, zp_b_47, zp_v_green)))\n",
    "print\n",
    "print('LRGB lum-11: {}'.format(bv(slum, s11, zp_b_lum, zp_v_11)))\n",
    "print('LRGB lum-15: {}'.format(bv(slum, s15, zp_b_lum, zp_v_15)))\n",
    "print('LRGB lum-LRGB red: {}'.format(bv(slum, sred, zp_b_lum, zp_v_red)))\n",
    "print('LRGB lum-LRGB green: {}'.format(bv(slum, sgreen, zp_b_lum, zp_v_green)))"
   ]
  },
  {
   "cell_type": "markdown",
   "metadata": {},
   "source": [
    "Thoughts:\n",
    "\n",
    "1. Sun data set could be no good--sun was sometimes near the edge and counts could be off. In fact I am indeed pretty sure it's way off because I got 0.93 for B-V of sun in LRGBblue/green, which is the clsoest to B-V but the correct color is 0.63.\n",
    "2. Cloud photos--were moving quite a bit. Try on a set that was more consistent.\n",
    "3. Should I use moon or sun? Is this a question I'm trying to answer or does Greg know which would be better?\n",
    "4. Elsa says to use flux, not sum. Unfortunately those numbers are even more far off above, so it's time to keep trying I guess."
   ]
  },
  {
   "cell_type": "markdown",
   "metadata": {},
   "source": [
    "14:45\n",
    "    \n",
    "3 Jan set 3 is a better set to use for the clouds.\n",
    "\n",
    "Maybe lets try some photometry on the the other sun set..."
   ]
  },
  {
   "cell_type": "markdown",
   "metadata": {},
   "source": [
    "## Simple script to generate polyphot commands for manual use"
   ]
  },
  {
   "cell_type": "code",
   "execution_count": 61,
   "metadata": {
    "collapsed": false
   },
   "outputs": [
    {
     "ename": "IOError",
     "evalue": "[Errno 2] No such file or directory: '/home/emc/GoogleDrive/Phys/Research/BothunLab/AnalysisFiles/sun_dataset/files_and_params.txt'",
     "output_type": "error",
     "traceback": [
      "\u001b[0;31m---------------------------------------------------------------------------\u001b[0m",
      "\u001b[0;31mIOError\u001b[0m                                   Traceback (most recent call last)",
      "\u001b[0;32m<ipython-input-61-024493c7550d>\u001b[0m in \u001b[0;36m<module>\u001b[0;34m()\u001b[0m\n\u001b[1;32m      3\u001b[0m \u001b[0mkeyE\u001b[0m \u001b[0;34m=\u001b[0m \u001b[0;34m'5microsec'\u001b[0m  \u001b[0;31m# use if there are entries for more than one exposure\u001b[0m\u001b[0;34m\u001b[0m\u001b[0m\n\u001b[1;32m      4\u001b[0m \u001b[0;34m\u001b[0m\u001b[0m\n\u001b[0;32m----> 5\u001b[0;31m \u001b[0;32mwith\u001b[0m \u001b[0mopen\u001b[0m\u001b[0;34m(\u001b[0m\u001b[0mdafile\u001b[0m\u001b[0;34m,\u001b[0m\u001b[0;34m'r'\u001b[0m\u001b[0;34m)\u001b[0m \u001b[0;32mas\u001b[0m \u001b[0mf\u001b[0m\u001b[0;34m:\u001b[0m\u001b[0;34m\u001b[0m\u001b[0m\n\u001b[0m\u001b[1;32m      6\u001b[0m     \u001b[0mf\u001b[0m\u001b[0;34m.\u001b[0m\u001b[0mreadline\u001b[0m\u001b[0;34m(\u001b[0m\u001b[0;34m)\u001b[0m\u001b[0;34m\u001b[0m\u001b[0m\n\u001b[1;32m      7\u001b[0m     \u001b[0;32mfor\u001b[0m \u001b[0mline\u001b[0m \u001b[0;32min\u001b[0m \u001b[0mf\u001b[0m\u001b[0;34m:\u001b[0m\u001b[0;34m\u001b[0m\u001b[0m\n",
      "\u001b[0;31mIOError\u001b[0m: [Errno 2] No such file or directory: '/home/emc/GoogleDrive/Phys/Research/BothunLab/AnalysisFiles/sun_dataset/files_and_params.txt'"
     ]
    }
   ],
   "source": [
    "base = 'polyphot {} coords=\"\" polygons=\"\" output=\"{}\" sigma={} itime={} ifilter={} skyvalue={} interactive=yes'\n",
    "dafile = '/home/emc/GoogleDrive/Phys/Research/BothunLab/AnalysisFiles/sun_dataset/files_and_params.txt'\n",
    "keyE = '5microsec'  # use if there are entries for more than one exposure\n",
    "\n",
    "with open(dafile,'r') as f:\n",
    "    f.readline()\n",
    "    for line in f:\n",
    "        data = line.split()\n",
    "        if data:\n",
    "            if keyE in data[7]:\n",
    "                fn = data[0]\n",
    "                outputfn = fn[:-4] + '_photometry_manual'\n",
    "                sig = data[2]\n",
    "                sky = data[1]\n",
    "                e = data[4]\n",
    "                filt = data[5] + ',' + data[6]\n",
    "                print(base.format(fn, outputfn, sig, e, filt, sky))\n"
   ]
  },
  {
   "cell_type": "markdown",
   "metadata": {},
   "source": [
    "## B-V value of sun, 5 January, flux column"
   ]
  },
  {
   "cell_type": "code",
   "execution_count": 62,
   "metadata": {
    "collapsed": false
   },
   "outputs": [
    {
     "name": "stdout",
     "output_type": "stream",
     "text": [
      "SUN B-V values (5 January 2017, 5 microsec, Flux column)\n",
      "========================================================\n",
      "LRGBblue-11: 0.37\n",
      "LRGBblue-15: 0.51\n",
      "LRGBblue-LRGB red: 1.02\n",
      "LRGB blue-LRGB green: 0.79\n",
      "\n",
      "82a-11: 1.32\n",
      "82a-15: 1.46\n",
      "82a-LRGB red: 1.97\n",
      "82a-LRGB green: 1.74\n",
      "\n",
      "47-11: -0.98\n",
      "47-15: -0.84\n",
      "47-LRGB red: -0.33\n",
      "47-LRGB green: -0.56\n",
      "\n",
      "LRGB lum-11: 1.31\n",
      "LRGB lum-15: 1.46\n",
      "LRGB lum-LRGB red: 1.97\n",
      "LRGB lum-LRGB green: 1.74\n",
      "\n",
      "Note: anything involving LRGB red or green could be slightly off still due to lack of centering of the sun in those photos\n",
      "\n"
     ]
    }
   ],
   "source": [
    "# 5 microsec set, using flux column \n",
    "\n",
    "f11 = 4808538\n",
    "f15 = 3684191\n",
    "f47 = 1188442\n",
    "f82a = 5040747\n",
    "fred = 2794682\n",
    "fgreen = 3899690\n",
    "fblue = 2818093\n",
    "flum = 5105529\n",
    "\n",
    "sunbv_flux_b_11 = bv(fblue, f11, zp_b_blue, zp_v_11)\n",
    "sunbv_flux_b_15 = bv(fblue, f15, zp_b_blue, zp_v_15)\n",
    "sunbv_flux_b_red = bv(fblue, fred, zp_b_blue, zp_v_red)\n",
    "sunbv_flux_b_green = bv(fblue, fgreen, zp_b_blue, zp_v_green)\n",
    "\n",
    "sunbv_flux_82a_11 = bv(f82a, f11, zp_b_82a, zp_v_11)\n",
    "sunbv_flux_82a_15 = bv(f82a, f15, zp_b_82a, zp_v_15)\n",
    "sunbv_flux_82a_red = bv(f82a, fred, zp_b_82a, zp_v_red)\n",
    "sunbv_flux_82a_green = bv(f82a, fgreen, zp_b_82a, zp_v_green)\n",
    "\n",
    "sunbv_flux_47_11 = bv(f47, f11, zp_b_47, zp_v_11)\n",
    "sunbv_flux_47_15 = bv(f47, f15, zp_b_47, zp_v_15)\n",
    "sunbv_flux_47_red = bv(f47, fred, zp_b_47, zp_v_red)\n",
    "sunbv_flux_47_green = bv(f47, fgreen, zp_b_47, zp_v_green)\n",
    "\n",
    "sunbv_flux_lum_11 = bv(flum, f11, zp_b_lum, zp_v_11)\n",
    "sunbv_flux_lum_15 = bv(flum, f15, zp_b_lum, zp_v_15)\n",
    "sunbv_flux_lum_red = bv(flum, fred, zp_b_lum, zp_v_red)\n",
    "sunbv_flux_lum_green = bv(flum, fgreen, zp_b_lum, zp_v_green)\n",
    "\n",
    "\n",
    "print('SUN B-V values (5 January 2017, 5 microsec, Flux column)')\n",
    "print('========================================================')\n",
    "print('LRGBblue-11: {}'.format(sunbv_flux_b_11))\n",
    "print('LRGBblue-15: {}'.format(sunbv_flux_b_15))\n",
    "print('LRGBblue-LRGB red: {}'.format(sunbv_flux_b_red))\n",
    "print('LRGB blue-LRGB green: {}'.format(sunbv_flux_b_green))\n",
    "print\n",
    "print('82a-11: {}'.format(sunbv_flux_82a_11))\n",
    "print('82a-15: {}'.format(sunbv_flux_82a_15))\n",
    "print('82a-LRGB red: {}'.format(sunbv_flux_82a_red))\n",
    "print('82a-LRGB green: {}'.format(sunbv_flux_82a_green))\n",
    "print\n",
    "print('47-11: {}'.format(sunbv_flux_47_11))\n",
    "print('47-15: {}'.format(sunbv_flux_47_15))\n",
    "print('47-LRGB red: {}'.format(sunbv_flux_47_red))\n",
    "print('47-LRGB green: {}'.format(sunbv_flux_47_green))\n",
    "print\n",
    "print('LRGB lum-11: {}'.format(sunbv_flux_lum_11))\n",
    "print('LRGB lum-15: {}'.format(sunbv_flux_lum_15))\n",
    "print('LRGB lum-LRGB red: {}'.format(sunbv_flux_lum_red))\n",
    "print('LRGB lum-LRGB green: {}'.format(sunbv_flux_lum_green))\n",
    "print\n",
    "print('Note: anything involving LRGB red or green could be slightly off still due to lack of centering of the sun in those photos')\n",
    "print"
   ]
  },
  {
   "cell_type": "markdown",
   "metadata": {},
   "source": [
    "## B-V values of sun, 5 January, set 1, using sum column"
   ]
  },
  {
   "cell_type": "code",
   "execution_count": 63,
   "metadata": {
    "collapsed": false
   },
   "outputs": [
    {
     "name": "stdout",
     "output_type": "stream",
     "text": [
      "SUN B-V values (5 January 2017, 5 microsec, sum column)\n",
      "========================================================\n",
      "LRGBblue-11: 0.51\n",
      "LRGBblue-15: 0.57\n",
      "LRGBblue-LRGB red: 1.05\n",
      "LRGB blue-LRGB green: 0.83\n",
      "\n",
      "82a-11: 1.24\n",
      "82a-15: 1.3\n",
      "82a-LRGB red: 1.78\n",
      "82a-LRGB green: 1.56\n",
      "\n",
      "47-11: -0.72\n",
      "47-15: -0.66\n",
      "47-LRGB red: -0.19\n",
      "47-LRGB green: -0.4\n",
      "\n",
      "LRGB lum-11: 1.24\n",
      "LRGB lum-15: 1.3\n",
      "LRGB lum-LRGB red: 1.78\n",
      "LRGB lum-LRGB green: 1.56\n",
      "\n",
      "Note: anything involving LRGB red or green could be slightly off still due to lack of centering of the sun in those photos\n",
      "\n"
     ]
    }
   ],
   "source": [
    "# 5 microsec set, using sum column \n",
    "\n",
    "f11 = 6800097\n",
    "f15 = 4821252\n",
    "f47 = 1319936\n",
    "f82a = 7659012\n",
    "fred = 3552560\n",
    "fgreen = 4997971\n",
    "fblue = 3490643\n",
    "flum = 7716401\n",
    "\n",
    "sunbv_sum_b_11 = bv(fblue, f11, zp_b_blue, zp_v_11)\n",
    "sunbv_sum_b_15 = bv(fblue, f15, zp_b_blue, zp_v_15)\n",
    "sunbv_sum_b_red = bv(fblue, fred, zp_b_blue, zp_v_red)\n",
    "sunbv_sum_b_green = bv(fblue, fgreen, zp_b_blue, zp_v_green)\n",
    "\n",
    "sunbv_sum_82a_11 = bv(f82a, f11, zp_b_82a, zp_v_11)\n",
    "sunbv_sum_82a_15 = bv(f82a, f15, zp_b_82a, zp_v_15)\n",
    "sunbv_sum_82a_red = bv(f82a, fred, zp_b_82a, zp_v_red)\n",
    "sunbv_sum_82a_green = bv(f82a, fgreen, zp_b_82a, zp_v_green)\n",
    "\n",
    "sunbv_sum_47_11 = bv(f47, f11, zp_b_47, zp_v_11)\n",
    "sunbv_sum_47_15 = bv(f47, f15, zp_b_47, zp_v_15)\n",
    "sunbv_sum_47_red = bv(f47, fred, zp_b_47, zp_v_red)\n",
    "sunbv_sum_47_green = bv(f47, fgreen, zp_b_47, zp_v_green)\n",
    "\n",
    "sunbv_sum_lum_11 = bv(flum, f11, zp_b_lum, zp_v_11)\n",
    "sunbv_sum_lum_15 = bv(flum, f15, zp_b_lum, zp_v_15)\n",
    "sunbv_sum_lum_red = bv(flum, fred, zp_b_lum, zp_v_red)\n",
    "sunbv_sum_lum_green = bv(flum, fgreen, zp_b_lum, zp_v_green)\n",
    "\n",
    "\n",
    "print('SUN B-V values (5 January 2017, 5 microsec, sum column)')\n",
    "print('========================================================')\n",
    "print('LRGBblue-11: {}'.format(sunbv_sum_b_11))\n",
    "print('LRGBblue-15: {}'.format(sunbv_sum_b_15))\n",
    "print('LRGBblue-LRGB red: {}'.format(sunbv_sum_b_red))\n",
    "print('LRGB blue-LRGB green: {}'.format(sunbv_sum_b_green))\n",
    "print\n",
    "print('82a-11: {}'.format(sunbv_sum_82a_11))\n",
    "print('82a-15: {}'.format(sunbv_sum_82a_15))\n",
    "print('82a-LRGB red: {}'.format(sunbv_sum_82a_red))\n",
    "print('82a-LRGB green: {}'.format(sunbv_sum_82a_green))\n",
    "print\n",
    "print('47-11: {}'.format(sunbv_sum_47_11))\n",
    "print('47-15: {}'.format(sunbv_sum_47_15))\n",
    "print('47-LRGB red: {}'.format(sunbv_sum_47_red))\n",
    "print('47-LRGB green: {}'.format(sunbv_sum_47_green))\n",
    "print\n",
    "print('LRGB lum-11: {}'.format(sunbv_sum_lum_11))\n",
    "print('LRGB lum-15: {}'.format(sunbv_sum_lum_15))\n",
    "print('LRGB lum-LRGB red: {}'.format(sunbv_sum_lum_red))\n",
    "print('LRGB lum-LRGB green: {}'.format(sunbv_sum_lum_green))\n",
    "print\n",
    "print('Note: anything involving LRGB red or green could be slightly off still due to lack of centering of the sun in those photos')\n",
    "print"
   ]
  },
  {
   "cell_type": "markdown",
   "metadata": {},
   "source": [
    "\n",
    "    SUN B-V values (28 April 2017 -- probably not good values due to misaligned photos)\n",
    "    ============================\n",
    "    LRGBblue-11: 0.8,\n",
    "    LRGBblue-15: 0.67,\n",
    "    LRGBblue-LRGBred: 0.68,\n",
    "    LRGBblue-LRGBgreen: 0.93,\n",
    "    \n",
    "    82a-11: 1.27,\n",
    "    82a-15: 1.13,\n",
    "    82a-LRGBred: 1.14,\n",
    "    82a-LRGBgreen: 1.4,\n",
    "    \n",
    "    47-11: 0.31,\n",
    "    47-15: 0.17,\n",
    "    47-LRGBred: 0.18,\n",
    "    47-LRGBgreen: 0.43,\n",
    "    \n",
    "    LRGBluminance-11: 1.15,\n",
    "    LRGBluminance-15: 1.02,\n",
    "    LRGBluminance-LRGBred: 1.03,\n",
    "    LRGBluminance-LRGBgreen: 1.28"
   ]
  },
  {
   "cell_type": "markdown",
   "metadata": {},
   "source": [
    "The newer values above (for the 5 January dataset) look a little more reasonable. I think the goal now is to get yet another set of sun photos at 1 microsec and MAKE SURE the sun stays centered in them this time (maybe make the resolution larger to ensure this happens).\n",
    "\n",
    "Then we can continue doing manual photometry on clouds (3 Jan set 3) and compare again.\n",
    "\n",
    "Also, ask Greg about the moon or sun.\n",
    "\n",
    "15:30"
   ]
  },
  {
   "cell_type": "markdown",
   "metadata": {
    "collapsed": true
   },
   "source": [
    "16:45\n",
    "\n",
    "Note: Here are the differences between the clouds and the sun values from 5 January:"
   ]
  },
  {
   "cell_type": "code",
   "execution_count": 14,
   "metadata": {
    "collapsed": false
   },
   "outputs": [
    {
     "name": "stdout",
     "output_type": "stream",
     "text": [
      "LRGBblue-11: 0.56\n",
      "LRGBblue-15: 0.19\n",
      "LRGBblue-LRGB red: -0.48\n",
      "LRGB blue-LRGB green: 0.02\n",
      "82a-11: -0.28\n",
      "82a-15: -0.65\n",
      "82a-LRGB red: -1.32\n",
      "82a-LRGB green: -0.82\n",
      "47-11: 1.58\n",
      "47-15: 1.21\n",
      "47-LRGB red: 0.54\n",
      "47-LRGB green: 1.04\n",
      "LRGB lum-11: -0.27\n",
      "LRGB lum-15: -0.65\n",
      "LRGB lum-LRGB red: -1.32\n",
      "LRGB lum-LRGB green: -0.82\n"
     ]
    }
   ],
   "source": [
    "# THIS IS NOT VALID BECAUSE I USED DIFFERENT COUNTS COLUMNS\n",
    "\n",
    "# Differences of cloud B-V values and sun B-V values, using sun data from 5 January, flux col\n",
    "# cloud data is from 3 January, set 1, using sum column\n",
    "b_11 = 0.93-0.37\n",
    "b_15 = 0.7-0.51\n",
    "b_r = 0.54-1.02\n",
    "b_g = 0.81-0.79\n",
    "o82a_11 = 1.04-1.32\n",
    "o82a_15 = 0.81-1.46\n",
    "o82a_r = 0.65-1.97\n",
    "o82a_g = 0.92-1.74\n",
    "o47_11 = 0.6-(-0.98)\n",
    "o47_15 = 0.37-(-0.84)\n",
    "o47_r = 0.21-(-0.33)\n",
    "o47_g = 0.48-(-0.56)\n",
    "l_11 = 1.04-1.31\n",
    "l_15 = 0.81-1.46\n",
    "l_r = 0.65-1.97\n",
    "l_g = 0.92-1.74\n",
    "\n",
    "diffs = [b_11, b_15, b_r, b_g, o82a_11, o82a_15, o82a_r, o82a_g, o47_11, o47_15, o47_r, o47_g,\n",
    "        l_11, l_15, l_r, l_g]\n",
    "\n",
    "lbls = ['LRGBblue-11', 'LRGBblue-15', 'LRGBblue-LRGB red', 'LRGB blue-LRGB green',\n",
    "        '82a-11', '82a-15', '82a-LRGB red', '82a-LRGB green', '47-11', '47-15', \n",
    "        '47-LRGB red', '47-LRGB green', 'LRGB lum-11', 'LRGB lum-15', \n",
    "        'LRGB lum-LRGB red', 'LRGB lum-LRGB green']\n",
    "\n",
    "for lbl, diff in zip(lbls, diffs): \n",
    "    print('{}: {}'.format(lbl, diff))\n"
   ]
  },
  {
   "cell_type": "markdown",
   "metadata": {},
   "source": [
    "# 10 May 2017\n",
    "\n",
    "10:00 \n",
    "\n",
    "Let's plot it, using the sun data from January.\n",
    "\n",
    "## THIS PLOT IS NOT RIGHT--IGNORE"
   ]
  },
  {
   "cell_type": "code",
   "execution_count": 50,
   "metadata": {
    "collapsed": false
   },
   "outputs": [
    {
     "data": {
      "image/png": "[encoded data removed]",
      "text/plain": [
       "<matplotlib.figure.Figure at 0x7fb0f755f2d0>"
      ]
     },
     "metadata": {},
     "output_type": "display_data"
    }
   ],
   "source": [
    "import matplotlib.patches as mpatches \n",
    "y_pos = np.arange(len(lbls))\n",
    "\n",
    "colors = []\n",
    "for d in diffs:\n",
    "    if abs(d) <= 0.2:\n",
    "        colors.append('gold')\n",
    "    else:\n",
    "        colors.append('blue')\n",
    "        \n",
    "gold = mpatches.Patch(color='gold', label='Diff <= 0.2')\n",
    "\n",
    "fig = plt.figure(figsize=(12,10))\n",
    "plt.bar(y_pos, diffs, align='center', color = colors)\n",
    "plt.legend(handles=[gold], fontsize=16)\n",
    "plt.xticks(y_pos, lbls, rotation='vertical', fontsize=16)\n",
    "plt.yticks(fontsize=16)\n",
    "plt.ylabel('difference', fontsize=16)\n",
    "plt.suptitle('Difference in measured B-V index of cirrus clouds and the sun', y=1, \n",
    "             fontsize=20)\n",
    "plt.title('$(B-V)_{cloud}$ - $(B-V)_{sun}$', y=1.05, fontsize=16)\n",
    "plt.show()"
   ]
  },
  {
   "cell_type": "markdown",
   "metadata": {},
   "source": [
    "Now what about the moon values?"
   ]
  },
  {
   "cell_type": "code",
   "execution_count": 51,
   "metadata": {
    "collapsed": false
   },
   "outputs": [
    {
     "data": {
      "text/plain": [
       "['LRGBblue-11',\n",
       " 'LRGBblue-15',\n",
       " 'LRGBblue-LRGB red',\n",
       " 'LRGB blue-LRGB green',\n",
       " '82a-11',\n",
       " '82a-15',\n",
       " '82a-LRGB red',\n",
       " '82a-LRGB green',\n",
       " '47-11',\n",
       " '47-15',\n",
       " '47-LRGB red',\n",
       " '47-LRGB green',\n",
       " 'LRGB lum-11',\n",
       " 'LRGB lum-15',\n",
       " 'LRGB lum-LRGB red',\n",
       " 'LRGB lum-LRGB green']"
      ]
     },
     "execution_count": 51,
     "metadata": {},
     "output_type": "execute_result"
    }
   ],
   "source": [
    "lbls"
   ]
  },
  {
   "cell_type": "code",
   "execution_count": 23,
   "metadata": {
    "collapsed": true
   },
   "outputs": [],
   "source": [
    "moonbvs = [0.94, 0.94, 0.93,0.94,0.94,0.94,0.93,0.94,1.04,1.04,1.03,1.03,0.94,0.94,0.94,0.94]"
   ]
  },
  {
   "cell_type": "markdown",
   "metadata": {},
   "source": [
    "oops time for class\n",
    "\n",
    "11:00"
   ]
  },
  {
   "cell_type": "markdown",
   "metadata": {
    "collapsed": true
   },
   "source": [
    "# 18 May 2017\n",
    "\n",
    "9:45 am\n",
    "\n",
    "Been busy with traveling to Colorado and house hunting, etc!\n",
    "\n",
    "In reviewing the previous stuff, I realize I compared B-V for clouds using the sum column to B-V of the sun using the flux column so I need to fix that.\n",
    "\n",
    "## B-V differences, clouds and sun, flux column"
   ]
  },
  {
   "cell_type": "code",
   "execution_count": 65,
   "metadata": {
    "collapsed": false
   },
   "outputs": [
    {
     "name": "stdout",
     "output_type": "stream",
     "text": [
      "LRGBblue-11: 0.75\n",
      "LRGBblue-15: 0.61\n",
      "LRGBblue-LRGB red: 0.06\n",
      "LRGB blue-LRGB green: 0.34\n",
      "82a-11: -0.35\n",
      "82a-15: -0.48\n",
      "82a-LRGB red: -1.04\n",
      "82a-LRGB green: -0.75\n",
      "47-11: 2.13\n",
      "47-15: 2.0\n",
      "47-LRGB red: 1.44\n",
      "47-LRGB green: 1.73\n",
      "LRGB lum-11: -0.43\n",
      "LRGB lum-15: -0.57\n",
      "LRGB lum-LRGB red: -1.13\n",
      "LRGB lum-LRGB green: -0.85\n"
     ]
    },
    {
     "data": {
      "text/plain": [
       "<Container object of 16 artists>"
      ]
     },
     "execution_count": 65,
     "metadata": {},
     "output_type": "execute_result"
    },
    {
     "data": {
      "text/plain": [
       "<matplotlib.legend.Legend at 0x7efbfa65df90>"
      ]
     },
     "execution_count": 65,
     "metadata": {},
     "output_type": "execute_result"
    },
    {
     "data": {
      "text/plain": [
       "([<matplotlib.axis.XTick at 0x7efbfa702cd0>,\n",
       "  <matplotlib.axis.XTick at 0x7efbfa702bd0>,\n",
       "  <matplotlib.axis.XTick at 0x7efbf81e3710>,\n",
       "  <matplotlib.axis.XTick at 0x7efbfa5bfb10>,\n",
       "  <matplotlib.axis.XTick at 0x7efbfa5df090>,\n",
       "  <matplotlib.axis.XTick at 0x7efbf81e3950>,\n",
       "  <matplotlib.axis.XTick at 0x7efbf81e3e50>,\n",
       "  <matplotlib.axis.XTick at 0x7efbf818f390>,\n",
       "  <matplotlib.axis.XTick at 0x7efbf818f890>,\n",
       "  <matplotlib.axis.XTick at 0x7efbf818fd90>,\n",
       "  <matplotlib.axis.XTick at 0x7efbf819d2d0>,\n",
       "  <matplotlib.axis.XTick at 0x7efbf819d7d0>,\n",
       "  <matplotlib.axis.XTick at 0x7efbf819dcd0>,\n",
       "  <matplotlib.axis.XTick at 0x7efbf81ac210>,\n",
       "  <matplotlib.axis.XTick at 0x7efbf81ac710>,\n",
       "  <matplotlib.axis.XTick at 0x7efbf81acc10>],\n",
       " <a list of 16 Text xticklabel objects>)"
      ]
     },
     "execution_count": 65,
     "metadata": {},
     "output_type": "execute_result"
    },
    {
     "data": {
      "text/plain": [
       "(array([-1.5, -1. , -0.5,  0. ,  0.5,  1. ,  1.5,  2. ,  2.5]),\n",
       " <a list of 9 Text yticklabel objects>)"
      ]
     },
     "execution_count": 65,
     "metadata": {},
     "output_type": "execute_result"
    },
    {
     "data": {
      "text/plain": [
       "<matplotlib.text.Text at 0x7efbfa5dfdd0>"
      ]
     },
     "execution_count": 65,
     "metadata": {},
     "output_type": "execute_result"
    },
    {
     "data": {
      "text/plain": [
       "<matplotlib.text.Text at 0x7efbf81e36d0>"
      ]
     },
     "execution_count": 65,
     "metadata": {},
     "output_type": "execute_result"
    },
    {
     "data": {
      "text/plain": [
       "<matplotlib.text.Text at 0x7efbfa5bf2d0>"
      ]
     },
     "execution_count": 65,
     "metadata": {},
     "output_type": "execute_result"
    },
    {
     "data": {
      "image/png": "[encoded data removed]",
      "text/plain": [
       "<matplotlib.figure.Figure at 0x7efbfa65da50>"
      ]
     },
     "metadata": {},
     "output_type": "display_data"
    }
   ],
   "source": [
    "# Differences of cloud B-V values and sun B-V values, using sun data from 5 January, flux col\n",
    "# cloud data is from 3 January, set 1, using flux column\n",
    "fluxb_11 = cloudbv_flux_b_11 - sunbv_flux_b_11\n",
    "fluxb_15 = cloudbv_flux_b_15 - sunbv_flux_b_15\n",
    "fluxb_r = cloudbv_flux_b_red - sunbv_flux_b_red \n",
    "fluxb_g = cloudbv_flux_b_green - sunbv_flux_b_green\n",
    "flux82a_11 = cloudbv_flux_82a_11 - sunbv_flux_82a_11\n",
    "flux82a_15 = cloudbv_flux_82a_15 - sunbv_flux_82a_15\n",
    "flux82a_r = cloudbv_flux_82a_red - sunbv_flux_82a_red\n",
    "flux82a_g = cloudbv_flux_82a_green - sunbv_flux_82a_green\n",
    "flux47_11 = cloudbv_flux_47_11 - sunbv_flux_47_11\n",
    "flux47_15 = cloudbv_flux_47_15 - sunbv_flux_47_15\n",
    "flux47_r = cloudbv_flux_47_red - sunbv_flux_47_red\n",
    "flux47_g = cloudbv_flux_47_green - sunbv_flux_47_green \n",
    "fluxl_11 = cloudbv_flux_lum_11 - sunbv_flux_lum_11\n",
    "fluxl_15 = cloudbv_flux_lum_15 - sunbv_flux_lum_15\n",
    "fluxl_r = cloudbv_flux_lum_red - sunbv_flux_lum_red\n",
    "fluxl_g = cloudbv_flux_lum_green - sunbv_flux_lum_green\n",
    "\n",
    "diffs = [fluxb_11, fluxb_15, fluxb_r, fluxb_g, flux82a_11, flux82a_15, flux82a_r, flux82a_g, flux47_11, flux47_15, flux47_r, flux47_g,\n",
    "        fluxl_11, fluxl_15, fluxl_r, fluxl_g]\n",
    "\n",
    "lbls = ['LRGBblue-11', 'LRGBblue-15', 'LRGBblue-LRGB red', 'LRGB blue-LRGB green',\n",
    "        '82a-11', '82a-15', '82a-LRGB red', '82a-LRGB green', '47-11', '47-15', \n",
    "        '47-LRGB red', '47-LRGB green', 'LRGB lum-11', 'LRGB lum-15', \n",
    "        'LRGB lum-LRGB red', 'LRGB lum-LRGB green']\n",
    "\n",
    "for lbl, diff in zip(lbls, diffs): \n",
    "    print('{}: {}'.format(lbl, diff))\n",
    "    \n",
    "import matplotlib.patches as mpatches \n",
    "y_pos = np.arange(len(lbls))\n",
    "\n",
    "colors = []\n",
    "for d in diffs:\n",
    "    if abs(d) <= 0.2:\n",
    "        colors.append('gold')\n",
    "    else:\n",
    "        colors.append('blue')\n",
    "        \n",
    "gold = mpatches.Patch(color='gold', label='Diff <= 0.2')\n",
    "\n",
    "fig = plt.figure(figsize=(12,10))\n",
    "plt.bar(y_pos, diffs, align='center', color = colors)\n",
    "plt.legend(handles=[gold], fontsize=16)\n",
    "plt.xticks(y_pos, lbls, rotation='vertical', fontsize=16)\n",
    "plt.yticks(fontsize=16)\n",
    "plt.ylabel('difference', fontsize=16)\n",
    "plt.suptitle('Difference in measured B-V index of cirrus clouds and the sun', y=1, \n",
    "             fontsize=20)\n",
    "plt.title('$(B-V)_{cloud}$ - $(B-V)_{sun}$, using flux column', y=1.05, fontsize=16)\n",
    "plt.show()\n"
   ]
  },
  {
   "cell_type": "markdown",
   "metadata": {},
   "source": [
    "## B-V differences, clouds and sun, using sum column"
   ]
  },
  {
   "cell_type": "code",
   "execution_count": 67,
   "metadata": {
    "collapsed": false
   },
   "outputs": [
    {
     "name": "stdout",
     "output_type": "stream",
     "text": [
      "LRGBblue-11: 0.42\n",
      "LRGBblue-15: 0.13\n",
      "LRGBblue-LRGB red: -0.51\n",
      "LRGB blue-LRGB green: -0.02\n",
      "82a-11: -0.2\n",
      "82a-15: -0.49\n",
      "82a-LRGB red: -1.13\n",
      "82a-LRGB green: -0.64\n",
      "47-11: 1.32\n",
      "47-15: 1.03\n",
      "47-LRGB red: 0.4\n",
      "47-LRGB green: 0.88\n",
      "LRGB lum-11: -0.2\n",
      "LRGB lum-15: -0.49\n",
      "LRGB lum-LRGB red: -1.13\n",
      "LRGB lum-LRGB green: -0.64\n"
     ]
    },
    {
     "data": {
      "text/plain": [
       "<Container object of 16 artists>"
      ]
     },
     "execution_count": 67,
     "metadata": {},
     "output_type": "execute_result"
    },
    {
     "data": {
      "text/plain": [
       "<matplotlib.legend.Legend at 0x7efbfa5b7550>"
      ]
     },
     "execution_count": 67,
     "metadata": {},
     "output_type": "execute_result"
    },
    {
     "data": {
      "text/plain": [
       "([<matplotlib.axis.XTick at 0x7efbfa9a1fd0>,\n",
       "  <matplotlib.axis.XTick at 0x7efbfa9a1c50>,\n",
       "  <matplotlib.axis.XTick at 0x7efbf7cf3f90>,\n",
       "  <matplotlib.axis.XTick at 0x7efbf7c7f590>,\n",
       "  <matplotlib.axis.XTick at 0x7efbf7c7fc90>,\n",
       "  <matplotlib.axis.XTick at 0x7efbf7c883d0>,\n",
       "  <matplotlib.axis.XTick at 0x7efbf7c88ad0>,\n",
       "  <matplotlib.axis.XTick at 0x7efbf7c9a210>,\n",
       "  <matplotlib.axis.XTick at 0x7efbf7c9a910>,\n",
       "  <matplotlib.axis.XTick at 0x7efbf7ca9050>,\n",
       "  <matplotlib.axis.XTick at 0x7efbf7ca9750>,\n",
       "  <matplotlib.axis.XTick at 0x7efbfa691850>,\n",
       "  <matplotlib.axis.XTick at 0x7efbfa9a6910>,\n",
       "  <matplotlib.axis.XTick at 0x7efbf7ca9c90>,\n",
       "  <matplotlib.axis.XTick at 0x7efbf7cb93d0>,\n",
       "  <matplotlib.axis.XTick at 0x7efbf7cb9ad0>],\n",
       " <a list of 16 Text xticklabel objects>)"
      ]
     },
     "execution_count": 67,
     "metadata": {},
     "output_type": "execute_result"
    },
    {
     "data": {
      "text/plain": [
       "(array([-1.5, -1. , -0.5,  0. ,  0.5,  1. ,  1.5]),\n",
       " <a list of 7 Text yticklabel objects>)"
      ]
     },
     "execution_count": 67,
     "metadata": {},
     "output_type": "execute_result"
    },
    {
     "data": {
      "text/plain": [
       "<matplotlib.text.Text at 0x7efbfa857ad0>"
      ]
     },
     "execution_count": 67,
     "metadata": {},
     "output_type": "execute_result"
    },
    {
     "data": {
      "text/plain": [
       "<matplotlib.text.Text at 0x7efbf7cf3f50>"
      ]
     },
     "execution_count": 67,
     "metadata": {},
     "output_type": "execute_result"
    },
    {
     "data": {
      "text/plain": [
       "<matplotlib.text.Text at 0x7efbfa848390>"
      ]
     },
     "execution_count": 67,
     "metadata": {},
     "output_type": "execute_result"
    },
    {
     "data": {
      "image/png": "[encoded data removed]",
      "text/plain": [
       "<matplotlib.figure.Figure at 0x7efbfa642050>"
      ]
     },
     "metadata": {},
     "output_type": "display_data"
    }
   ],
   "source": [
    "# Differences of cloud B-V values and sun B-V values, using sun data from 5 January, sum col\n",
    "# cloud data is from 3 January, set 1, using sum column\n",
    "sumb_11 = cloudbv_sum_b_11 - sunbv_sum_b_11\n",
    "sumb_15 = cloudbv_sum_b_15 - sunbv_sum_b_15\n",
    "sumb_r = cloudbv_sum_b_red - sunbv_sum_b_red \n",
    "sumb_g = cloudbv_sum_b_green - sunbv_sum_b_green\n",
    "sum82a_11 = cloudbv_sum_82a_11 - sunbv_sum_82a_11\n",
    "sum82a_15 = cloudbv_sum_82a_15 - sunbv_sum_82a_15\n",
    "sum82a_r = cloudbv_sum_82a_red - sunbv_sum_82a_red\n",
    "sum82a_g = cloudbv_sum_82a_green - sunbv_sum_82a_green\n",
    "sum47_11 = cloudbv_sum_47_11 - sunbv_sum_47_11\n",
    "sum47_15 = cloudbv_sum_47_15 - sunbv_sum_47_15\n",
    "sum47_r = cloudbv_sum_47_red - sunbv_sum_47_red\n",
    "sum47_g = cloudbv_sum_47_green - sunbv_sum_47_green \n",
    "suml_11 = cloudbv_sum_lum_11 - sunbv_sum_lum_11\n",
    "suml_15 = cloudbv_sum_lum_15 - sunbv_sum_lum_15\n",
    "suml_r = cloudbv_sum_lum_red - sunbv_sum_lum_red\n",
    "suml_g = cloudbv_sum_lum_green - sunbv_sum_lum_green\n",
    "\n",
    "diffs = [sumb_11, sumb_15, sumb_r, sumb_g, sum82a_11, sum82a_15, sum82a_r, sum82a_g, sum47_11, sum47_15, sum47_r, sum47_g,\n",
    "        suml_11, suml_15, suml_r, suml_g]\n",
    "\n",
    "lbls = ['LRGBblue-11', 'LRGBblue-15', 'LRGBblue-LRGB red', 'LRGB blue-LRGB green',\n",
    "        '82a-11', '82a-15', '82a-LRGB red', '82a-LRGB green', '47-11', '47-15', \n",
    "        '47-LRGB red', '47-LRGB green', 'LRGB lum-11', 'LRGB lum-15', \n",
    "        'LRGB lum-LRGB red', 'LRGB lum-LRGB green']\n",
    "\n",
    "for lbl, diff in zip(lbls, diffs): \n",
    "    print('{}: {}'.format(lbl, diff))\n",
    "    \n",
    "import matplotlib.patches as mpatches \n",
    "y_pos = np.arange(len(lbls))\n",
    "\n",
    "colors = []\n",
    "for d in diffs:\n",
    "    if abs(d) <= 0.2:\n",
    "        colors.append('gold')\n",
    "    else:\n",
    "        colors.append('blue')\n",
    "        \n",
    "gold = mpatches.Patch(color='gold', label='Diff <= 0.2')\n",
    "\n",
    "fig = plt.figure(figsize=(12,10))\n",
    "plt.bar(y_pos, diffs, align='center', color = colors)\n",
    "plt.legend(handles=[gold], fontsize=16)\n",
    "plt.xticks(y_pos, lbls, rotation='vertical', fontsize=16)\n",
    "plt.yticks(fontsize=16)\n",
    "plt.ylabel('difference', fontsize=16)\n",
    "plt.suptitle('Difference in measured B-V index of cirrus clouds and the sun', y=1, \n",
    "             fontsize=20)\n",
    "plt.title('$(B-V)_{cloud}$ - $(B-V)_{sun}$, using SUM column', y=1.05, fontsize=16)\n",
    "plt.show()\n"
   ]
  },
  {
   "cell_type": "markdown",
   "metadata": {},
   "source": [
    "10:40 am\n",
    "\n",
    "Now... more to-do and more thinking.\n",
    "\n",
    "To-do\n",
    "\n",
    "1. Make these same plots, but comparing to the moon\n",
    "2. Get B-V values for more cloud data sets\n",
    "3. Get more sun data (when it is sunny)\n",
    "4. Make plots showing the B-V values of sun and clouds (separate plots) and compare to the official accepted value in B-V \n",
    "5. Get more data after cleaning the filters\n",
    "\n",
    "THINK\n",
    "\n",
    "1. Are we looking for the filter combination where there is the least discrepancy between the B-V of clouds and sun, OR are we looking for the filter combination that reproduces a value most similar to the published B-V value for the sun?\n",
    "2. How should error be incorporated? How much of a pain will it be?\n",
    "\n",
    "## Important notes before I Forget them\n",
    "\n",
    "1. When I did the manual photometry of the clouds, I always traced the cloud first, so the first entry in the photometry file is the cloud, and the second is the sky.\n",
    "2. Should only use the flux column to calculate B-V. I re-ran the calculation for the moon set (10 April) and also the sun set (28 April)."
   ]
  },
  {
   "cell_type": "markdown",
   "metadata": {},
   "source": [
    "## B-V values, moon, 10 April, set 1"
   ]
  },
  {
   "cell_type": "code",
   "execution_count": 2,
   "metadata": {
    "collapsed": false
   },
   "outputs": [
    {
     "data": {
      "text/plain": [
       "{'47-11': [1.036, 0.019],\n",
       " '47-15': [1.036, 0.019],\n",
       " '47-LRGBgreen': [1.034, 0.019],\n",
       " '47-LRGBred': [1.027, 0.019],\n",
       " '82a-11': [0.942, 0.001],\n",
       " '82a-15': [0.942, 0.001],\n",
       " '82a-LRGBgreen': [0.94, 0.0],\n",
       " '82a-LRGBred': [0.933, 0.002],\n",
       " 'LRGBblue-11': [0.943, 0.0],\n",
       " 'LRGBblue-15': [0.943, 0.001],\n",
       " 'LRGBblue-LRGBgreen': [0.941, 0.0],\n",
       " 'LRGBblue-LRGBred': [0.934, 0.002],\n",
       " 'LRGBluminance-11': [0.945, 0.0],\n",
       " 'LRGBluminance-15': [0.944, 0.001],\n",
       " 'LRGBluminance-LRGBgreen': [0.942, 0.0],\n",
       " 'LRGBluminance-LRGBred': [0.936, 0.002]}"
      ]
     },
     "execution_count": 2,
     "metadata": {},
     "output_type": "execute_result"
    }
   ],
   "source": [
    "# Get the B-V values of the moon\n",
    "\n",
    "path = '/home/emc/GoogleDrive/Phys/Research/BothunLab/SkyPhotos/NewCamera/' \\\n",
    "       '10April2017_MOON_1/set1/'\n",
    "files = !ls SkyPhotos/NewCamera/10April2017_MOON_1/set1 | grep .csv\n",
    "B_V_moon = {}\n",
    "\n",
    "for fname in files:\n",
    "    longf = path + fname\n",
    "    filters = re.search('(?<=V_).+-.+(?=.csv)', longf).group(0)\n",
    "    with open(longf, 'r') as f:\n",
    "        junk = f.readline()\n",
    "        dataline = f.readline().split(',')\n",
    "        b_v = round(float(dataline[1]), 3)\n",
    "        err = round(float(dataline[3]), 3)\n",
    "        B_V_moon[filters] = [b_v, err]  # format is b_v value, then error\n",
    "        \n",
    "B_V_moon"
   ]
  },
  {
   "cell_type": "markdown",
   "metadata": {},
   "source": [
    "## B-V differences, clouds and moon, using flux column"
   ]
  },
  {
   "cell_type": "code",
   "execution_count": 7,
   "metadata": {
    "collapsed": false
   },
   "outputs": [
    {
     "name": "stdout",
     "output_type": "stream",
     "text": [
      "LRGBblue-11: 0.18\n",
      "LRGBblue-15: 0.18\n",
      "LRGBblue-LRGB red: 0.15\n",
      "LRGB blue-LRGB green: 0.19\n",
      "82a-11: 0.03\n",
      "82a-15: 0.04\n",
      "82a-LRGB red: 0.0\n",
      "82a-LRGB green: 0.05\n",
      "47-11: 0.11\n",
      "47-15: 0.12\n",
      "47-LRGB red: 0.08\n",
      "47-LRGB green: 0.14\n",
      "LRGB lum-11: -0.06\n",
      "LRGB lum-15: -0.05\n",
      "LRGB lum-LRGB red: -0.1\n",
      "LRGB lum-LRGB green: -0.05\n"
     ]
    },
    {
     "data": {
      "text/plain": [
       "<Container object of 16 artists>"
      ]
     },
     "execution_count": 7,
     "metadata": {},
     "output_type": "execute_result"
    },
    {
     "data": {
      "text/plain": [
       "<matplotlib.legend.Legend at 0x7fa7d72d1710>"
      ]
     },
     "execution_count": 7,
     "metadata": {},
     "output_type": "execute_result"
    },
    {
     "data": {
      "text/plain": [
       "([<matplotlib.axis.XTick at 0x7fa7d72ed290>,\n",
       "  <matplotlib.axis.XTick at 0x7fa7d734f310>,\n",
       "  <matplotlib.axis.XTick at 0x7fa7d4ed9c10>,\n",
       "  <matplotlib.axis.XTick at 0x7fa7d4e89690>,\n",
       "  <matplotlib.axis.XTick at 0x7fa7d4e89b90>,\n",
       "  <matplotlib.axis.XTick at 0x7fa7d4e990d0>,\n",
       "  <matplotlib.axis.XTick at 0x7fa7d4e995d0>,\n",
       "  <matplotlib.axis.XTick at 0x7fa7d4e99ad0>,\n",
       "  <matplotlib.axis.XTick at 0x7fa7d4e99fd0>,\n",
       "  <matplotlib.axis.XTick at 0x7fa7d4ea7510>,\n",
       "  <matplotlib.axis.XTick at 0x7fa7d4ea7a10>,\n",
       "  <matplotlib.axis.XTick at 0x7fa7d4ea7f10>,\n",
       "  <matplotlib.axis.XTick at 0x7fa7d4eb7450>,\n",
       "  <matplotlib.axis.XTick at 0x7fa7d4eb7950>,\n",
       "  <matplotlib.axis.XTick at 0x7fa7d4eb7e50>,\n",
       "  <matplotlib.axis.XTick at 0x7fa7d4e46390>],\n",
       " <a list of 16 Text xticklabel objects>)"
      ]
     },
     "execution_count": 7,
     "metadata": {},
     "output_type": "execute_result"
    },
    {
     "data": {
      "text/plain": [
       "(array([-0.1 , -0.05,  0.  ,  0.05,  0.1 ,  0.15,  0.2 ,  0.25]),\n",
       " <a list of 8 Text yticklabel objects>)"
      ]
     },
     "execution_count": 7,
     "metadata": {},
     "output_type": "execute_result"
    },
    {
     "data": {
      "text/plain": [
       "<matplotlib.text.Text at 0x7fa7d734f590>"
      ]
     },
     "execution_count": 7,
     "metadata": {},
     "output_type": "execute_result"
    },
    {
     "data": {
      "text/plain": [
       "<matplotlib.text.Text at 0x7fa7d737b310>"
      ]
     },
     "execution_count": 7,
     "metadata": {},
     "output_type": "execute_result"
    },
    {
     "data": {
      "text/plain": [
       "<matplotlib.text.Text at 0x7fa7d72fc3d0>"
      ]
     },
     "execution_count": 7,
     "metadata": {},
     "output_type": "execute_result"
    },
    {
     "data": {
      "image/png": "[encoded data removed]",
      "text/plain": [
       "<matplotlib.figure.Figure at 0x7fa7d72d1290>"
      ]
     },
     "metadata": {},
     "output_type": "display_data"
    }
   ],
   "source": [
    "# Calculate B-V values\n",
    "moonbv_flux_b_11 = 0.94\n",
    "moonbv_flux_b_15 = 0.94\n",
    "moonbv_flux_b_red = 0.93\n",
    "moonbv_flux_b_green = 0.94\n",
    "\n",
    "moonbv_flux_82a_11 = 0.94\n",
    "moonbv_flux_82a_15 = 0.94\n",
    "moonbv_flux_82a_red = 0.93\n",
    "moonbv_flux_82a_green = 0.94\n",
    "\n",
    "moonbv_flux_47_11 = 1.04\n",
    "moonbv_flux_47_15 = 1.04\n",
    "moonbv_flux_47_red = 1.03\n",
    "moonbv_flux_47_green = 1.03\n",
    "\n",
    "moonbv_flux_lum_11 = 0.94\n",
    "moonbv_flux_lum_15 = 0.94\n",
    "moonbv_flux_lum_red = 0.94\n",
    "moonbv_flux_lum_green = 0.94\n",
    "\n",
    "# Differences of cloud B-V values and moon B-V values, using moon data from 10 April, flux col\n",
    "# cloud data is from 3 January, set 1, using flux column\n",
    "mfluxb_11 = cloudbv_flux_b_11 - moonbv_flux_b_11\n",
    "mfluxb_15 = cloudbv_flux_b_15 - moonbv_flux_b_15\n",
    "mfluxb_r = cloudbv_flux_b_red - moonbv_flux_b_red \n",
    "mfluxb_g = cloudbv_flux_b_green - moonbv_flux_b_green\n",
    "mflux82a_11 = cloudbv_flux_82a_11 - moonbv_flux_82a_11\n",
    "mflux82a_15 = cloudbv_flux_82a_15 - moonbv_flux_82a_15\n",
    "mflux82a_r = cloudbv_flux_82a_red - moonbv_flux_82a_red\n",
    "mflux82a_g = cloudbv_flux_82a_green - moonbv_flux_82a_green\n",
    "mflux47_11 = cloudbv_flux_47_11 - moonbv_flux_47_11\n",
    "mflux47_15 = cloudbv_flux_47_15 - moonbv_flux_47_15\n",
    "mflux47_r = cloudbv_flux_47_red - moonbv_flux_47_red\n",
    "mflux47_g = cloudbv_flux_47_green - moonbv_flux_47_green \n",
    "mfluxl_11 = cloudbv_flux_lum_11 - moonbv_flux_lum_11\n",
    "mfluxl_15 = cloudbv_flux_lum_15 - moonbv_flux_lum_15\n",
    "mfluxl_r = cloudbv_flux_lum_red - moonbv_flux_lum_red\n",
    "mfluxl_g = cloudbv_flux_lum_green - moonbv_flux_lum_green\n",
    "\n",
    "diffs = [mfluxb_11, mfluxb_15, mfluxb_r, mfluxb_g, mflux82a_11, mflux82a_15, mflux82a_r, mflux82a_g, mflux47_11, mflux47_15, mflux47_r, mflux47_g,\n",
    "        mfluxl_11, mfluxl_15, mfluxl_r, mfluxl_g]\n",
    "\n",
    "lbls = ['LRGBblue-11', 'LRGBblue-15', 'LRGBblue-LRGB red', 'LRGB blue-LRGB green',\n",
    "        '82a-11', '82a-15', '82a-LRGB red', '82a-LRGB green', '47-11', '47-15', \n",
    "        '47-LRGB red', '47-LRGB green', 'LRGB lum-11', 'LRGB lum-15', \n",
    "        'LRGB lum-LRGB red', 'LRGB lum-LRGB green']\n",
    "\n",
    "for lbl, diff in zip(lbls, diffs): \n",
    "    print('{}: {}'.format(lbl, diff))\n",
    "    \n",
    "import matplotlib.patches as mpatches \n",
    "y_pos = np.arange(len(lbls))\n",
    "\n",
    "colors = []\n",
    "for d in diffs:\n",
    "    if abs(d) <= 0.05:\n",
    "        colors.append('gold')\n",
    "    else:\n",
    "        colors.append('blue')\n",
    "        \n",
    "gold = mpatches.Patch(color='gold', label='Diff <= 0.05')\n",
    "\n",
    "fig = plt.figure(figsize=(12,10))\n",
    "plt.bar(y_pos, diffs, align='center', color = colors)\n",
    "plt.legend(handles=[gold], fontsize=16)\n",
    "plt.xticks(y_pos, lbls, rotation='vertical', fontsize=16)\n",
    "plt.yticks(fontsize=16)\n",
    "plt.ylabel('difference', fontsize=16)\n",
    "plt.suptitle('Difference in measured B-V index of cirrus clouds and the moon', y=1, \n",
    "             fontsize=20)\n",
    "plt.title('$(B-V)_{cloud}$ - $(B-V)_{moon}$, using flux column', y=1.05, fontsize=16)\n",
    "plt.show()\n"
   ]
  },
  {
   "cell_type": "markdown",
   "metadata": {},
   "source": [
    "Ooh interesting and very exciting! The moon is way more accurate... from this data, preliminarily, it might do to watch the filters \n",
    "\n",
    "- 82a and 11\n",
    "- 82a and 15\n",
    "- 82a and LRGB red\n",
    "- LRGB lum and 15\n",
    "- LRGb lum and LRGB green\n",
    "\n",
    "which tells us the most useful filters are 82a, LRGB lum and 15. Maybe also 11, red and green.\n",
    "\n",
    "The weather is turning a bit nasty so it's time to go back to Rosa's.\n",
    "\n",
    "11:10 am"
   ]
  },
  {
   "cell_type": "markdown",
   "metadata": {
    "collapsed": true
   },
   "source": [
    "# 21 May 2017\n",
    "\n",
    "13:45\n",
    "\n",
    "Going to think about error today.\n",
    "\n",
    "14:05\n",
    "\n",
    "I've reviewed the error and I think this is how to implement it. It's definitely not as hard as I thought. Thanks Taylor / Dean for making me hate/be afraid of error propagation.\n",
    "\n",
    "## How to propagate error\n",
    "\n",
    "1. Official error on the sky background value, **SKYVAL ERROR**, is calculated as σ/sqrt(N) as discussed before. This value is already included in each set's `files_and_params.txt`. \n",
    "2. **CELL COUNT ERROR** for a given cell/polygon used for photometry is just the cell area * error. The area varies with the size of the grid cell as compared to the total image size, or the size of the manual polygon.\n",
    "3. The **CELL SUM RANGE** is the range of possible values for the total counts in the cell. The upper and lower limits are defined by the value in the \"SUM\" field of the photometry, ± CELL COUNT ERROR.\n",
    "4. **CELL FLUX RANGE** is defined as **CELL SUM RANGE** - **SKYVAL * AREA**. In plain language, subtract the sky background per pixel multiplied by the cell area from both the maximum and minimum SUM (which is flux + sky background, i.e. total counts). **You theoretically can get this value by just subtracting the error value from the raw flux counts but it doesn't seem to work with manual photometries--it produces a different answer**\n",
    "5. The **B-V RANGE** is calculated by applying the `calc_flux_ratio.py` script to both the upper and lower bounds of **CELL FLUX RANGE**.\n",
    "6. Center of **B-V RANGE** is calculated by taking the raw **CELL SUM** and going through the above calculations (without looking at the upper and lower bounds).\n",
    "7. Error on each magnitude (B or V) is $$\\delta M = -\\frac{2.5\\delta F}{F\\ln(10)}$$\n",
    "8. Thus the rules for adding errors in quadrature say that $$\\delta (B-V) = \\sqrt{(\\delta M_b)^2 + (\\delta M_v)^2}$$"
   ]
  },
  {
   "cell_type": "markdown",
   "metadata": {},
   "source": [
    "## Calculating error for manual photometries\n",
    "\n",
    "### 3 January 2017 set 1"
   ]
  },
  {
   "cell_type": "code",
   "execution_count": 92,
   "metadata": {
    "collapsed": false
   },
   "outputs": [
    {
     "name": "stdout",
     "output_type": "stream",
     "text": [
      "Cell count error (δF), filter 11: 299016.93\n",
      "Sum range: [12597214.07, 13195247.93]\n",
      "Flux range: [5887792.82, 6485826.68]\n",
      "Flux mean: 6186812.0\n",
      "\n",
      "Cell count error (δF), filter 15: 465880.96\n",
      "Sum range: [6528433.04, 7460194.96]\n",
      "Flux range: [3724272.62, 4656034.55]\n",
      "Flux mean: 4190153.0\n",
      "\n",
      "Cell count error (δF), filter 47: 142617.91\n",
      "Sum range: [596847.09, 882082.91]\n",
      "Flux range: [71184.29, 356420.11]\n",
      "Flux mean: 213802.1\n",
      "\n",
      "Cell count error (δF), filter 82a: 173917.57\n",
      "Sum range: [17260223.43, 17608058.57]\n",
      "Flux range: [8749220.39, 9097055.54]\n",
      "Flux mean: 8923138.0\n",
      "\n",
      "Cell count error (δF), filter LRGBred: 216856.23\n",
      "Sum range: [2639681.77, 3073394.23]\n",
      "Flux range: [1687074.52, 2120786.98]\n",
      "Flux mean: 1903930.0\n",
      "\n",
      "Cell count error (δF), filter LRGBgreen: 372276.7\n",
      "Sum range: [5955156.3, 6699709.7]\n",
      "Flux range: [3068745.33, 3813298.74]\n",
      "Flux mean: 3441022.0\n",
      "\n",
      "Cell count error (δF), filter LRGBblue: 555937.22\n",
      "Sum range: [3942104.78, 5053979.22]\n",
      "Flux range: [1266517.62, 2378392.06]\n",
      "Flux mean: 1822455.0\n",
      "\n",
      "Cell count error (δF), filter LRGBluminance: 97130.76\n",
      "Sum range: [17496569.24, 17690830.76]\n",
      "Flux range: [9710140.04, 9904401.56]\n",
      "Flux mean: 9807273.0\n",
      "\n"
     ]
    }
   ],
   "source": [
    "# Get all the entries out of files_and_params.txt file\n",
    "entries = []\n",
    "with open('AnalysisFiles/3-Jan-2017_dataset/files_and_params.txt', 'r') as f:\n",
    "    junk = f.readline()\n",
    "    for line in f:\n",
    "        if 'set1' in line:\n",
    "            entries.append(line.split('\\t'))\n",
    "\n",
    "# set up some lists for iterating\n",
    "skybg = []\n",
    "err = []\n",
    "csum = []\n",
    "cflux = []\n",
    "area= []\n",
    "paths = []\n",
    "CCE = []\n",
    "CSR = []\n",
    "CFR = []\n",
    "order = ['11', '15', '47', '82a', 'LRGBred', 'LRGBgreen', 'LRGBblue', 'LRGBluminance']\n",
    "\n",
    "# extract the sky background values, error, and paths to manual photometries in order\n",
    "for c in range(0,8):\n",
    "    for entry in entries:\n",
    "        if entry[5] == order[c]:\n",
    "            skybg.append(float(entry[1]))\n",
    "            err.append(float(entry[3]))\n",
    "            mphotpath = entry[7].strip('\\n') + entry[0][:-4] + '_photometry_manual'\n",
    "            paths.append(mphotpath)\n",
    "            continue\n",
    "        else:\n",
    "            pass\n",
    "\n",
    "# extract the flux and areas. sum is not needed because only need to subtract error once.\n",
    "for path in paths:\n",
    "    with open(path, 'r') as f:\n",
    "        alllines = f.readlines()\n",
    "        SAF = alllines[86].split()\n",
    "    cflux.append(float(SAF[2]))\n",
    "    csum.append(float(SAF[0]))\n",
    "    area.append(float(SAF[1]))\n",
    "\n",
    "# this is tested to be good.\n",
    "for i in range(0,8):\n",
    "    CCE.append(area[i] * err[i])\n",
    "    low = csum[i] - CCE[i]\n",
    "    high = csum[i] + CCE[i]\n",
    "    CSR.append([low, high])\n",
    "    CFR.append([low - skybg[i] * area[i], high - skybg[i] * area[i]])\n",
    "\n",
    "# rounding\n",
    "CCE = [round(i, 2) for i in CCE]\n",
    "CSR = [[round(i[0], 2), round(i[1], 2)] for i in CSR]\n",
    "CFR = [[round(i[0], 2), round(i[1], 2)] for i in CFR]\n",
    "\n",
    "for i in range(0, 8):\n",
    "    print('Cell count error (δF), filter {}: {}'.format(order[i], CCE[i]))\n",
    "    print('Sum range: {}'.format(CSR[i]))\n",
    "    print('Flux range: {}'.format(CFR[i]))\n",
    "    print('Flux mean: {}'.format(cflux[i]))\n",
    "    print"
   ]
  },
  {
   "cell_type": "code",
   "execution_count": 99,
   "metadata": {
    "collapsed": false
   },
   "outputs": [],
   "source": [
    "def dm(df, f):\n",
    "    \"\"\"\n",
    "    error on a magnitude using rule that \n",
    "    δ m(f) = sqrt{((∂m)/(∂f)*δf)^2}$\n",
    "    \"\"\"\n",
    "    return (-2.5 * (df)) / (f * m.log(10))\n",
    "\n",
    "m82a = -2.5*m.log10(cflux[3]) + 0.13\n",
    "dm82a = dm(CCE[3], cflux[3])\n",
    "\n",
    "m11 = -2.5*m.log10(cflux[0]) + (-1.24)\n",
    "dm11 = dm(CCE[0], cflux[0])\n",
    "\n",
    "m15 = -2.5*m.log10(cflux[1]) + (-1.67)\n",
    "dm15 = dm(CCE[1], cflux[1])\n",
    "\n",
    "mlum = -2.5*m.log10(cflux[7]) + 0.14\n",
    "dmlum = dm(CCE[7], cflux[7])\n"
   ]
  },
  {
   "cell_type": "code",
   "execution_count": 104,
   "metadata": {
    "collapsed": false
   },
   "outputs": [
    {
     "name": "stdout",
     "output_type": "stream",
     "text": [
      "B-V of 82a-15:\n",
      "B-V: 0.979280678955\n",
      "δ(B-V): 0.122558050346\n",
      "\n",
      "B-V of 82a-11:\n",
      "B-V: 0.972373274097\n",
      "δ(B-V): 0.0565813720172\n",
      "\n",
      "B-V of LRGBluminance-15:\n",
      "B-V: 0.886704041157\n",
      "δ(B-V): 0.121195246033\n",
      "\n"
     ]
    }
   ],
   "source": [
    "# some quick scratch calculations of B-V and associated errors for 3 January set 1\n",
    "BV_82a_15 = m82a - m15\n",
    "dBV_82a_15 = m.sqrt(dm82a**2 + dm15**2)\n",
    "\n",
    "BV_82a_11 = m82a - m11\n",
    "dBV_82a_11 = m.sqrt(dm82a**2 + dm11**2)\n",
    "\n",
    "BV_lum_15 = mlum - m15\n",
    "dBV_lum_15 = m.sqrt(dmlum**2 + dm15**2)\n",
    "\n",
    "print('B-V of 82a-15:')\n",
    "print('B-V: {}'.format(BV_82a_15))\n",
    "print('δ(B-V): {}'.format(dBV_82a_15))\n",
    "print\n",
    "\n",
    "print('B-V of 82a-11:')\n",
    "print('B-V: {}'.format(BV_82a_11))\n",
    "print('δ(B-V): {}'.format(dBV_82a_11))\n",
    "print\n",
    "print('B-V of LRGBluminance-15:')\n",
    "print('B-V: {}'.format(BV_lum_15))\n",
    "print('δ(B-V): {}'.format(dBV_lum_15))\n",
    "print"
   ]
  },
  {
   "cell_type": "markdown",
   "metadata": {},
   "source": [
    "16:34\n",
    "\n",
    "That seems pretty accurate. Only question is that the CCE (cell count error) is ever so slightly different when calculated straight from error x area, versus when it is calculated by following the process above and then finding the difference of the flux given in the photometry and the extremes of flux calculated. HMm... does it matter? what could it be?\n",
    "\n",
    "In any case, it's time to implement it into the code base... the main trouble is that the error is stored in `files_and_params.txt` but isn't passed do the photometry code when doing photometry. And even so, if I do manual photometry, the `polyphot_batch.py` script doesn't even run, so we need to pick up the error in some other way."
   ]
  },
  {
   "cell_type": "markdown",
   "metadata": {},
   "source": [
    "Note to self: polyphot documentation explains sum, area, magnitude etc really clearly...\n",
    "\n",
    "    Sum, area, and flux are the total number of counts including sky in the polygonal aperture, the area of the aperture in square pixels, and the total number of counts in the aperture excluding sky. Mag and merr are the magnitude and error in the magnitude in the aperture after subtracting the sky value (see below).\n",
    "\n",
    "            flux = sum - area * msky\n",
    "             mag = zmag - 2.5 * log10 (flux) + 2.5 * log10 (itime)\n",
    "            merr = 1.0857 * error / flux\n",
    "           error = sqrt (flux / epadu + area * stdev**2 +\n",
    "                   area**2 * stdev**2 / nsky)\n"
   ]
  },
  {
   "cell_type": "markdown",
   "metadata": {},
   "source": [
    "16:43 \n",
    "\n",
    "Okay, so suppose I'm in the `calc_flux_ratio.py` script and I've got some photometry file loaded. I need to gather the count error for that particular file. It's in the `files_and_params.txt` file, which will generally be in the dated folder for the image set. Thus, here's how I can get the error info.\n"
   ]
  },
  {
   "cell_type": "code",
   "execution_count": 123,
   "metadata": {
    "collapsed": false
   },
   "outputs": [
    {
     "data": {
      "text/plain": [
       "'3January2017'"
      ]
     },
     "execution_count": 123,
     "metadata": {},
     "output_type": "execute_result"
    },
    {
     "name": "stdout",
     "output_type": "stream",
     "text": [
      "Found error: 1.75481480504\n"
     ]
    }
   ],
   "source": [
    "photfile = '/home/emc/GoogleDrive/Phys/Research/BothunLab/SkyPhotos/NewCamera/3January2017/' \\\n",
    "           'set1/11/200microsec/21-5-34-204_photometry_manual'\n",
    "    \n",
    "timestamp = re.search('(?<=sec\\/).+(?=_pho)', photfile).group(0)\n",
    "date = re.search('(\\d+[A-Za-z]+\\d+)', photfile).group(0)\n",
    "date\n",
    "paramfilepath = 'SkyPhotos/NewCamera/{}/files_and_params.txt'\n",
    "\n",
    "with open(paramfilepath.format(date), 'r') as f:\n",
    "    stuff = f.readlines()\n",
    "    stuff = [i.split('\\t') for i in stuff if i != '\\n']\n",
    "for s in stuff:\n",
    "    if timestamp in s[0]:\n",
    "        print('Found error: {}'.format(s[3]))"
   ]
  },
  {
   "cell_type": "markdown",
   "metadata": {},
   "source": [
    "17:15\n",
    "\n",
    "Okay, I implemented the above code in `calc_flux_ratio.py`, and also implemented code to calculate the error of the B-V magnitude. I need to check to make sure I did it right, but it's time to go to the airport"
   ]
  },
  {
   "cell_type": "markdown",
   "metadata": {
    "collapsed": true
   },
   "source": [
    "# 25 May 2017\n",
    "\n",
    "12:45 \n",
    "\n",
    "Finishing up testing on the error.\n",
    "\n",
    "13:07\n",
    "\n",
    "Finished testing error and it now successfully prints to the B-V csv. \n",
    "\n",
    "Cotinuing on,\n",
    "\n",
    "To-do\n",
    "\n",
    "    More manual photometry on clouds\n",
    "    Finally calculate B-V values for more cloud data sets\n",
    "    Get more sun data (when it is sunny)\n",
    "    Make plots showing the B-V values of sun and clouds (separate plots) and compare to the official accepted value in B-V for the sun\n",
    "    Get more data after cleaning the filters\n",
    "\n",
    "THINK\n",
    "\n",
    "    Are we looking for the filter combination where there is the least discrepancy between the B-V of clouds and sun, OR are we looking for the filter combination that reproduces a value most similar to the published B-V value for the sun?\n",
    "    \n",
    "13:26\n",
    "\n",
    "I think right now it's best to go through the folders of clouds and decide what's good data and what isn't.\n",
    "\n",
    "In a rating of 1-5, 1 being best data, 5 being worst:\n",
    "\n",
    "2016\n",
    "- 12May2016: 4; nice fields of clouds, some may not be cirrus, only data for 11, 15, 82a.\n",
    "- 8Sep2016: bad; photos taken with 2 filters at once\n",
    "- 18Sept2016: bad; double filters\n",
    "- 26Sept2016: 5; images are pretty dim, few clouds, some double-filter folders\n",
    "- 30Sept2016: 5; incomplete filter set; clouds hard to discern\n",
    "- 8October2016 set2: 5; apparently it was questionable data for some reason according to my past self\n",
    "- 8October2016 set1: 3; a few good cloud fields that are consistent to compare but only for a few filters \n",
    "- **9October2016: 2; not always of same cloud; some really good pictures; mix of filters available in many sets**\n",
    "- 28October2016: 3; nice cloud features and fields, but only a few filters\n",
    "- **29October2016: 2; excellent examples of cirrus clouds, fields move around a bit too fast, not very many filters, worth a look though**\n",
    "\n",
    "2017\n",
    "- **3January2017: 1; 4 sets, good clouds (maybe a few non-cirrus), consistent fields, consistent filters**\n",
    "- **4May2017: 1; 5 sets, generally good clouds, consistent fields**\n",
    "- **5January2017_SUN: 1; the better sun set. still need one where the sun is consistently centered. Needs the exposure folders to be fixed.**\n",
    "- **10April2017_MOON: 1; best moon set.**\n",
    "- **10May2017: 1; 4 sets, great clouds, consistent fields, all filters. Need to organize the sub folders as this is not yet done.**\n",
    "- **11February2017_MOON: 2; a backup moon set**\n",
    "- 21April2017: 3; field covers images; clouds look a little fluffy. Halo day\n",
    "- **22May2017: 1; great clouds and fields. Still needs to be organized.**\n",
    "- **28April2017_SUN: 1; a decent sun set.**\n",
    "\n",
    "\n"
   ]
  },
  {
   "cell_type": "markdown",
   "metadata": {},
   "source": [
    "14:44\n",
    "\n",
    "Finished organizing the 10 May folder. set4 was saved in BMP :(\n",
    "\n",
    "14:58\n",
    "\n",
    "Need to organize set 2 of 22 May. Now it's time for journal club\n"
   ]
  },
  {
   "cell_type": "markdown",
   "metadata": {
    "collapsed": true
   },
   "source": [
    "# 26 May 2017\n",
    "\n",
    "13:15\n",
    "   \n",
    "Finishing organizing 22 May.\n",
    "\n",
    "14:58\n",
    "\n",
    "That was a long bout of yak-shaving. I had to fix a bunch of bugs because I was trying to generate manual commands. I fixed:\n",
    "\n",
    "- Manual command generating script\n",
    "- Some screwed up sky stat files in 3 January set 2\n",
    "- Moved all the sky stat files for 3 January back into the folders with their associated images, because they were all in \"AnalysisFiles\" which is no longer a supported location for the sky stat files\n",
    "- Re-ran tidy_stats on 3Jan\n",
    "- finally generated all the manual commands.\n",
    "\n",
    "## BIG TO DO LIST BY DATASET\n",
    "\n",
    "3January2017\n",
    "- Manual photometry\n",
    "- B-V values\n",
    "\n",
    "4May2017\n",
    "- collect_skystats\n",
    "- tidy_stats\n",
    "- generate_manual_cmds\n",
    "- Manual photometry\n",
    "- B-V values\n",
    "\n",
    "5January2017_SUN\n",
    "- re-calculate B-V values now that error is included\n",
    "\n",
    "10April2017_MOON\n",
    "- nothing at this time\n",
    "\n",
    "10May2017\n",
    "- collect_skystats\n",
    "- tidy_stats\n",
    "- generate_manual_cmds\n",
    "- Manual photometry\n",
    "- B-V values\n",
    "\n",
    "22May2017\n",
    "- collect_skystats\n",
    "- tidy_stats\n",
    "- generate_manual_cmds\n",
    "- Manual photometry\n",
    "- B-V values\n",
    "\n",
    "28April2017_SUN\n",
    "- re-run B-V calculation now that error is included\n",
    "\n",
    "second priority folders:\n",
    "\n",
    "9October2016\n",
    "- Fix folder names\n",
    "- Move the skystats files back into their image folders and rename them\n",
    "- Move the files_and_params file back into it\n",
    "- generate_manual_cmds\n",
    "- Manual photometry\n",
    "- B-V values\n",
    "\n",
    "11February2017\n",
    "- Delete old flux ratio files\n",
    "\n",
    "29October2016\n",
    "- Rename files so that they are for time-8\n",
    "- collect_skystats\n",
    "- tidy_stats\n",
    "- generate_manual_cmds\n",
    "- Manual photometry\n",
    "- B-V values\n",
    "\n",
    "15:07\n",
    "\n",
    "Now going to take some sun photos. Still need cleaning solution. Alice said \"Trevor\" may be able to help me (a grad student) or I could ask Bothun about shopping at the chem store.\n",
    "\n",
    "16:00"
   ]
  },
  {
   "cell_type": "markdown",
   "metadata": {
    "collapsed": true
   },
   "source": [
    "16:26\n",
    "\n",
    "Doing sky stats on 4May, but I accidentally clicked wrong in DS9 and it errored out just as Carol got here. It had a problem on LRGBred in set3 but LRGBluminance was successful right before that. Pick this up later.\n",
    "\n",
    "    Current image /home/emc/GoogleDrive/Phys/Research/BothunLab/SkyPhotos/NewCamera/4May2017_1/set3/LRGBluminance/150microsec/14-31-31-334.FIT\n",
    "\n",
    "\n",
    "    Saving imexam commands to '/home/emc/GoogleDrive/Phys/Research/BothunLab/SkyPhotos/NewCamera/4May2017_1/set3/LRGBred/150microsec/14-31-6-657_sky'\n",
    "\n",
    "16:37"
   ]
  },
  {
   "cell_type": "markdown",
   "metadata": {
    "collapsed": true
   },
   "source": [
    "# 27 May 2017\n",
    "\n",
    "9:07 \n",
    "\n",
    "Starting again on 4 May\n",
    "\n",
    "Finished 4 May"
   ]
  },
  {
   "cell_type": "markdown",
   "metadata": {},
   "source": [
    "** * FIRST PRIORITY: * **\n",
    "\n",
    "**3January2017**\n",
    "\n",
    "Manual photometry  \n",
    "B-V values  \n",
    "\n",
    "**4May2017**\n",
    "\n",
    "<s>collect_skystats</s>  \n",
    "<s>tidy_stats</s>  \n",
    "<s>generate_manual_cmds</s>   \n",
    "Manual photometry  \n",
    "B-V values  \n",
    "\n",
    "**5January2017_SUN**\n",
    "\n",
    "re-calculate B-V values now that error is included  \n",
    "\n",
    "**10April2017_MOON**\n",
    "\n",
    "nothing at this time  \n",
    "\n",
    "**10May2017**\n",
    "\n",
    "<s>collect_skystats</s>  \n",
    "<s>tidy_stats</s>  \n",
    "<s>generate_manual_cmds</s>  \n",
    "Manual photometry  \n",
    "B-V values  \n",
    "\n",
    "**22May2017**\n",
    "\n",
    "<s>collect_skystats</s>  \n",
    "<s>tidy_stats</s>  \n",
    "<s>generate_manual_cmds</s>  \n",
    "Manual photometry  \n",
    "B-V values  \n",
    "\n",
    "**28April2017_SUN**\n",
    "\n",
    "re-run B-V calculation now that error is included  \n",
    "\n",
    "** * SECOND PRIORITY:* **\n",
    "\n",
    "**9October2016**\n",
    "\n",
    "Fix folder names  \n",
    "Move the skystats files back into their image folders and rename them  \n",
    "Move the files_and_params file back into it  \n",
    "generate_manual_cmds  \n",
    "Manual photometry  \n",
    "B-V values  \n",
    "\n",
    "**11February2017**\n",
    "\n",
    "<s>Delete old flux ratio files</s>  \n",
    "\n",
    "**29October2016**\n",
    "\n",
    "Rename files so that they are for time-8  \n",
    "<s>collect_skystats</s>  \n",
    "<s>tidy_stats</s>  \n",
    "<s>generate_manual_cmds</s>  \n",
    "Manual photometry  \n",
    "B-V values  \n",
    "  "
   ]
  },
  {
   "cell_type": "markdown",
   "metadata": {},
   "source": [
    "10:36\n",
    "\n",
    "Fixed a problem with the regular expression for finding the filter in `tidy_stats.py` that was finding false detections in things like the seconds place of the filename, etc. Reran tidy_stats and manual commands for 4May, 10May, 22May.\n",
    "\n",
    "11:00 \n",
    "\n",
    "Taking a break for a while\n",
    "\n",
    "11:52 \n",
    "\n",
    "Back at it. Time for some manual photometry."
   ]
  },
  {
   "cell_type": "markdown",
   "metadata": {},
   "source": [
    "12:48\n",
    "    \n",
    "Manual photometry progress\n",
    "\n",
    "3January2017\n",
    "\n",
    "<s>set1</s>  \n",
    "<s>set2</s>  \n",
    "set3  \n",
    "set4  \n",
    "\n",
    "4May2017\n",
    " \n",
    "set1  \n",
    "set2  \n",
    "set3  \n",
    "set4  \n",
    "set5  \n",
    "\n",
    "10May2017\n",
    "\n",
    "set1  \n",
    "set2  \n",
    "set3  \n",
    "\n",
    "22May2017\n",
    "\n",
    "set1  \n",
    "set2  \n",
    "\n",
    "OTHER STILL TO DO:\n",
    "\n",
    "9October2016\n",
    "\n",
    "Fix folder names  \n",
    "Move the skystats files back into their image folders and rename them  \n",
    "Move the files_and_params file back into it  \n",
    "generate_manual_cmds  \n",
    "Manual photometry  \n",
    "B-V values  \n",
    "\n",
    "29October2016\n",
    "\n",
    "set1  "
   ]
  },
  {
   "cell_type": "markdown",
   "metadata": {},
   "source": [
    "14:00 \n",
    "\n",
    "Fixed the same regex error in `calc_flux_ratio.py`. Prepared the 26May sun data set, which is not in the todo lists above because I just did it yesterday.\n",
    "\n",
    "Let's see if we can quickly show the B-V values for that sun data set. Note that it's still not perfect--there are some lens flares, and in the LRGB blue picture, the sun is super wonky and distorted-- filters def neeed to be cleaned.\n",
    "\n",
    "## Sun B-V values, 26 May 2017, 1 microsec, flux column"
   ]
  },
  {
   "cell_type": "code",
   "execution_count": 18,
   "metadata": {
    "collapsed": false
   },
   "outputs": [
    {
     "data": {
      "text/plain": [
       "{'47-11': -0.05,\n",
       " '47-15': -0.07,\n",
       " '47-LRGBgreen': 0.22,\n",
       " '47-LRGBred': 0.19,\n",
       " '82a-11': 1.22,\n",
       " '82a-15': 1.2,\n",
       " '82a-LRGBgreen': 1.49,\n",
       " '82a-LRGBred': 1.46,\n",
       " 'LRGBblue-11': 0.42,\n",
       " 'LRGBblue-15': 0.4,\n",
       " 'LRGBblue-LRGBgreen': 0.69,\n",
       " 'LRGBblue-LRGBred': 0.66,\n",
       " 'LRGBluminance-11': 1.21,\n",
       " 'LRGBluminance-15': 1.19,\n",
       " 'LRGBluminance-LRGBgreen': 1.48,\n",
       " 'LRGBluminance-LRGBred': 1.45}"
      ]
     },
     "execution_count": 18,
     "metadata": {},
     "output_type": "execute_result"
    }
   ],
   "source": [
    "path = '/home/emc/GoogleDrive/Phys/Research/BothunLab/SkyPhotos/NewCamera/' \\\n",
    "       '26May2017_SUN/set1/'\n",
    "files = !ls SkyPhotos/NewCamera/26May2017_SUN/set1 | grep .csv\n",
    "B_V_sun = {}\n",
    "\n",
    "for fname in files:\n",
    "    longf = path + fname\n",
    "    filters = re.search('(?<=V_).+-.+(?=.csv)', longf).group(0)\n",
    "    with open(longf, 'r') as f:\n",
    "        junk=f.readline()\n",
    "        b_v = f.readline().split(',')[1]\n",
    "        B_V_sun[filters] = round(float(b_v),2)\n",
    "        \n",
    "B_V_sun"
   ]
  },
  {
   "cell_type": "markdown",
   "metadata": {},
   "source": [
    "Compare to that for 5 January:\n",
    "\n",
    "    SUN B-V values (5 January 2017, 5 microsec, Flux column)\n",
    "    ========================================================\n",
    "    LRGBblue-11: 0.37\n",
    "    LRGBblue-15: 0.51\n",
    "    LRGBblue-LRGB red: 1.02\n",
    "    LRGB blue-LRGB green: 0.79\n",
    "\n",
    "    82a-11: 1.32\n",
    "    82a-15: 1.46\n",
    "    82a-LRGB red: 1.97\n",
    "    82a-LRGB green: 1.74\n",
    "\n",
    "    47-11: -0.98\n",
    "    47-15: -0.84\n",
    "    47-LRGB red: -0.33\n",
    "    47-LRGB green: -0.56\n",
    "\n",
    "    LRGB lum-11: 1.31\n",
    "    LRGB lum-15: 1.46\n",
    "    LRGB lum-LRGB red: 1.97\n",
    "    LRGB lum-LRGB green: 1.74"
   ]
  },
  {
   "cell_type": "markdown",
   "metadata": {},
   "source": [
    "Not a lot of consistency... the moon values are way better.\n",
    "\n",
    "14:11\n",
    "\n",
    "15:00\n",
    "\n",
    "Did some more yak-shaving. RE-ran B-V for 10 April moon; fixed up the sun data set from 5 January. Re-ran the difference plots above. I want to make the plot again but including the error bars. \n",
    "\n",
    "Also found cleaning fluid and emailed Bothun about buying it: http://www.telescope.com/Orion-Optics-Cleaning-Fluid-for-Coated-Lenses/p/5810.uts?keyword=optical%20cleaning%20fluid\n",
    "\n",
    "also available on amazon: https://www.amazon.com/Orion-5810-Optics-Cleaning-Coated/dp/B0000XMU4Q\n",
    "\n",
    "TODO:\n",
    "\n",
    "1. Continue with the manual photometry and calculating B-V\n",
    "2. Update plotting routine to incorporate error bars (need to propagate error a little more)\n",
    "3. Update the official plotting script with the plotting routine in this notebook\n",
    "4. Make B-V plots etc for current data\n",
    "5. Clean optics\n",
    "6. Get more data\n",
    "\n",
    "15:05"
   ]
  },
  {
   "cell_type": "markdown",
   "metadata": {
    "collapsed": true
   },
   "source": [
    "# 29 May 2017\n",
    "\n",
    "13:30\n",
    "\n",
    "Continuing with the todo list from above. I think I will work on updating the plotting routine today...\n",
    "\n",
    "**IMPORTANT NOTE** if the calc_flux_ratio script is failing with missing files, you probably didn't do the manual photometry for the None image. You need to do this. \n",
    "\n",
    "14:00\n",
    "\n",
    "break while Hilary was here\n",
    "\n",
    "14:30"
   ]
  },
  {
   "cell_type": "code",
   "execution_count": 16,
   "metadata": {
    "collapsed": false
   },
   "outputs": [],
   "source": [
    "# Get the B-V values of the CLOUDS from the BV files. cloud entry is the first one in\n",
    "# the photometry file.\n",
    "# this example is with 3 January 2017 set 1\n",
    "\n",
    "path = '/home/inkabink/GoogleDrive/Phys/Research/BothunLab/SkyPhotos/NewCamera/' \\\n",
    "       '3January2017_1/set1/'\n",
    "files = !ls SkyPhotos/NewCamera/3January2017_1/set1 | grep .csv\n",
    "filtercombos = []\n",
    "cloudbv = []\n",
    "clouderr = []\n",
    "\n",
    "for fname in files:\n",
    "    longf = path + fname\n",
    "    filters = re.search('(?<=V_).+-.+(?=.csv)', longf).group(0)\n",
    "    filtercombos.append(filters)\n",
    "    \n",
    "    with open(longf, 'r') as f:\n",
    "        junk = f.readline()\n",
    "        dataline = f.readline().split(',')\n",
    "        b_v = round(float(dataline[1]), 3)\n",
    "        err = round(float(dataline[3]), 3)\n",
    "        cloudbv.append(b_v)\n",
    "        clouderr.append(err)\n",
    "        \n",
    "# Get the B-V values of the moon\n",
    "\n",
    "path = '/home/inkabink/GoogleDrive/Phys/Research/BothunLab/SkyPhotos/NewCamera/' \\\n",
    "       '10April2017_MOON_1/set1/'\n",
    "files = !ls SkyPhotos/NewCamera/10April2017_MOON_1/set1 | grep .csv\n",
    "moonbv = []\n",
    "moonerr = []\n",
    "\n",
    "for fname in files:\n",
    "    longf = path + fname\n",
    "    filters = re.search('(?<=V_).+-.+(?=.csv)', longf).group(0)\n",
    "    with open(longf, 'r') as f:\n",
    "        junk = f.readline()\n",
    "        dataline = f.readline().split(',')\n",
    "        b_v = round(float(dataline[1]), 3)\n",
    "        err = round(float(dataline[3]), 3)\n",
    "        moonbv.append(b_v)\n",
    "        moonerr.append(err)\n",
    "\n",
    "# Calculate raw differences of cloud and moon B-V\n",
    "diffs = []\n",
    "for a, b in zip(cloudbv, moonbv):\n",
    "    diffs.append(a - b)"
   ]
  },
  {
   "cell_type": "code",
   "execution_count": 27,
   "metadata": {
    "collapsed": false
   },
   "outputs": [
    {
     "data": {
      "text/plain": [
       "(-1.9690000000000001,\n",
       " 15.968999999999999,\n",
       " -0.23100000000000001,\n",
       " 0.43100000000000011)"
      ]
     },
     "execution_count": 27,
     "metadata": {},
     "output_type": "execute_result"
    },
    {
     "data": {
      "image/png": "[encoded data removed]",
      "text/plain": [
       "<matplotlib.figure.Figure at 0x7f4d2b6d50f0>"
      ]
     },
     "metadata": {},
     "output_type": "display_data"
    }
   ],
   "source": [
    "import matplotlib.patches as mpatches \n",
    "\n",
    "def autolabel(rects, vals):\n",
    "    \"\"\"\n",
    "    Attach a text label above each bar displaying its height\n",
    "    \"\"\"\n",
    "    # get the sign of each value\n",
    "    signs = [i / abs(i) for i in vals]\n",
    "    \n",
    "    for r, s in zip(rects, signs):\n",
    "        height = r.get_height()\n",
    "        multiplier = 1.15 if s < 0 else 1.03   # lets us put labels under negative-valued bars\n",
    "        ax.text(r.get_x() + r.get_width()/2., s*multiplier*height, '{}'.format(round(s * height, 2)),\n",
    "                ha='center', va='bottom', fontsize=12)\n",
    "\n",
    "        \n",
    "ind = np.arange(len(filtercombos))\n",
    "\n",
    "# Determines whether to color a bar gold or blue depending on the value\n",
    "colors = []\n",
    "for d in diffs:\n",
    "    if abs(d) <= 0.05:\n",
    "        colors.append('gold')\n",
    "    else:\n",
    "        colors.append('blue')\n",
    "        \n",
    "gold = mpatches.Patch(color='gold', label='Diff <= 0.05')\n",
    "\n",
    "# Make the plot\n",
    "width = 0.8\n",
    "fig, ax = plt.subplots(figsize=(12,10))\n",
    "bars = ax.bar(ind, diffs, width, align='center', color=colors, alpha=1)\n",
    "\n",
    "xt = ax.set_xticks(ind + width / 2)\n",
    "xtl = ax.set_xticklabels(filtercombos, rotation=\"vertical\")\n",
    "plt.tick_params(axis='both', which='major', labelsize=16)\n",
    "\n",
    "lg = ax.legend(handles=[gold], fontsize=18)\n",
    "ylbl = ax.set_ylabel('(B-V)$_{cloud}$ - (B-V)$_{moon}$', fontsize=18)\n",
    "xlbl = ax.set_xlabel('Filter combination (format: blue - visual)', fontsize = 18)\n",
    "titl = ax.set_title('Difference in measured B-V index of cirrus clouds and the moon \\n' \\\n",
    "                    'using flux, not sum', y=1, \n",
    "                       fontsize=22)\n",
    "\n",
    "autolabel(bars, diffs)\n",
    "\n",
    "margin = max(diffs) * 0.1\n",
    "\n",
    "x0, x1, y0, y1 = plt.axis()\n",
    "plt.axis((x0 + margin,\n",
    "          x1 - margin,\n",
    "          y0 - margin,\n",
    "          y1 + margin))\n",
    "\n",
    "plt.show()"
   ]
  },
  {
   "cell_type": "code",
   "execution_count": 30,
   "metadata": {
    "collapsed": false
   },
   "outputs": [
    {
     "data": {
      "image/png": "[encoded data removed]",
      "text/plain": [
       "<matplotlib.figure.Figure at 0x7f4d323fbf60>"
      ]
     },
     "metadata": {},
     "output_type": "display_data"
    }
   ],
   "source": [
    "ind = np.arange(len(filtercombos))\n",
    "width = 0.4       # the width of the bars\n",
    "\n",
    "fig, ax = plt.subplots(figsize=(20,10))\n",
    "rects1 = ax.bar(ind, cloudbv, width, color='cyan', alpha=0.7, yerr=clouderr)\n",
    "rects2 = ax.bar(ind + width, moonbv, width, color='gray', alpha = 0.8, yerr=moonerr)\n",
    "\n",
    "# add some text for labels, title and axes ticks\n",
    "ylbl = ax.set_ylabel('B-V', fontsize=18)\n",
    "xlbl = ax.set_xlabel('Filter combination (format: blue - visual)', fontsize = 18)\n",
    "titl2 = ax.set_title('B-V of clouds compared to moon', fontsize=22)\n",
    "xt = ax.set_xticks(ind + width / 2)\n",
    "xtl = ax.set_xticklabels(filtercombos, rotation=\"vertical\")\n",
    "lg = ax.legend((rects1[0], rects2[0]), ('Clouds', 'Moon'), fontsize=18)\n",
    "plt.tick_params(axis='both', which='major', labelsize=16)\n",
    "autolabel(rects1, cloudbv)\n",
    "autolabel(rects2, moonbv)\n",
    "plt.show()"
   ]
  },
  {
   "cell_type": "markdown",
   "metadata": {},
   "source": [
    "16:26\n",
    "    \n",
    "Plots are looking good... now to make it into a script so it can be easily called in batch"
   ]
  },
  {
   "cell_type": "markdown",
   "metadata": {
    "collapsed": true
   },
   "source": [
    "17:00\n",
    "\n",
    "took a break for half an hour to move to my desktop, now back at it! incorporating the plotting above into a script.\n",
    "\n",
    "18:03\n",
    "\n",
    "Script is now completed under the name `bv_plots.py`. Current todo list status:\n",
    "\n",
    "TODO:\n",
    "\n",
    "1. Continue with the manual photometry and calculating B-V\n",
    "2. <s>Update plotting routine to incorporate error bars (need to propagate error a little more)</s>\n",
    "3. <s>Update the official plotting script with the plotting routine in this notebook</s>\n",
    "4. Make B-V plots etc for current data\n",
    "5. Clean optics\n",
    "6. Get more data\n",
    "7. Fix instruction list\n",
    "8. Write up\n",
    "9. New poster\n",
    "\n",
    "The last 3 are sort of meta stuff that isn't quite as important since I won't be presenting this anywhere."
   ]
  },
  {
   "cell_type": "code",
   "execution_count": null,
   "metadata": {
    "collapsed": true
   },
   "outputs": [],
   "source": []
  }
 ],
 "metadata": {
  "anaconda-cloud": {},
  "kernelspec": {
   "display_name": "Python 3",
   "language": "python",
   "name": "python3"
  },
  "language_info": {
   "codemirror_mode": {
    "name": "ipython",
    "version": 3
   },
   "file_extension": ".py",
   "mimetype": "text/x-python",
   "name": "python",
   "nbconvert_exporter": "python",
   "pygments_lexer": "ipython3",
   "version": "3.5.1"
  }
 },
 "nbformat": 4,
 "nbformat_minor": 0
}
